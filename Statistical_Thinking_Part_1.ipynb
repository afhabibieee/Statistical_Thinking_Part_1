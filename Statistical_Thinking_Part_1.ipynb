{
  "nbformat": 4,
  "nbformat_minor": 0,
  "metadata": {
    "colab": {
      "name": "Statistical_Thinking_Part_1.ipynb",
      "provenance": [],
      "collapsed_sections": [],
      "authorship_tag": "ABX9TyP2h2fbzrhbV2jH5MVrmFil",
      "include_colab_link": true
    },
    "kernelspec": {
      "name": "python3",
      "display_name": "Python 3"
    }
  },
  "cells": [
    {
      "cell_type": "markdown",
      "metadata": {
        "id": "view-in-github",
        "colab_type": "text"
      },
      "source": [
        "<a href=\"https://colab.research.google.com/github/afhabibieee/Statistical_Thinking_Part_1/blob/main/Statistical_Thinking_Part_1.ipynb\" target=\"_parent\"><img src=\"https://colab.research.google.com/assets/colab-badge.svg\" alt=\"Open In Colab\"/></a>"
      ]
    },
    {
      "cell_type": "code",
      "metadata": {
        "id": "49sDsC9YFwwf"
      },
      "source": [
        "# import library\n",
        "\n",
        "import pandas as pd\n",
        "import numpy as np\n",
        "import matplotlib.pyplot as plt\n",
        "import seaborn as sns"
      ],
      "execution_count": 1,
      "outputs": []
    },
    {
      "cell_type": "code",
      "metadata": {
        "colab": {
          "base_uri": "https://localhost:8080/"
        },
        "id": "u3PfYgUX-DjP",
        "outputId": "8df1bac6-3288-416b-b829-eecfdd33af00"
      },
      "source": [
        "# Mounting drive\n",
        "\n",
        "from google.colab import drive\n",
        "drive.mount('/content/drive')"
      ],
      "execution_count": 2,
      "outputs": [
        {
          "output_type": "stream",
          "text": [
            "Mounted at /content/drive\n"
          ],
          "name": "stdout"
        }
      ]
    },
    {
      "cell_type": "markdown",
      "metadata": {
        "id": "oVaS95GgZzqL"
      },
      "source": [
        "#Graphical exploratory data analysis"
      ]
    },
    {
      "cell_type": "markdown",
      "metadata": {
        "id": "MZpLy41BEJSQ"
      },
      "source": [
        "Iris Dataset"
      ]
    },
    {
      "cell_type": "code",
      "metadata": {
        "id": "V8_A-OoVGOwC"
      },
      "source": [
        "# Load iris dataset\n",
        "\n",
        "iris = pd.read_csv('/content/drive/My Drive/ColabNotebooks/Datasets/Iris.csv', index_col=0)"
      ],
      "execution_count": 3,
      "outputs": []
    },
    {
      "cell_type": "code",
      "metadata": {
        "id": "ML78-AzaIQLq",
        "colab": {
          "base_uri": "https://localhost:8080/",
          "height": 235
        },
        "outputId": "b9b36134-68bc-45f9-df5f-115e8d28127b"
      },
      "source": [
        "iris.head()"
      ],
      "execution_count": 4,
      "outputs": [
        {
          "output_type": "execute_result",
          "data": {
            "text/html": [
              "<div>\n",
              "<style scoped>\n",
              "    .dataframe tbody tr th:only-of-type {\n",
              "        vertical-align: middle;\n",
              "    }\n",
              "\n",
              "    .dataframe tbody tr th {\n",
              "        vertical-align: top;\n",
              "    }\n",
              "\n",
              "    .dataframe thead th {\n",
              "        text-align: right;\n",
              "    }\n",
              "</style>\n",
              "<table border=\"1\" class=\"dataframe\">\n",
              "  <thead>\n",
              "    <tr style=\"text-align: right;\">\n",
              "      <th></th>\n",
              "      <th>SepalLengthCm</th>\n",
              "      <th>SepalWidthCm</th>\n",
              "      <th>PetalLengthCm</th>\n",
              "      <th>PetalWidthCm</th>\n",
              "      <th>Species</th>\n",
              "    </tr>\n",
              "    <tr>\n",
              "      <th>Id</th>\n",
              "      <th></th>\n",
              "      <th></th>\n",
              "      <th></th>\n",
              "      <th></th>\n",
              "      <th></th>\n",
              "    </tr>\n",
              "  </thead>\n",
              "  <tbody>\n",
              "    <tr>\n",
              "      <th>1</th>\n",
              "      <td>5.1</td>\n",
              "      <td>3.5</td>\n",
              "      <td>1.4</td>\n",
              "      <td>0.2</td>\n",
              "      <td>Iris-setosa</td>\n",
              "    </tr>\n",
              "    <tr>\n",
              "      <th>2</th>\n",
              "      <td>4.9</td>\n",
              "      <td>3.0</td>\n",
              "      <td>1.4</td>\n",
              "      <td>0.2</td>\n",
              "      <td>Iris-setosa</td>\n",
              "    </tr>\n",
              "    <tr>\n",
              "      <th>3</th>\n",
              "      <td>4.7</td>\n",
              "      <td>3.2</td>\n",
              "      <td>1.3</td>\n",
              "      <td>0.2</td>\n",
              "      <td>Iris-setosa</td>\n",
              "    </tr>\n",
              "    <tr>\n",
              "      <th>4</th>\n",
              "      <td>4.6</td>\n",
              "      <td>3.1</td>\n",
              "      <td>1.5</td>\n",
              "      <td>0.2</td>\n",
              "      <td>Iris-setosa</td>\n",
              "    </tr>\n",
              "    <tr>\n",
              "      <th>5</th>\n",
              "      <td>5.0</td>\n",
              "      <td>3.6</td>\n",
              "      <td>1.4</td>\n",
              "      <td>0.2</td>\n",
              "      <td>Iris-setosa</td>\n",
              "    </tr>\n",
              "  </tbody>\n",
              "</table>\n",
              "</div>"
            ],
            "text/plain": [
              "    SepalLengthCm  SepalWidthCm  PetalLengthCm  PetalWidthCm      Species\n",
              "Id                                                                       \n",
              "1             5.1           3.5            1.4           0.2  Iris-setosa\n",
              "2             4.9           3.0            1.4           0.2  Iris-setosa\n",
              "3             4.7           3.2            1.3           0.2  Iris-setosa\n",
              "4             4.6           3.1            1.5           0.2  Iris-setosa\n",
              "5             5.0           3.6            1.4           0.2  Iris-setosa"
            ]
          },
          "metadata": {
            "tags": []
          },
          "execution_count": 4
        }
      ]
    },
    {
      "cell_type": "code",
      "metadata": {
        "id": "zraN8VcXIY8g"
      },
      "source": [
        "# Subsetting iris database based on name of species respectively\n",
        "\n",
        "setosa = iris[iris['Species']=='Iris-setosa']\n",
        "versicolor = iris[iris['Species']=='Iris-versicolor']\n",
        "virginica = iris[iris['Species']=='Iris-virginica']\n",
        "\n",
        "# taking one of the features, is petal length\n",
        "\n",
        "set_petal_length = setosa['PetalLengthCm']\n",
        "ver_petal_length = versicolor['PetalLengthCm']\n",
        "virg_petal_length = virginica['PetalLengthCm']"
      ],
      "execution_count": 5,
      "outputs": []
    },
    {
      "cell_type": "code",
      "metadata": {
        "id": "7OiPTJPZaNyQ"
      },
      "source": [
        "# plotting the histogram\n",
        "\n",
        "def hist_plot(data, n_bins, *labelxy):\n",
        "  '''receive an array, the number of bins and label\n",
        "  as well as plotting them to the histogram'''\n",
        "  sns.set()\n",
        "  _ = plt.hist(data, bins=n_bins)\n",
        "  _ = plt.xlabel(labelxy[0])\n",
        "  _ = plt.ylabel(labelxy[1])\n",
        "  plt.show()\n",
        "  plt.clf()"
      ],
      "execution_count": 6,
      "outputs": []
    },
    {
      "cell_type": "markdown",
      "metadata": {
        "id": "0TiUNrp5ISYE"
      },
      "source": [
        "Untuk ukuran bins bisa berbeda-beda, https://numpy.org/devdocs/reference/generated/numpy.histogram_bin_edges.html.\n",
        "\n",
        "Concern-nya di masalah ukuran bins yang berbeda, maka penarikan kesimpulan juga berbeda"
      ]
    },
    {
      "cell_type": "code",
      "metadata": {
        "colab": {
          "base_uri": "https://localhost:8080/",
          "height": 570
        },
        "id": "D94w5GULbcvF",
        "outputId": "0255743a-014e-4d4c-e99d-c8f14ae3fab1"
      },
      "source": [
        "hist_plot(ver_petal_length, 'fd', 'Petal length (Cm)', 'Count')\n",
        "hist_plot(ver_petal_length, [3, 3.5, 4, 4.5, 5, 5.5],\n",
        "          'Petal length (Cm)', 'Count')"
      ],
      "execution_count": 7,
      "outputs": [
        {
          "output_type": "display_data",
          "data": {
            "image/png": "[encoded data removed]",
            "text/plain": [
              "<Figure size 432x288 with 1 Axes>"
            ]
          },
          "metadata": {
            "tags": []
          }
        },
        {
          "output_type": "display_data",
          "data": {
            "image/png": "[encoded data removed]",
            "text/plain": [
              "<Figure size 432x288 with 1 Axes>"
            ]
          },
          "metadata": {
            "tags": []
          }
        },
        {
          "output_type": "display_data",
          "data": {
            "text/plain": [
              "<Figure size 432x288 with 0 Axes>"
            ]
          },
          "metadata": {
            "tags": []
          }
        }
      ]
    },
    {
      "cell_type": "markdown",
      "metadata": {
        "id": "Jre9kO6YKAJm"
      },
      "source": [
        "---\n",
        "Alternatif dari masalah variasi jumlah bins pada Histogram adalah menggunakan Bee swarm plot"
      ]
    },
    {
      "cell_type": "code",
      "metadata": {
        "colab": {
          "base_uri": "https://localhost:8080/",
          "height": 356
        },
        "id": "OGeOwLrZkH0V",
        "outputId": "31085f98-37b4-4900-940e-ade8f10350fc"
      },
      "source": [
        "# Plotting the Bee swarm plot\n",
        "\n",
        "_ = sns.swarmplot(x='Species', y='PetalLengthCm', data=iris)\n",
        "_ = plt.xlabel('species')\n",
        "_ = plt.ylabel('petal length (cm)')\n",
        "plt.plot()"
      ],
      "execution_count": 8,
      "outputs": [
        {
          "output_type": "stream",
          "text": [
            "/usr/local/lib/python3.7/dist-packages/seaborn/categorical.py:1296: UserWarning: 14.0% of the points cannot be placed; you may want to decrease the size of the markers or use stripplot.\n",
            "  warnings.warn(msg, UserWarning)\n"
          ],
          "name": "stderr"
        },
        {
          "output_type": "execute_result",
          "data": {
            "text/plain": [
              "[]"
            ]
          },
          "metadata": {
            "tags": []
          },
          "execution_count": 8
        },
        {
          "output_type": "display_data",
          "data": {
            "image/png": "[encoded data removed]",
            "text/plain": [
              "<Figure size 432x288 with 1 Axes>"
            ]
          },
          "metadata": {
            "tags": []
          }
        }
      ]
    },
    {
      "cell_type": "markdown",
      "metadata": {
        "id": "wWMn3aK7PRdB"
      },
      "source": [
        "Permasalah lain dari plot ini kalau jumlah data pada tiap species banyak. nantinya tepi/edges tiap species overlapping, jadinya obfuscated dari summaries of data."
      ]
    },
    {
      "cell_type": "markdown",
      "metadata": {
        "id": "uuluQxxuPyul"
      },
      "source": [
        "---\n",
        "Alternatif lain dari bee swarm plot adalah ECDF. penarikan kesimpulan juga sedikit berbeda."
      ]
    },
    {
      "cell_type": "code",
      "metadata": {
        "id": "6ag_IR6EK0RT"
      },
      "source": [
        "# Empirical cumulative distribution function / ECDF\n",
        "\n",
        "def ecdf(data):\n",
        "  n = len(data)\n",
        "  x = np.sort(data)\n",
        "  y = np.arange(1, n+1) / n\n",
        "  return x, y"
      ],
      "execution_count": 9,
      "outputs": []
    },
    {
      "cell_type": "code",
      "metadata": {
        "colab": {
          "base_uri": "https://localhost:8080/",
          "height": 302
        },
        "id": "spWKs6TAMMUK",
        "outputId": "a8324ec5-3424-4e78-968c-19c33b136859"
      },
      "source": [
        "# Plot ecdf from petal length each species\n",
        "\n",
        "x_set, y_set = ecdf(set_petal_length)\n",
        "x_ver, y_ver = ecdf(ver_petal_length)\n",
        "x_virg, y_virg = ecdf(virg_petal_length)\n",
        "\n",
        "sns.set()\n",
        "_ = plt.plot(x_set, y_set, marker='.', linestyle='none')\n",
        "_ = plt.plot(x_ver, y_ver, marker='.', linestyle='none')\n",
        "_ = plt.plot(x_virg, y_virg, marker='.', linestyle='none')\n",
        "_ = plt.xlabel('Petal length (Cm)')\n",
        "_ = plt.ylabel('ECDF')\n",
        "_ = plt.legend(('Setosa', 'Versicolor', 'Virginica'), loc='best')\n",
        "plt.show()\n",
        "plt.clf()"
      ],
      "execution_count": 10,
      "outputs": [
        {
          "output_type": "display_data",
          "data": {
            "image/png": "[encoded data removed]",
            "text/plain": [
              "<Figure size 432x288 with 1 Axes>"
            ]
          },
          "metadata": {
            "tags": []
          }
        },
        {
          "output_type": "display_data",
          "data": {
            "text/plain": [
              "<Figure size 432x288 with 0 Axes>"
            ]
          },
          "metadata": {
            "tags": []
          }
        }
      ]
    },
    {
      "cell_type": "markdown",
      "metadata": {
        "id": "EOZk4IvOQGog"
      },
      "source": [
        "Misalnya 80% dari iris setosa memiliki panjang petal kurang dari 6 cm. atau bahasanya, 80% dari panjang petal pada iris setosa kurang dari 6 cm"
      ]
    },
    {
      "cell_type": "markdown",
      "metadata": {
        "id": "tP1QreEWWiLT"
      },
      "source": [
        "---\n",
        "Swing state dataset"
      ]
    },
    {
      "cell_type": "code",
      "metadata": {
        "id": "PpRW1BHWCWpY"
      },
      "source": [
        "# Load dataset 2008 swing states that contain three satates,\n",
        "# which are Pennsylvania, Ohio and Florida\n",
        "\n",
        "swing_states = pd.read_csv('/content/drive/My Drive/ColabNotebooks/Datasets/2008_swing_states.csv')"
      ],
      "execution_count": 11,
      "outputs": []
    },
    {
      "cell_type": "code",
      "metadata": {
        "colab": {
          "base_uri": "https://localhost:8080/",
          "height": 204
        },
        "id": "Mx-buiBrD-Ze",
        "outputId": "6e1593e7-60e3-4401-9001-ed0229afbd8e"
      },
      "source": [
        "swing_states.head()"
      ],
      "execution_count": 12,
      "outputs": [
        {
          "output_type": "execute_result",
          "data": {
            "text/html": [
              "<div>\n",
              "<style scoped>\n",
              "    .dataframe tbody tr th:only-of-type {\n",
              "        vertical-align: middle;\n",
              "    }\n",
              "\n",
              "    .dataframe tbody tr th {\n",
              "        vertical-align: top;\n",
              "    }\n",
              "\n",
              "    .dataframe thead th {\n",
              "        text-align: right;\n",
              "    }\n",
              "</style>\n",
              "<table border=\"1\" class=\"dataframe\">\n",
              "  <thead>\n",
              "    <tr style=\"text-align: right;\">\n",
              "      <th></th>\n",
              "      <th>state</th>\n",
              "      <th>county</th>\n",
              "      <th>total_votes</th>\n",
              "      <th>dem_votes</th>\n",
              "      <th>rep_votes</th>\n",
              "      <th>dem_share</th>\n",
              "    </tr>\n",
              "  </thead>\n",
              "  <tbody>\n",
              "    <tr>\n",
              "      <th>0</th>\n",
              "      <td>PA</td>\n",
              "      <td>Erie County</td>\n",
              "      <td>127691</td>\n",
              "      <td>75775</td>\n",
              "      <td>50351</td>\n",
              "      <td>60.08</td>\n",
              "    </tr>\n",
              "    <tr>\n",
              "      <th>1</th>\n",
              "      <td>PA</td>\n",
              "      <td>Bradford County</td>\n",
              "      <td>25787</td>\n",
              "      <td>10306</td>\n",
              "      <td>15057</td>\n",
              "      <td>40.64</td>\n",
              "    </tr>\n",
              "    <tr>\n",
              "      <th>2</th>\n",
              "      <td>PA</td>\n",
              "      <td>Tioga County</td>\n",
              "      <td>17984</td>\n",
              "      <td>6390</td>\n",
              "      <td>11326</td>\n",
              "      <td>36.07</td>\n",
              "    </tr>\n",
              "    <tr>\n",
              "      <th>3</th>\n",
              "      <td>PA</td>\n",
              "      <td>McKean County</td>\n",
              "      <td>15947</td>\n",
              "      <td>6465</td>\n",
              "      <td>9224</td>\n",
              "      <td>41.21</td>\n",
              "    </tr>\n",
              "    <tr>\n",
              "      <th>4</th>\n",
              "      <td>PA</td>\n",
              "      <td>Potter County</td>\n",
              "      <td>7507</td>\n",
              "      <td>2300</td>\n",
              "      <td>5109</td>\n",
              "      <td>31.04</td>\n",
              "    </tr>\n",
              "  </tbody>\n",
              "</table>\n",
              "</div>"
            ],
            "text/plain": [
              "  state           county  total_votes  dem_votes  rep_votes  dem_share\n",
              "0    PA      Erie County       127691      75775      50351      60.08\n",
              "1    PA  Bradford County        25787      10306      15057      40.64\n",
              "2    PA     Tioga County        17984       6390      11326      36.07\n",
              "3    PA    McKean County        15947       6465       9224      41.21\n",
              "4    PA    Potter County         7507       2300       5109      31.04"
            ]
          },
          "metadata": {
            "tags": []
          },
          "execution_count": 12
        }
      ]
    },
    {
      "cell_type": "code",
      "metadata": {
        "id": "VEoOTsKFE0Q8"
      },
      "source": [
        "# subsetting dem_share array that i choose,\n",
        "# which are persentage of votes for Democrate Party / Obama\n",
        "\n",
        "dem_share = swing_states['dem_share']"
      ],
      "execution_count": 13,
      "outputs": []
    },
    {
      "cell_type": "code",
      "metadata": {
        "colab": {
          "base_uri": "https://localhost:8080/",
          "height": 302
        },
        "id": "BQl1-peHJDJ3",
        "outputId": "f0544539-f43f-4e6b-eb5b-0e5833d5ea1d"
      },
      "source": [
        "# plot the histogram\n",
        "\n",
        "hist_plot(dem_share, 10, 'Percent vote for Obama', 'Number of counties')"
      ],
      "execution_count": 14,
      "outputs": [
        {
          "output_type": "display_data",
          "data": {
            "image/png": "[encoded data removed]",
            "text/plain": [
              "<Figure size 432x288 with 1 Axes>"
            ]
          },
          "metadata": {
            "tags": []
          }
        },
        {
          "output_type": "display_data",
          "data": {
            "text/plain": [
              "<Figure size 432x288 with 0 Axes>"
            ]
          },
          "metadata": {
            "tags": []
          }
        }
      ]
    },
    {
      "cell_type": "code",
      "metadata": {
        "colab": {
          "base_uri": "https://localhost:8080/",
          "height": 302
        },
        "id": "EVG2gnNiMKuq",
        "outputId": "1c66f7a6-d4f1-4b30-9927-28033828eea8"
      },
      "source": [
        "# plot the Bee swarm plot\n",
        "\n",
        "_ = sns.swarmplot(x='state', y='dem_share', data=swing_states)\n",
        "_ = plt.xlabel('State')\n",
        "_ = plt.ylabel('Percent of vote for Obama')\n",
        "plt.show()\n",
        "plt.clf()"
      ],
      "execution_count": 15,
      "outputs": [
        {
          "output_type": "display_data",
          "data": {
            "image/png": "[encoded data removed]",
            "text/plain": [
              "<Figure size 432x288 with 1 Axes>"
            ]
          },
          "metadata": {
            "tags": []
          }
        },
        {
          "output_type": "display_data",
          "data": {
            "text/plain": [
              "<Figure size 432x288 with 0 Axes>"
            ]
          },
          "metadata": {
            "tags": []
          }
        }
      ]
    },
    {
      "cell_type": "code",
      "metadata": {
        "colab": {
          "base_uri": "https://localhost:8080/",
          "height": 302
        },
        "id": "ICI3O6C6N_vc",
        "outputId": "be20ead1-0760-48f3-a2e3-b6b83e8fe0c1"
      },
      "source": [
        "# Plotting the ecdf from the swing state entirely\n",
        "\n",
        "x, y = ecdf(dem_share)\n",
        "\n",
        "_ = plt.plot(x, y, marker='.', linestyle='none')\n",
        "_ = plt.xlabel('Percent of vote for Obama')\n",
        "_ = plt.ylabel('ECDF')\n",
        "plt.margins(0.02)\n",
        "plt.show()\n",
        "plt.clf()"
      ],
      "execution_count": 16,
      "outputs": [
        {
          "output_type": "display_data",
          "data": {
            "image/png": "[encoded data removed]",
            "text/plain": [
              "<Figure size 432x288 with 1 Axes>"
            ]
          },
          "metadata": {
            "tags": []
          }
        },
        {
          "output_type": "display_data",
          "data": {
            "text/plain": [
              "<Figure size 432x288 with 0 Axes>"
            ]
          },
          "metadata": {
            "tags": []
          }
        }
      ]
    },
    {
      "cell_type": "code",
      "metadata": {
        "colab": {
          "base_uri": "https://localhost:8080/"
        },
        "id": "9CGjXh1dao_2",
        "outputId": "0820048a-bf4b-4e2b-fe98-38b0de39f368"
      },
      "source": [
        "np.mean(y)"
      ],
      "execution_count": 17,
      "outputs": [
        {
          "output_type": "execute_result",
          "data": {
            "text/plain": [
              "0.5022522522522522"
            ]
          },
          "metadata": {
            "tags": []
          },
          "execution_count": 17
        }
      ]
    },
    {
      "cell_type": "code",
      "metadata": {
        "colab": {
          "base_uri": "https://localhost:8080/",
          "height": 302
        },
        "id": "rnqaQVmwRnTr",
        "outputId": "4d8a8082-f7ba-4cba-9840-2230cfc0da62"
      },
      "source": [
        "# Plotting ECDFs of tree swing state respectively\n",
        "\n",
        "x_pa, y_pa = ecdf(dem_share[swing_states['state']=='PA'])\n",
        "x_oh, y_oh = ecdf(dem_share[swing_states['state']=='OH'])\n",
        "x_fl, y_fl = ecdf(dem_share[swing_states['state']=='FL'])\n",
        "\n",
        "_ = plt.plot(x_pa, y_pa, marker='.', linestyle='none')\n",
        "_ = plt.plot(x_oh, y_oh, marker='.', linestyle='none')\n",
        "_ = plt.plot(x_fl, y_fl, marker='.', linestyle='none')\n",
        "_ = plt.xlabel('Persent of vote for Obama')\n",
        "_ = plt.ylabel('ECDF')\n",
        "_ = plt.legend(('PA', 'OH', 'FL'), loc='best')\n",
        "plt.show()\n",
        "plt.clf()"
      ],
      "execution_count": 18,
      "outputs": [
        {
          "output_type": "display_data",
          "data": {
            "image/png": "[encoded data removed]",
            "text/plain": [
              "<Figure size 432x288 with 1 Axes>"
            ]
          },
          "metadata": {
            "tags": []
          }
        },
        {
          "output_type": "display_data",
          "data": {
            "text/plain": [
              "<Figure size 432x288 with 0 Axes>"
            ]
          },
          "metadata": {
            "tags": []
          }
        }
      ]
    },
    {
      "cell_type": "markdown",
      "metadata": {
        "id": "V_8ZdiT8UI9T"
      },
      "source": [
        "# Quantitative exploratory data analysis"
      ]
    },
    {
      "cell_type": "code",
      "metadata": {
        "id": "D8SgK5wNVCzX",
        "colab": {
          "base_uri": "https://localhost:8080/"
        },
        "outputId": "570f165e-7b85-48b4-875d-856c70395712"
      },
      "source": [
        "# The mean of percentage of vote for Obama\n",
        "\n",
        "np_mean_dem_share = np.mean(dem_share)\n",
        "np_mean_dem_share"
      ],
      "execution_count": 19,
      "outputs": [
        {
          "output_type": "execute_result",
          "data": {
            "text/plain": [
              "43.76441441441444"
            ]
          },
          "metadata": {
            "tags": []
          },
          "execution_count": 19
        }
      ]
    },
    {
      "cell_type": "markdown",
      "metadata": {
        "id": "XwpEROGvcn-G"
      },
      "source": [
        "The mean is influenced by the outlier, but the median is immune to data that take on extreme values"
      ]
    },
    {
      "cell_type": "code",
      "metadata": {
        "colab": {
          "base_uri": "https://localhost:8080/"
        },
        "id": "4fhSF1Zybt6k",
        "outputId": "0f588d1d-c206-4aec-fd44-a36dc4aabf87"
      },
      "source": [
        "# The median of percentage of vote for Obama\n",
        "\n",
        "median_dem_share = np.median(dem_share)\n",
        "median_dem_share"
      ],
      "execution_count": 20,
      "outputs": [
        {
          "output_type": "execute_result",
          "data": {
            "text/plain": [
              "43.185"
            ]
          },
          "metadata": {
            "tags": []
          },
          "execution_count": 20
        }
      ]
    },
    {
      "cell_type": "code",
      "metadata": {
        "colab": {
          "base_uri": "https://localhost:8080/"
        },
        "id": "lHCjLpSAeDcA",
        "outputId": "c3b7571d-f5d7-4c2a-a36a-a4193af1bfec"
      },
      "source": [
        "# The percentile of percentage of vote for Obama\n",
        "\n",
        "per_dem_share = np.percentile(dem_share, [25, 50, 75])\n",
        "per_dem_share"
      ],
      "execution_count": 21,
      "outputs": [
        {
          "output_type": "execute_result",
          "data": {
            "text/plain": [
              "array([37.3025, 43.185 , 49.925 ])"
            ]
          },
          "metadata": {
            "tags": []
          },
          "execution_count": 21
        }
      ]
    },
    {
      "cell_type": "markdown",
      "metadata": {
        "id": "tDlhgHotgbPK"
      },
      "source": [
        "plotting untuk penarikan kesimpulan statistik berdasarkan presentil dengan menampilkan fitur yang menonjol pada dataset salah satunya dengan menggunakan Boxplot. Dan boxplot juga salah satu alternatif dari soluri kekurangan Bee swarm plot selain ECDF"
      ]
    },
    {
      "cell_type": "code",
      "metadata": {
        "colab": {
          "base_uri": "https://localhost:8080/",
          "height": 204
        },
        "id": "FPyJUNbRhSQX",
        "outputId": "880e7006-3807-40af-c0b4-0c25b49c48b6"
      },
      "source": [
        "# Shows the deficiencies of the Bee swarm plot\n",
        "# import data all states\n",
        "\n",
        "all_state = pd.read_csv('/content/drive/My Drive/ColabNotebooks/Datasets/2008_all_states.csv')\n",
        "all_state.head()"
      ],
      "execution_count": 22,
      "outputs": [
        {
          "output_type": "execute_result",
          "data": {
            "text/html": [
              "<div>\n",
              "<style scoped>\n",
              "    .dataframe tbody tr th:only-of-type {\n",
              "        vertical-align: middle;\n",
              "    }\n",
              "\n",
              "    .dataframe tbody tr th {\n",
              "        vertical-align: top;\n",
              "    }\n",
              "\n",
              "    .dataframe thead th {\n",
              "        text-align: right;\n",
              "    }\n",
              "</style>\n",
              "<table border=\"1\" class=\"dataframe\">\n",
              "  <thead>\n",
              "    <tr style=\"text-align: right;\">\n",
              "      <th></th>\n",
              "      <th>state</th>\n",
              "      <th>county</th>\n",
              "      <th>total_votes</th>\n",
              "      <th>dem_votes</th>\n",
              "      <th>rep_votes</th>\n",
              "      <th>other_votes</th>\n",
              "      <th>dem_share</th>\n",
              "      <th>east_west</th>\n",
              "    </tr>\n",
              "  </thead>\n",
              "  <tbody>\n",
              "    <tr>\n",
              "      <th>0</th>\n",
              "      <td>AK</td>\n",
              "      <td>State House District 8, Denali-University</td>\n",
              "      <td>10320</td>\n",
              "      <td>4995</td>\n",
              "      <td>4983</td>\n",
              "      <td>342</td>\n",
              "      <td>50.06</td>\n",
              "      <td>west</td>\n",
              "    </tr>\n",
              "    <tr>\n",
              "      <th>1</th>\n",
              "      <td>AK</td>\n",
              "      <td>State House District 37, Bristol Bay-Aleuti</td>\n",
              "      <td>4665</td>\n",
              "      <td>1868</td>\n",
              "      <td>2661</td>\n",
              "      <td>136</td>\n",
              "      <td>41.24</td>\n",
              "      <td>west</td>\n",
              "    </tr>\n",
              "    <tr>\n",
              "      <th>2</th>\n",
              "      <td>AK</td>\n",
              "      <td>State House District 12, Richardson-Glenn H</td>\n",
              "      <td>7589</td>\n",
              "      <td>1914</td>\n",
              "      <td>5467</td>\n",
              "      <td>208</td>\n",
              "      <td>25.93</td>\n",
              "      <td>west</td>\n",
              "    </tr>\n",
              "    <tr>\n",
              "      <th>3</th>\n",
              "      <td>AK</td>\n",
              "      <td>State House District 13, Greater Palmer</td>\n",
              "      <td>11526</td>\n",
              "      <td>2800</td>\n",
              "      <td>8432</td>\n",
              "      <td>294</td>\n",
              "      <td>24.93</td>\n",
              "      <td>west</td>\n",
              "    </tr>\n",
              "    <tr>\n",
              "      <th>4</th>\n",
              "      <td>AK</td>\n",
              "      <td>State House District 14, Greater Wasilla</td>\n",
              "      <td>10456</td>\n",
              "      <td>2132</td>\n",
              "      <td>8108</td>\n",
              "      <td>216</td>\n",
              "      <td>20.82</td>\n",
              "      <td>west</td>\n",
              "    </tr>\n",
              "  </tbody>\n",
              "</table>\n",
              "</div>"
            ],
            "text/plain": [
              "  state                                       county  ...  dem_share  east_west\n",
              "0    AK    State House District 8, Denali-University  ...      50.06       west\n",
              "1    AK  State House District 37, Bristol Bay-Aleuti  ...      41.24       west\n",
              "2    AK  State House District 12, Richardson-Glenn H  ...      25.93       west\n",
              "3    AK      State House District 13, Greater Palmer  ...      24.93       west\n",
              "4    AK     State House District 14, Greater Wasilla  ...      20.82       west\n",
              "\n",
              "[5 rows x 8 columns]"
            ]
          },
          "metadata": {
            "tags": []
          },
          "execution_count": 22
        }
      ]
    },
    {
      "cell_type": "code",
      "metadata": {
        "colab": {
          "base_uri": "https://localhost:8080/",
          "height": 390
        },
        "id": "1uZtj3OVkE-d",
        "outputId": "9115667b-d64f-4b77-b804-2dc33d0257c1"
      },
      "source": [
        "# See how bad it is when using the bee swam plot\n",
        "\n",
        "_ = sns.swarmplot(x='east_west', y='dem_share', data=all_state)\n",
        "_ = plt.xlabel('Region')\n",
        "_ = plt.ylabel('Percent of vote for Obama')\n",
        "plt.show()\n",
        "plt.clf()"
      ],
      "execution_count": 23,
      "outputs": [
        {
          "output_type": "stream",
          "text": [
            "/usr/local/lib/python3.7/dist-packages/seaborn/categorical.py:1296: UserWarning: 54.2% of the points cannot be placed; you may want to decrease the size of the markers or use stripplot.\n",
            "  warnings.warn(msg, UserWarning)\n",
            "/usr/local/lib/python3.7/dist-packages/seaborn/categorical.py:1296: UserWarning: 58.4% of the points cannot be placed; you may want to decrease the size of the markers or use stripplot.\n",
            "  warnings.warn(msg, UserWarning)\n"
          ],
          "name": "stderr"
        },
        {
          "output_type": "display_data",
          "data": {
            "image/png": "[encoded data removed]",
            "text/plain": [
              "<Figure size 432x288 with 1 Axes>"
            ]
          },
          "metadata": {
            "tags": []
          }
        },
        {
          "output_type": "display_data",
          "data": {
            "text/plain": [
              "<Figure size 432x288 with 0 Axes>"
            ]
          },
          "metadata": {
            "tags": []
          }
        }
      ]
    },
    {
      "cell_type": "code",
      "metadata": {
        "colab": {
          "base_uri": "https://localhost:8080/",
          "height": 302
        },
        "id": "BIN5Uv4eihqO",
        "outputId": "76415c78-2646-434a-cdca-eb454e692bbc"
      },
      "source": [
        "# Subsetting dems_share and east_west features and assign it to boxplot\n",
        "\n",
        "_ = sns.boxplot(x='east_west', y='dem_share', data=all_state)\n",
        "_ = plt.xlabel('Region')\n",
        "_ = plt.ylabel('Percent of vote for Obama')\n",
        "plt.show()\n",
        "plt.clf()"
      ],
      "execution_count": 24,
      "outputs": [
        {
          "output_type": "display_data",
          "data": {
            "image/png": "[encoded data removed]",
            "text/plain": [
              "<Figure size 432x288 with 1 Axes>"
            ]
          },
          "metadata": {
            "tags": []
          }
        },
        {
          "output_type": "display_data",
          "data": {
            "text/plain": [
              "<Figure size 432x288 with 0 Axes>"
            ]
          },
          "metadata": {
            "tags": []
          }
        }
      ]
    },
    {
      "cell_type": "markdown",
      "metadata": {
        "id": "DjJ8ZmypohuI"
      },
      "source": [
        "The total height of the box contains the middle 50% of the data, is called the interquartile range / IQR\n",
        "\n",
        "The median and the 50th percentile of data are same value.\n",
        "\n",
        "The whiskers extend a distance of 1-point-5 times the IQR, or to the extent of the data, whichever is more extreme.\n",
        "\n",
        "Finally, any points outside of the whiskers are plotted"
      ]
    },
    {
      "cell_type": "code",
      "metadata": {
        "id": "DHfDmeM2lQyD"
      },
      "source": [
        "# separates the percent of vote for Obama from the west and the east\n",
        "\n",
        "dem_share_west = all_state['dem_share'][all_state['east_west']=='west']\n",
        "dem_share_east = all_state['dem_share'][all_state['east_west']=='east']"
      ],
      "execution_count": 25,
      "outputs": []
    },
    {
      "cell_type": "code",
      "metadata": {
        "colab": {
          "base_uri": "https://localhost:8080/"
        },
        "id": "iQdiadrkmqQm",
        "outputId": "2bdd2755-e239-4ec4-ece6-2ec68b38585f"
      },
      "source": [
        "# percentile from west\n",
        "\n",
        "per_west = np.percentile(dem_share_west, [25, 50, 75])\n",
        "print(per_west)\n",
        "\n",
        "# percentile from east\n",
        "\n",
        "per_east = np.percentile(dem_share_east, [25, 50, 75])\n",
        "print(per_east)"
      ],
      "execution_count": 26,
      "outputs": [
        {
          "output_type": "stream",
          "text": [
            "[28.2625 37.425  48.1825]\n",
            "[36.41  44.86  53.355]\n"
          ],
          "name": "stdout"
        }
      ]
    },
    {
      "cell_type": "markdown",
      "metadata": {
        "id": "OieTXMZZ6pM8"
      },
      "source": [
        "---\n",
        "variance and standard deviation"
      ]
    },
    {
      "cell_type": "code",
      "metadata": {
        "colab": {
          "base_uri": "https://localhost:8080/"
        },
        "id": "hv7VbfTK61tx",
        "outputId": "7ed41dc6-f54d-4766-bc7f-ad91c14449b9"
      },
      "source": [
        "# the variance from petal length of versicolor\n",
        "\n",
        "variance_ver_petal_length = np.var(ver_petal_length)\n",
        "variance_ver_petal_length"
      ],
      "execution_count": 27,
      "outputs": [
        {
          "output_type": "execute_result",
          "data": {
            "text/plain": [
              "0.21640000000000012"
            ]
          },
          "metadata": {
            "tags": []
          },
          "execution_count": 27
        }
      ]
    },
    {
      "cell_type": "markdown",
      "metadata": {
        "id": "QiqqtHIKPX_H"
      },
      "source": [
        "adjust the unit of variance with the unit average, using std or square the variance"
      ]
    },
    {
      "cell_type": "code",
      "metadata": {
        "colab": {
          "base_uri": "https://localhost:8080/"
        },
        "id": "UbfL9zRWN8Ds",
        "outputId": "a1eeb826-cedc-4b97-da41-085312ff8459"
      },
      "source": [
        "# the std \n",
        "\n",
        "std1_ver_petal_length = np.sqrt(variance_ver_petal_length)\n",
        "std2_ver_petal_length = np.std(ver_petal_length)\n",
        "\n",
        "print(std1_ver_petal_length, std2_ver_petal_length)"
      ],
      "execution_count": 28,
      "outputs": [
        {
          "output_type": "stream",
          "text": [
            "0.4651881339845204 0.4651881339845204\n"
          ],
          "name": "stdout"
        }
      ]
    },
    {
      "cell_type": "markdown",
      "metadata": {
        "id": "FOVNrnECTUSa"
      },
      "source": [
        "---\n",
        "berbeda dengan Variance yang satu dimensi, Covariance lebih dari satu dimensi. dan untuk mengatasi masalah unit satuan yang berbeda menggunakan Pearson correlation coefficient.\n",
        "\n",
        "cov(x, y) > 0, the covariance is positive or positively correlated.\n",
        "\n",
        "cov(x, y) < 0, the covariance is negative or negatively correlated/anticorrelated"
      ]
    },
    {
      "cell_type": "code",
      "metadata": {
        "id": "lGoSQIv46msf",
        "colab": {
          "base_uri": "https://localhost:8080/"
        },
        "outputId": "5fddd55c-af1b-41ca-cee9-ad99e90bde13"
      },
      "source": [
        "# covariance antar fitur total votes dan percent of vote for Obama\n",
        "\n",
        "cov_dem_share_and_total_votes = np.cov(dem_share,  swing_states['total_votes'])\n",
        "\n",
        "# covariance matrix\n",
        "\n",
        "print(cov_dem_share_and_total_votes, '\\n')\n",
        "\n",
        "# covariance \n",
        "\n",
        "print(cov_dem_share_and_total_votes[0, 1])"
      ],
      "execution_count": 29,
      "outputs": [
        {
          "output_type": "stream",
          "text": [
            "[[1.14763447e+02 8.17309362e+05]\n",
            " [8.17309362e+05 2.02451039e+10]] \n",
            "\n",
            "817309.3618405284\n"
          ],
          "name": "stdout"
        }
      ]
    },
    {
      "cell_type": "code",
      "metadata": {
        "colab": {
          "base_uri": "https://localhost:8080/"
        },
        "id": "sO4uR8WkniwE",
        "outputId": "90829bc7-46ab-4966-cc43-2f5a7ef7e650"
      },
      "source": [
        "# pearson correlation coefficient dari total votes dan firur percent of vote for Obama\n",
        "\n",
        "pear_corr_coef = np.corrcoef(dem_share, swing_states['total_votes'])\n",
        "\n",
        "# corrcoef matrix\n",
        "\n",
        "print(pear_corr_coef, '\\n')\n",
        "\n",
        "# corrcoef\n",
        "\n",
        "print(pear_corr_coef[0, 1])"
      ],
      "execution_count": 31,
      "outputs": [
        {
          "output_type": "stream",
          "text": [
            "[[1.         0.53619736]\n",
            " [0.53619736 1.        ]] \n",
            "\n",
            "0.536197364958678\n"
          ],
          "name": "stdout"
        }
      ]
    },
    {
      "cell_type": "code",
      "metadata": {
        "colab": {
          "base_uri": "https://localhost:8080/",
          "height": 302
        },
        "id": "lu8Wu9BWq6JF",
        "outputId": "1a854583-9cd6-4fe8-ac24-1258030cae22"
      },
      "source": [
        "_ = plt.plot(swing_states['total_votes'], dem_share, marker='.', linestyle='none')\n",
        "_ = plt.xlabel('persent of vote from Obama')\n",
        "_ = plt.ylabel('total votes')\n",
        "plt.show()\n",
        "plt.clf()"
      ],
      "execution_count": 32,
      "outputs": [
        {
          "output_type": "display_data",
          "data": {
            "image/png": "[encoded data removed]",
            "text/plain": [
              "<Figure size 432x288 with 1 Axes>"
            ]
          },
          "metadata": {
            "tags": []
          }
        },
        {
          "output_type": "display_data",
          "data": {
            "text/plain": [
              "<Figure size 432x288 with 0 Axes>"
            ]
          },
          "metadata": {
            "tags": []
          }
        }
      ]
    },
    {
      "cell_type": "markdown",
      "metadata": {
        "id": "yfz2S_FFsllI"
      },
      "source": [
        "dari scatter plot diatas, bisa dilihat kalau dua fitur berkorelasi positif"
      ]
    },
    {
      "cell_type": "markdown",
      "metadata": {
        "id": "26SR8sYIs7Eh"
      },
      "source": [
        "---\n",
        "contoh lain plot dari dataset iris pada species versicolor"
      ]
    },
    {
      "cell_type": "code",
      "metadata": {
        "colab": {
          "base_uri": "https://localhost:8080/",
          "height": 302
        },
        "id": "m3ro0xIOtL1A",
        "outputId": "14314b2f-e5f5-4c20-80f0-89e9c1602686"
      },
      "source": [
        "# fitur length dan widhth dari petal\n",
        "_ = plt.plot(versicolor['PetalLengthCm'], versicolor['PetalWidthCm'], marker='.', linestyle='none')\n",
        "_ = plt.xlabel('Petal Length Cm')\n",
        "_ = plt.ylabel('Petal Width Cm')\n",
        "plt.show()\n",
        "plt.clf()"
      ],
      "execution_count": 33,
      "outputs": [
        {
          "output_type": "display_data",
          "data": {
            "image/png": "[encoded data removed]",
            "text/plain": [
              "<Figure size 432x288 with 1 Axes>"
            ]
          },
          "metadata": {
            "tags": []
          }
        },
        {
          "output_type": "display_data",
          "data": {
            "text/plain": [
              "<Figure size 432x288 with 0 Axes>"
            ]
          },
          "metadata": {
            "tags": []
          }
        }
      ]
    },
    {
      "cell_type": "markdown",
      "metadata": {
        "id": "Qiczkd-DuWi7"
      },
      "source": [
        "dari figure diatas juga dua fitur berkorelasi positif\n"
      ]
    },
    {
      "cell_type": "markdown",
      "metadata": {
        "id": "_TP7FKNGliMB"
      },
      "source": [
        "# Thinking probabilistically - Discrete variables"
      ]
    },
    {
      "cell_type": "markdown",
      "metadata": {
        "id": "T9cJkyq5mjUG"
      },
      "source": [
        "**Probability distribution** ~ a mathematical description of outcomes\n",
        "\n",
        "**Probability mass function (PMF)** ~ The set of probabilities of discrete outcomes"
      ]
    },
    {
      "cell_type": "code",
      "metadata": {
        "colab": {
          "base_uri": "https://localhost:8080/"
        },
        "id": "_8gJdR5Cl3bz",
        "outputId": "fcd91fbf-ccf8-4c72-8ace-b49cd04f2e3c"
      },
      "source": [
        "# simulating 4 coin flips\n",
        "\n",
        "np.random.seed(42)              # generate the same value\n",
        "\n",
        "n_all_heads = 0                 # the number of head\n",
        "for i in range(10000):          # the number of trials\n",
        "  head = np.random.random(size=4) < 0.5\n",
        "  if np.sum(head) == 4:\n",
        "    n_all_heads += 1\n",
        "\n",
        "n_all_heads / 10000"
      ],
      "execution_count": 34,
      "outputs": [
        {
          "output_type": "execute_result",
          "data": {
            "text/plain": [
              "0.0618"
            ]
          },
          "metadata": {
            "tags": []
          },
          "execution_count": 34
        }
      ]
    },
    {
      "cell_type": "code",
      "metadata": {
        "id": "iX-DhHLVTzeh"
      },
      "source": [
        "# bernoulli trials\n",
        "\n",
        "def perform_bernoulli_trials(n, p):\n",
        "  '''Perform n bernoulli trials with probability success p\n",
        "  and return number of successes'''\n",
        "\n",
        "  n_success = 0\n",
        "  for i in range(n):\n",
        "    random_number = np.random.random()\n",
        "    if random_number < p:\n",
        "      n_success += 1\n",
        "  return n_success"
      ],
      "execution_count": 35,
      "outputs": []
    },
    {
      "cell_type": "code",
      "metadata": {
        "colab": {
          "base_uri": "https://localhost:8080/",
          "height": 302
        },
        "id": "skML1dJ2d5n8",
        "outputId": "9c84afbb-96cb-45e2-8310-7b740eee750f"
      },
      "source": [
        "# Menghitung gagal bayar pinjaman dari 100 penerima\n",
        "\n",
        "# seed random number generator\n",
        "np.random.seed(42)\n",
        "\n",
        "# initialize the number of default\n",
        "n_default = np.empty(10000)\n",
        "\n",
        "# conpute the number of default\n",
        "for i in range(10000):\n",
        "  n_default[i] = perform_bernoulli_trials(100, 0.05)\n",
        "\n",
        "# plot in histogram\n",
        "sns.set()\n",
        "_ = plt.hist(n_default, density=True)\n",
        "_ = plt.xlabel('number of defaults out of 100 loans')\n",
        "_ = plt.ylabel('probability')\n",
        "plt.show()\n",
        "plt.clf()"
      ],
      "execution_count": 36,
      "outputs": [
        {
          "output_type": "display_data",
          "data": {
            "image/png": "[encoded data removed]",
            "text/plain": [
              "<Figure size 432x288 with 1 Axes>"
            ]
          },
          "metadata": {
            "tags": []
          }
        },
        {
          "output_type": "display_data",
          "data": {
            "text/plain": [
              "<Figure size 432x288 with 0 Axes>"
            ]
          },
          "metadata": {
            "tags": []
          }
        }
      ]
    },
    {
      "cell_type": "code",
      "metadata": {
        "colab": {
          "base_uri": "https://localhost:8080/",
          "height": 302
        },
        "id": "EEAbtNRZkBcE",
        "outputId": "eb3d0e4f-a710-41e3-fc3b-f7b34b1500ee"
      },
      "source": [
        "# tampilkan dalam ecdf\n",
        "\n",
        "x_default, y_default = ecdf(n_default)\n",
        "_ = plt.plot(x_default, y_default, marker='.', linestyle='none')\n",
        "_ = plt.xlabel('number of defaults out of 100 loans')\n",
        "_ = plt.ylabel('ecdf')\n",
        "plt.show()\n",
        "plt.clf()"
      ],
      "execution_count": 37,
      "outputs": [
        {
          "output_type": "display_data",
          "data": {
            "image/png": "[encoded data removed]",
            "text/plain": [
              "<Figure size 432x288 with 1 Axes>"
            ]
          },
          "metadata": {
            "tags": []
          }
        },
        {
          "output_type": "display_data",
          "data": {
            "text/plain": [
              "<Figure size 432x288 with 0 Axes>"
            ]
          },
          "metadata": {
            "tags": []
          }
        }
      ]
    },
    {
      "cell_type": "code",
      "metadata": {
        "colab": {
          "base_uri": "https://localhost:8080/"
        },
        "id": "yKEGLHHwiK88",
        "outputId": "89796720-9337-4bec-889f-776115751cd4"
      },
      "source": [
        "# misalkan bank akan kehilangan uang jika jumlah gagal bayar lebih atau sama dari 10 orang pada simulasi, maka porbabilitasnya\n",
        "\n",
        "lose_money = np.sum(n_default >= 10)\n",
        "print('Probability of losing money, is ' + str(lose_money / len(n_default)))"
      ],
      "execution_count": 38,
      "outputs": [
        {
          "output_type": "stream",
          "text": [
            "Probability of losing money, is 0.0263\n"
          ],
          "name": "stdout"
        }
      ]
    },
    {
      "cell_type": "markdown",
      "metadata": {
        "id": "d9HAfNBqpjil"
      },
      "source": [
        "---\n",
        "**Binomial distribution**\n",
        "\n",
        "The number r of successes in n bernoulli trials with probability p of success"
      ]
    },
    {
      "cell_type": "code",
      "metadata": {
        "colab": {
          "base_uri": "https://localhost:8080/"
        },
        "id": "JbEeLdbvqULW",
        "outputId": "a598f407-f68f-4432-96cc-528bb93693b3"
      },
      "source": [
        "# ex: the number r of heads in 4 coin flips with probability 0.5 of heads\n",
        "\n",
        "np.random.seed(42)\n",
        "r = np.random.binomial(4, 0.5)\n",
        "print(r, '\\n')\n",
        "\n",
        "# r with bernoulli trial function\n",
        "r = perform_bernoulli_trials(4, 0.5)\n",
        "print(r, '\\n')\n",
        "\n",
        "# dengan pengamatan 10 kali / the Binomial PMF(Probability Mass Function)\n",
        "r = np.random.binomial(2, 0.5, size=10)\n",
        "print(r)"
      ],
      "execution_count": 39,
      "outputs": [
        {
          "output_type": "stream",
          "text": [
            "2 \n",
            "\n",
            "1 \n",
            "\n",
            "[0 0 2 1 1 0 2 2 0 0]\n"
          ],
          "name": "stdout"
        }
      ]
    },
    {
      "cell_type": "code",
      "metadata": {
        "colab": {
          "base_uri": "https://localhost:8080/",
          "height": 570
        },
        "id": "r0lQCpkMrgWm",
        "outputId": "0f8a373f-6988-4994-d54b-bb7485ca6143"
      },
      "source": [
        "# contoh lain dan visualisasikan pmf nya dengan cdf\n",
        "\n",
        "np.random.seed(42)\n",
        "samples = np.random.binomial(60, 0.1, size=10000)\n",
        "x, y = ecdf(samples)\n",
        "_ = plt.plot(x, y, marker='.', linestyle='none')\n",
        "plt.margins(0.02)\n",
        "_ = plt.xlabel('number of success')\n",
        "_ = plt.ylabel('cdf')\n",
        "plt.show()\n",
        "plt.clf()\n",
        "\n",
        "# plot the PMF of the Binomial distribution as a histogram\n",
        "\n",
        "# hitung bins edges, karena n_default misalnya 0, 1, 2, and so on\n",
        "bins = np.arange(0, max(samples)+1.5) - 0.5\n",
        "\n",
        "_ = plt.hist(samples, bins=bins, density=True)\n",
        "plt.margins(0.02)\n",
        "_ = plt.xlabel('number of success')\n",
        "_ = plt.xlabel('probability')\n",
        "plt.show()\n",
        "plt.clf()"
      ],
      "execution_count": 40,
      "outputs": [
        {
          "output_type": "display_data",
          "data": {
            "image/png": "[encoded data removed]",
            "text/plain": [
              "<Figure size 432x288 with 1 Axes>"
            ]
          },
          "metadata": {
            "tags": []
          }
        },
        {
          "output_type": "display_data",
          "data": {
            "image/png": "[encoded data removed]",
            "text/plain": [
              "<Figure size 432x288 with 1 Axes>"
            ]
          },
          "metadata": {
            "tags": []
          }
        },
        {
          "output_type": "display_data",
          "data": {
            "text/plain": [
              "<Figure size 432x288 with 0 Axes>"
            ]
          },
          "metadata": {
            "tags": []
          }
        }
      ]
    },
    {
      "cell_type": "code",
      "metadata": {
        "colab": {
          "base_uri": "https://localhost:8080/",
          "height": 302
        },
        "id": "yYeaH1BYt35M",
        "outputId": "59feaf62-f853-40c8-a68c-ec9f0fb083a4"
      },
      "source": [
        "# plot the PMF of the Binomial distribution as a histogram\n",
        "# data sample dari jumlah gagal bayar as n_default\n",
        "\n",
        "# hitung bins edges, karena n_default misalnya 0, 1, 2, and so on\n",
        "bins = np.arange(0, max(n_default)+1.5) - 0.5\n",
        "\n",
        "_ = plt.hist(n_default, bins=bins, density=True)\n",
        "plt.margins(0.02)\n",
        "_ = plt.xlabel('number of defaults out of 100 loans')\n",
        "_ = plt.xlabel('probability')\n",
        "plt.show()\n",
        "plt.clf()"
      ],
      "execution_count": 41,
      "outputs": [
        {
          "output_type": "display_data",
          "data": {
            "image/png": "[encoded data removed]",
            "text/plain": [
              "<Figure size 432x288 with 1 Axes>"
            ]
          },
          "metadata": {
            "tags": []
          }
        },
        {
          "output_type": "display_data",
          "data": {
            "text/plain": [
              "<Figure size 432x288 with 0 Axes>"
            ]
          },
          "metadata": {
            "tags": []
          }
        }
      ]
    },
    {
      "cell_type": "markdown",
      "metadata": {
        "id": "y3WNf8Up1goY"
      },
      "source": [
        "---\n",
        "**Poisson process**\n",
        "\n",
        "The timing of the next event is completely independent of when the previous event happened\n"
      ]
    },
    {
      "cell_type": "markdown",
      "metadata": {
        "id": "2yrPeTiQ2_x_"
      },
      "source": [
        "**Poisson distribution**\n",
        "\n",
        "The number r of arrivals of a Poisson process in a given time interval with average rate of? arrivals per interval is Poisson distributed\n",
        "\n",
        "ex. The number r of hits on a website in one hour with an average hit rate of 6 hits per hour is Poisson distributed\n",
        "\n",
        "also, Poisson distribution is limit of the Binomial distribution for **low** probability of succes(p), and **large** number of trials, that's for rare event"
      ]
    },
    {
      "cell_type": "code",
      "metadata": {
        "colab": {
          "base_uri": "https://localhost:8080/"
        },
        "id": "WUQqK43J7ECf",
        "outputId": "4d29535c-7036-44df-a265-8914ab2374d1"
      },
      "source": [
        "# Relationship between Binomial and Poisson distributions\n",
        "\n",
        "np.random.seed(42)\n",
        "\n",
        "samples_poisson = np.random.poisson(lam=10, size=10000)\n",
        "print('Poisson', np.mean(samples_poisson),\n",
        "                 np.std(samples_poisson))\n",
        "\n",
        "n = [20, 100, 1000]\n",
        "p = [0.5, 0.1, 0.01]\n",
        "\n",
        "for i in range(3):\n",
        "  samples_binomial = np.random.binomial(n=n[i], p=p[i], size=10000)\n",
        "  print('n = ', n[i], np.mean(samples_binomial),\n",
        "                      np.std(samples_binomial))"
      ],
      "execution_count": 42,
      "outputs": [
        {
          "output_type": "stream",
          "text": [
            "Poisson 10.0186 3.144813832327758\n",
            "n =  20 9.9637 2.2163443572694206\n",
            "n =  100 9.9947 3.0135812433050484\n",
            "n =  1000 9.9985 3.139378561116833\n"
          ],
          "name": "stdout"
        }
      ]
    },
    {
      "cell_type": "markdown",
      "metadata": {
        "id": "IdUWbqVR-IPj"
      },
      "source": [
        "dari mean dan standard deviasi dari binomial diatas bisa dilihat pada jumlah percobaan lebih besar dan kemngkinan sukses lebih kecil sangat mendekati dengan mean dan standard deviasi dari poisson distribution"
      ]
    },
    {
      "cell_type": "code",
      "metadata": {
        "colab": {
          "base_uri": "https://localhost:8080/",
          "height": 302
        },
        "id": "1idtmqWE2geV",
        "outputId": "e3962df5-d292-4922-be45-e191cfd26aa0"
      },
      "source": [
        "# The Poisson CDF example\n",
        "\n",
        "np.random.seed(42)\n",
        "samples = np.random.poisson(lam=6, size=10000)\n",
        "x, y = ecdf(samples)\n",
        "_ = plt.plot(x, y, marker='.', linestyle='none')\n",
        "plt.margins(0.02)\n",
        "_ = plt.xlabel('number of success')\n",
        "_ = plt.ylabel('cdf')\n",
        "plt.show()\n",
        "plt.clf()"
      ],
      "execution_count": 43,
      "outputs": [
        {
          "output_type": "display_data",
          "data": {
            "image/png": "[encoded data removed]",
            "text/plain": [
              "<Figure size 432x288 with 1 Axes>"
            ]
          },
          "metadata": {
            "tags": []
          }
        },
        {
          "output_type": "display_data",
          "data": {
            "text/plain": [
              "<Figure size 432x288 with 0 Axes>"
            ]
          },
          "metadata": {
            "tags": []
          }
        }
      ]
    },
    {
      "cell_type": "code",
      "metadata": {
        "colab": {
          "base_uri": "https://localhost:8080/"
        },
        "id": "ImFyMR1JA2he",
        "outputId": "8b1efe87-7a80-4b92-9ff8-74d2d9ba4690"
      },
      "source": [
        "# ex. Draw 10,000 samples out of Poisson distribution\n",
        "\n",
        "np.random.seed(42)\n",
        "n_nohitters = np.random.poisson(lam=251/115, size=10000)\n",
        "\n",
        "# Compute number of samples that are seven or greater\n",
        "n_large = np.sum(n_nohitters >= 7)\n",
        "\n",
        "# Compute probability of getting seven or more\n",
        "p_large = n_large/10000\n",
        "\n",
        "print('Probability of seven or more no-hitters:', p_large)"
      ],
      "execution_count": 44,
      "outputs": [
        {
          "output_type": "stream",
          "text": [
            "Probability of seven or more no-hitters: 0.0067\n"
          ],
          "name": "stdout"
        }
      ]
    },
    {
      "cell_type": "markdown",
      "metadata": {
        "id": "_aV4wW8KlEo9"
      },
      "source": [
        "# Thinking probabilistically - Continuous variables"
      ]
    },
    {
      "cell_type": "markdown",
      "metadata": {
        "id": "TqOXGX06lL9A"
      },
      "source": [
        "**Continuous variables** ~ Quantities that can take any value, not just discrete values\n",
        "\n",
        "**Probability densty function (PDF)** \n",
        "*   Continuous analog to the PMF\n",
        "*   Mathematical description of the relative likelihood of observing a value of a continuous variable\n"
      ]
    },
    {
      "cell_type": "markdown",
      "metadata": {
        "id": "owCA4Vv7RG-b"
      },
      "source": [
        "**The normal distribution** ~ Describes a continuous variable whose PDF has a single\n",
        "symmetric peak"
      ]
    },
    {
      "cell_type": "code",
      "metadata": {
        "id": "1DAWZoncoMBi"
      },
      "source": [
        "# Draw 100000 samples from Normal distribution with stds of interest\n",
        "\n",
        "np.random.seed(42)\n",
        "samples_std1 = np.random.normal(loc=20, scale=1, size=100000)\n",
        "samples_std3 = np.random.normal(loc=20, scale=3, size=100000)\n",
        "samples_std10 = np.random.normal(loc=20, scale=10, size=100000)"
      ],
      "execution_count": 45,
      "outputs": []
    },
    {
      "cell_type": "code",
      "metadata": {
        "colab": {
          "base_uri": "https://localhost:8080/",
          "height": 285
        },
        "id": "a2d8quaqylsL",
        "outputId": "78d990ab-650a-49f2-a405-fec4a2e7dc3d"
      },
      "source": [
        "# make histogram (the normal PDF)\n",
        "\n",
        "_ = plt.hist(samples_std1, bins=100, density=True, histtype='step')\n",
        "_ = plt.hist(samples_std3, bins=100, density=True, histtype='step')\n",
        "_ = plt.hist(samples_std10, bins=100, density=True, histtype='step')\n",
        "_ = plt.legend(('std 1', 'std 3', 'std 10'), loc='best')\n",
        "_ = plt.ylabel('PDF')\n",
        "plt.ylim(-0.01, 0.42)\n",
        "plt.show()\n",
        "plt.clf()"
      ],
      "execution_count": 46,
      "outputs": [
        {
          "output_type": "display_data",
          "data": {
            "image/png": "[encoded data removed]",
            "text/plain": [
              "<Figure size 432x288 with 1 Axes>"
            ]
          },
          "metadata": {
            "tags": []
          }
        },
        {
          "output_type": "display_data",
          "data": {
            "text/plain": [
              "<Figure size 432x288 with 0 Axes>"
            ]
          },
          "metadata": {
            "tags": []
          }
        }
      ]
    },
    {
      "cell_type": "markdown",
      "metadata": {
        "id": "u6CaGTjYEOg9"
      },
      "source": [
        "kalau kita lihat pada samples dengan std 50 diatas, probability more than 50 standard deviation from the mean is very small. jadi, pas kita modeling data terdistribusi normal, outliers are extremely unlikely.\n",
        "\n",
        "nah, pada dataset kebanyakan biasanya terdapat nilai extrem, jadi normal distribution mungkin tidak menjadi deskripsi yang bagus buat datanya"
      ]
    },
    {
      "cell_type": "code",
      "metadata": {
        "colab": {
          "base_uri": "https://localhost:8080/",
          "height": 285
        },
        "id": "UirtGFsO96mw",
        "outputId": "b3c12208-9c59-48c9-fa02-662c42ae89da"
      },
      "source": [
        "# plot with CDF (the normal PDF)\n",
        "\n",
        "x_std1, y_std1 = ecdf(samples_std1)\n",
        "x_std3, y_std3 = ecdf(samples_std3)\n",
        "x_std10, y_std10 = ecdf(samples_std10)\n",
        "\n",
        "_ = plt.plot(x_std1, y_std1, marker='.', linestyle='none')\n",
        "_ = plt.plot(x_std3, y_std3, marker='.', linestyle='none')\n",
        "_ = plt.plot(x_std10, y_std10, marker='.', linestyle='none')\n",
        "_ = plt.legend(('std 1', 'std 3', 'std 10'), loc='best')\n",
        "_ = plt.ylabel('CDF')\n",
        "plt.show()\n",
        "plt.clf()"
      ],
      "execution_count": 47,
      "outputs": [
        {
          "output_type": "display_data",
          "data": {
            "image/png": "[encoded data removed]",
            "text/plain": [
              "<Figure size 432x288 with 1 Axes>"
            ]
          },
          "metadata": {
            "tags": []
          }
        },
        {
          "output_type": "display_data",
          "data": {
            "text/plain": [
              "<Figure size 432x288 with 0 Axes>"
            ]
          },
          "metadata": {
            "tags": []
          }
        }
      ]
    },
    {
      "cell_type": "markdown",
      "metadata": {
        "id": "ez2cR0_ZAHYq"
      },
      "source": [
        "The mean and median of a Normal distribution are equal. The width of the CDF varies with the standard deviation"
      ]
    },
    {
      "cell_type": "markdown",
      "metadata": {
        "id": "Q3-q9WNdHJQr"
      },
      "source": [
        "---\n",
        "Dataset Belmont\n",
        "\n",
        "Melihat data apakah terdistribusi normal atau tidak\n",
        "dengan membandingkan **empirical** dan **theorical** CDF"
      ]
    },
    {
      "cell_type": "code",
      "metadata": {
        "id": "1tMOa3oJGf6a",
        "colab": {
          "base_uri": "https://localhost:8080/",
          "height": 204
        },
        "outputId": "32318cb8-a3ac-41da-9474-48fc880773c9"
      },
      "source": [
        "belmont = pd.read_csv('/content/drive/My Drive/ColabNotebooks/Datasets/belmont.csv')\n",
        "belmont.head()"
      ],
      "execution_count": 48,
      "outputs": [
        {
          "output_type": "execute_result",
          "data": {
            "text/html": [
              "<div>\n",
              "<style scoped>\n",
              "    .dataframe tbody tr th:only-of-type {\n",
              "        vertical-align: middle;\n",
              "    }\n",
              "\n",
              "    .dataframe tbody tr th {\n",
              "        vertical-align: top;\n",
              "    }\n",
              "\n",
              "    .dataframe thead th {\n",
              "        text-align: right;\n",
              "    }\n",
              "</style>\n",
              "<table border=\"1\" class=\"dataframe\">\n",
              "  <thead>\n",
              "    <tr style=\"text-align: right;\">\n",
              "      <th></th>\n",
              "      <th>Year</th>\n",
              "      <th>Winner</th>\n",
              "      <th>Jockey</th>\n",
              "      <th>Trainer</th>\n",
              "      <th>Owner</th>\n",
              "      <th>Time</th>\n",
              "      <th>Track</th>\n",
              "      <th>miles</th>\n",
              "    </tr>\n",
              "  </thead>\n",
              "  <tbody>\n",
              "    <tr>\n",
              "      <th>0</th>\n",
              "      <td>2016</td>\n",
              "      <td>Creator</td>\n",
              "      <td>Irad Ortiz, Jr</td>\n",
              "      <td>Steve Asmussen</td>\n",
              "      <td>WinStar Farm LLC</td>\n",
              "      <td>2:28.51</td>\n",
              "      <td>Belmont</td>\n",
              "      <td>1.5</td>\n",
              "    </tr>\n",
              "    <tr>\n",
              "      <th>1</th>\n",
              "      <td>2015</td>\n",
              "      <td>American Pharoah</td>\n",
              "      <td>Victor Espinoza</td>\n",
              "      <td>Bob Baffert</td>\n",
              "      <td>Zayat Stables, LLC</td>\n",
              "      <td>2:26.65</td>\n",
              "      <td>Belmont</td>\n",
              "      <td>1.5</td>\n",
              "    </tr>\n",
              "    <tr>\n",
              "      <th>2</th>\n",
              "      <td>2014</td>\n",
              "      <td>Tonalist</td>\n",
              "      <td>Joel Rosario</td>\n",
              "      <td>Christophe Clement</td>\n",
              "      <td>Robert S. Evans</td>\n",
              "      <td>2:28.52</td>\n",
              "      <td>Belmont</td>\n",
              "      <td>1.5</td>\n",
              "    </tr>\n",
              "    <tr>\n",
              "      <th>3</th>\n",
              "      <td>2013</td>\n",
              "      <td>Palace Malice</td>\n",
              "      <td>Mike Smith</td>\n",
              "      <td>Todd Pletcher</td>\n",
              "      <td>Dogwood Stable</td>\n",
              "      <td>2:30.70</td>\n",
              "      <td>Belmont</td>\n",
              "      <td>1.5</td>\n",
              "    </tr>\n",
              "    <tr>\n",
              "      <th>4</th>\n",
              "      <td>2012</td>\n",
              "      <td>Union Rags</td>\n",
              "      <td>John Velazquez</td>\n",
              "      <td>Michael Matz</td>\n",
              "      <td>Phyllis M. Wyeth</td>\n",
              "      <td>2:30.42</td>\n",
              "      <td>Belmont</td>\n",
              "      <td>1.5</td>\n",
              "    </tr>\n",
              "  </tbody>\n",
              "</table>\n",
              "</div>"
            ],
            "text/plain": [
              "   Year            Winner           Jockey  ...     Time    Track miles\n",
              "0  2016           Creator   Irad Ortiz, Jr  ...  2:28.51  Belmont   1.5\n",
              "1  2015  American Pharoah  Victor Espinoza  ...  2:26.65  Belmont   1.5\n",
              "2  2014          Tonalist     Joel Rosario  ...  2:28.52  Belmont   1.5\n",
              "3  2013     Palace Malice       Mike Smith  ...  2:30.70  Belmont   1.5\n",
              "4  2012        Union Rags   John Velazquez  ...  2:30.42  Belmont   1.5\n",
              "\n",
              "[5 rows x 8 columns]"
            ]
          },
          "metadata": {
            "tags": []
          },
          "execution_count": 48
        }
      ]
    },
    {
      "cell_type": "code",
      "metadata": {
        "id": "SmuJArYkJt_I"
      },
      "source": [
        "# convert datatime type 'MM:SS.MS' minutes ke seconds\n",
        "\n",
        "# function\n",
        "\n",
        "def m_to_s(data):\n",
        "  total_minutes = np.empty(len(data))\n",
        "  \n",
        "  for i in range(len(data)):\n",
        "    # split menit dan detik (colon)\n",
        "    split_colon = data[i].split(':')\n",
        "\n",
        "    # split detik dan milidetik (point)\n",
        "    split_point = split_colon[1].split('.')\n",
        "    \n",
        "    # total minutes\n",
        "    total_minutes[i] = round((int(split_colon[0])*60 + \n",
        "                             int(split_point[0])*1 +\n",
        "                             int(split_point[1])/60),\n",
        "                             1)\n",
        "  return total_minutes\n",
        "\n",
        "# convert by call function dan tambahkan pada pandas dataset belmont\n",
        "\n",
        "belmont['Time in minute'] = m_to_s(belmont['Time'])"
      ],
      "execution_count": 49,
      "outputs": []
    },
    {
      "cell_type": "code",
      "metadata": {
        "colab": {
          "base_uri": "https://localhost:8080/",
          "height": 204
        },
        "id": "Ag_M5INUTBrB",
        "outputId": "13542291-86bb-4145-df87-eff382326dfb"
      },
      "source": [
        "belmont.head()"
      ],
      "execution_count": 50,
      "outputs": [
        {
          "output_type": "execute_result",
          "data": {
            "text/html": [
              "<div>\n",
              "<style scoped>\n",
              "    .dataframe tbody tr th:only-of-type {\n",
              "        vertical-align: middle;\n",
              "    }\n",
              "\n",
              "    .dataframe tbody tr th {\n",
              "        vertical-align: top;\n",
              "    }\n",
              "\n",
              "    .dataframe thead th {\n",
              "        text-align: right;\n",
              "    }\n",
              "</style>\n",
              "<table border=\"1\" class=\"dataframe\">\n",
              "  <thead>\n",
              "    <tr style=\"text-align: right;\">\n",
              "      <th></th>\n",
              "      <th>Year</th>\n",
              "      <th>Winner</th>\n",
              "      <th>Jockey</th>\n",
              "      <th>Trainer</th>\n",
              "      <th>Owner</th>\n",
              "      <th>Time</th>\n",
              "      <th>Track</th>\n",
              "      <th>miles</th>\n",
              "      <th>Time in minute</th>\n",
              "    </tr>\n",
              "  </thead>\n",
              "  <tbody>\n",
              "    <tr>\n",
              "      <th>0</th>\n",
              "      <td>2016</td>\n",
              "      <td>Creator</td>\n",
              "      <td>Irad Ortiz, Jr</td>\n",
              "      <td>Steve Asmussen</td>\n",
              "      <td>WinStar Farm LLC</td>\n",
              "      <td>2:28.51</td>\n",
              "      <td>Belmont</td>\n",
              "      <td>1.5</td>\n",
              "      <td>148.8</td>\n",
              "    </tr>\n",
              "    <tr>\n",
              "      <th>1</th>\n",
              "      <td>2015</td>\n",
              "      <td>American Pharoah</td>\n",
              "      <td>Victor Espinoza</td>\n",
              "      <td>Bob Baffert</td>\n",
              "      <td>Zayat Stables, LLC</td>\n",
              "      <td>2:26.65</td>\n",
              "      <td>Belmont</td>\n",
              "      <td>1.5</td>\n",
              "      <td>147.1</td>\n",
              "    </tr>\n",
              "    <tr>\n",
              "      <th>2</th>\n",
              "      <td>2014</td>\n",
              "      <td>Tonalist</td>\n",
              "      <td>Joel Rosario</td>\n",
              "      <td>Christophe Clement</td>\n",
              "      <td>Robert S. Evans</td>\n",
              "      <td>2:28.52</td>\n",
              "      <td>Belmont</td>\n",
              "      <td>1.5</td>\n",
              "      <td>148.9</td>\n",
              "    </tr>\n",
              "    <tr>\n",
              "      <th>3</th>\n",
              "      <td>2013</td>\n",
              "      <td>Palace Malice</td>\n",
              "      <td>Mike Smith</td>\n",
              "      <td>Todd Pletcher</td>\n",
              "      <td>Dogwood Stable</td>\n",
              "      <td>2:30.70</td>\n",
              "      <td>Belmont</td>\n",
              "      <td>1.5</td>\n",
              "      <td>151.2</td>\n",
              "    </tr>\n",
              "    <tr>\n",
              "      <th>4</th>\n",
              "      <td>2012</td>\n",
              "      <td>Union Rags</td>\n",
              "      <td>John Velazquez</td>\n",
              "      <td>Michael Matz</td>\n",
              "      <td>Phyllis M. Wyeth</td>\n",
              "      <td>2:30.42</td>\n",
              "      <td>Belmont</td>\n",
              "      <td>1.5</td>\n",
              "      <td>150.7</td>\n",
              "    </tr>\n",
              "  </tbody>\n",
              "</table>\n",
              "</div>"
            ],
            "text/plain": [
              "   Year            Winner           Jockey  ...    Track miles Time in minute\n",
              "0  2016           Creator   Irad Ortiz, Jr  ...  Belmont   1.5          148.8\n",
              "1  2015  American Pharoah  Victor Espinoza  ...  Belmont   1.5          147.1\n",
              "2  2014          Tonalist     Joel Rosario  ...  Belmont   1.5          148.9\n",
              "3  2013     Palace Malice       Mike Smith  ...  Belmont   1.5          151.2\n",
              "4  2012        Union Rags   John Velazquez  ...  Belmont   1.5          150.7\n",
              "\n",
              "[5 rows x 9 columns]"
            ]
          },
          "metadata": {
            "tags": []
          },
          "execution_count": 50
        }
      ]
    },
    {
      "cell_type": "code",
      "metadata": {
        "colab": {
          "base_uri": "https://localhost:8080/",
          "height": 285
        },
        "id": "myspPefbTo2j",
        "outputId": "cfc284b0-ca97-480c-bea3-91c0552fbcbb"
      },
      "source": [
        "# cek outlier\n",
        "\n",
        "_ = sns.swarmplot(x='Track', y='Time in minute', data=belmont)\n",
        "plt.show()"
      ],
      "execution_count": 51,
      "outputs": [
        {
          "output_type": "display_data",
          "data": {
            "image/png": "[encoded data removed]",
            "text/plain": [
              "<Figure size 432x288 with 1 Axes>"
            ]
          },
          "metadata": {
            "tags": []
          }
        }
      ]
    },
    {
      "cell_type": "markdown",
      "metadata": {
        "id": "IDYW7yFeX4as"
      },
      "source": [
        "terdapat dua outlier pada time winning belmont yakni 144 dan 154"
      ]
    },
    {
      "cell_type": "code",
      "metadata": {
        "colab": {
          "base_uri": "https://localhost:8080/"
        },
        "id": "bGiyEDiuY77i",
        "outputId": "3b872564-9359-4b18-d71d-9b52b3fd82cf"
      },
      "source": [
        "# belmont time no outlier\n",
        "\n",
        "belmont_times_no_outlier = list(belmont['Time in minute'])\n",
        "belmont_times_no_outlier.remove(144)\n",
        "belmont_times_no_outlier.remove(154)\n",
        "len(belmont_times_no_outlier)"
      ],
      "execution_count": 52,
      "outputs": [
        {
          "output_type": "execute_result",
          "data": {
            "text/plain": [
              "89"
            ]
          },
          "metadata": {
            "tags": []
          },
          "execution_count": 52
        }
      ]
    },
    {
      "cell_type": "code",
      "metadata": {
        "colab": {
          "base_uri": "https://localhost:8080/",
          "height": 302
        },
        "id": "vItdLLbNb6H9",
        "outputId": "89e0ea6f-89a5-4910-814e-cbd916fd91f7"
      },
      "source": [
        "# bandingkan theorical dan empirical\n",
        "\n",
        "# theorical normal sampling\n",
        "mu = np.mean(belmont_times_no_outlier)\n",
        "sigma = np.std(belmont_times_no_outlier)\n",
        "np.random.seed(42)\n",
        "samples_of_belmontsTimes = np.random.normal(loc=mu, scale=sigma, size=10000)\n",
        "\n",
        "x_theor, y_theor = ecdf(samples_of_belmontsTimes)\n",
        "\n",
        "# empirical\n",
        "x_emp, y_emp = ecdf(belmont_times_no_outlier)\n",
        "\n",
        "# plot CDFs\n",
        "_ = plt.plot(x_theor, y_theor)\n",
        "_ = plt.plot(x_emp, y_emp, marker='.', linestyle='none')\n",
        "_ = plt.xlabel('Belmont winning time (sec.)')\n",
        "_ = plt.ylabel('CDF')\n",
        "plt.show()\n",
        "plt.clf()"
      ],
      "execution_count": 53,
      "outputs": [
        {
          "output_type": "display_data",
          "data": {
            "image/png": "[encoded data removed]",
            "text/plain": [
              "<Figure size 432x288 with 1 Axes>"
            ]
          },
          "metadata": {
            "tags": []
          }
        },
        {
          "output_type": "display_data",
          "data": {
            "text/plain": [
              "<Figure size 432x288 with 0 Axes>"
            ]
          },
          "metadata": {
            "tags": []
          }
        }
      ]
    },
    {
      "cell_type": "code",
      "metadata": {
        "colab": {
          "base_uri": "https://localhost:8080/"
        },
        "id": "QhcPbkiZgRrw",
        "outputId": "74747ec2-31ca-4628-f24b-609fdceab7e0"
      },
      "source": [
        "# peluang horse menyamai atau melebihi rekor dari Secretariat (144 sec.)\n",
        "\n",
        "np.random.seed(42)\n",
        "samples = np.random.normal(mu, sigma, size=100000)\n",
        "\n",
        "probabilities = len(samples[samples <= 144]) / 100000\n",
        "print(probabilities)"
      ],
      "execution_count": 54,
      "outputs": [
        {
          "output_type": "stream",
          "text": [
            "0.00035\n"
          ],
          "name": "stdout"
        }
      ]
    },
    {
      "cell_type": "markdown",
      "metadata": {
        "id": "cglurAYvj7-W"
      },
      "source": [
        "ya, 0.035 % kemungkinan kuda nantinya akan meyamai atau melampaui rekor dari Secretariat\n",
        "\n",
        "---"
      ]
    },
    {
      "cell_type": "markdown",
      "metadata": {
        "id": "KnypyBh1Se73"
      },
      "source": [
        "**The exponential distribution** ~ The waiting time beetween arrivals of a Poisson process"
      ]
    },
    {
      "cell_type": "code",
      "metadata": {
        "id": "Xjan7OmektI6"
      },
      "source": [
        ""
      ],
      "execution_count": 54,
      "outputs": []
    }
  ]
}