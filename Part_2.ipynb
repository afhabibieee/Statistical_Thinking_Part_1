{
  "nbformat": 4,
  "nbformat_minor": 0,
  "metadata": {
    "colab": {
      "name": "Untitled1.ipynb",
      "provenance": [],
      "collapsed_sections": [],
      "authorship_tag": "ABX9TyOcxx2SQxhW4cM7lVCCbrEl",
      "include_colab_link": true
    },
    "kernelspec": {
      "name": "python3",
      "display_name": "Python 3"
    },
    "language_info": {
      "name": "python"
    }
  },
  "cells": [
    {
      "cell_type": "markdown",
      "metadata": {
        "id": "view-in-github",
        "colab_type": "text"
      },
      "source": [
        "<a href=\"https://colab.research.google.com/github/afhabibieee/Statistics-with-Python/blob/main/Part_2.ipynb\" target=\"_parent\"><img src=\"https://colab.research.google.com/assets/colab-badge.svg\" alt=\"Open In Colab\"/></a>"
      ]
    },
    {
      "cell_type": "code",
      "metadata": {
        "id": "ZRAXxzGUqbOr"
      },
      "source": [
        "# import library\n",
        "import numpy as np\n",
        "import matplotlib.pyplot as plt\n",
        "import pandas as pd\n",
        "import seaborn as sns"
      ],
      "execution_count": null,
      "outputs": []
    },
    {
      "cell_type": "code",
      "metadata": {
        "id": "IxGkUT9cDfCR",
        "colab": {
          "base_uri": "https://localhost:8080/"
        },
        "outputId": "8802ed6a-b564-4259-e993-48b1565f5476"
      },
      "source": [
        "from google.colab import drive\n",
        "drive.mount('/content/drive')"
      ],
      "execution_count": null,
      "outputs": [
        {
          "output_type": "stream",
          "text": [
            "Mounted at /content/drive\n"
          ],
          "name": "stdout"
        }
      ]
    },
    {
      "cell_type": "markdown",
      "metadata": {
        "id": "3qHheF5LEI2x"
      },
      "source": [
        "# Parameter estimation by optimization"
      ]
    },
    {
      "cell_type": "markdown",
      "metadata": {
        "id": "Et1jLowb9Cs6"
      },
      "source": [
        "**Optimal parameters**"
      ]
    },
    {
      "cell_type": "code",
      "metadata": {
        "id": "1d33govOGeTW",
        "colab": {
          "base_uri": "https://localhost:8080/"
        },
        "outputId": "2a18a28a-48ea-4987-c2d5-1fab8b6864c0"
      },
      "source": [
        "# import datasets mlb_nohitters\n",
        "mlb_nohitters = pd.read_csv('/content/drive/My Drive/ColabNotebooks/Datasets/mlb_nohitters.csv')\n",
        "mlb_nohitters.info()"
      ],
      "execution_count": null,
      "outputs": [
        {
          "output_type": "stream",
          "text": [
            "<class 'pandas.core.frame.DataFrame'>\n",
            "RangeIndex: 294 entries, 0 to 293\n",
            "Data columns (total 5 columns):\n",
            " #   Column           Non-Null Count  Dtype \n",
            "---  ------           --------------  ----- \n",
            " 0   date             294 non-null    int64 \n",
            " 1   game_number      294 non-null    int64 \n",
            " 2   winning_team     228 non-null    object\n",
            " 3   losing_team      228 non-null    object\n",
            " 4   winning_pitcher  228 non-null    object\n",
            "dtypes: int64(2), object(3)\n",
            "memory usage: 11.6+ KB\n"
          ],
          "name": "stdout"
        }
      ]
    },
    {
      "cell_type": "code",
      "metadata": {
        "id": "-3fhBQe2HL-W",
        "colab": {
          "base_uri": "https://localhost:8080/"
        },
        "outputId": "4fd6c793-5298-482f-f456-8bee2fc29374"
      },
      "source": [
        "# subsetting game number\n",
        "nohitter_game = mlb_nohitters['game_number']\n",
        "nohitter_game[:5]"
      ],
      "execution_count": null,
      "outputs": [
        {
          "output_type": "execute_result",
          "data": {
            "text/plain": [
              "0     140\n",
              "1    1035\n",
              "2    1046\n",
              "3    1177\n",
              "4    1179\n",
              "Name: game_number, dtype: int64"
            ]
          },
          "metadata": {
            "tags": []
          },
          "execution_count": 5
        }
      ]
    },
    {
      "cell_type": "code",
      "metadata": {
        "id": "scukieeoIXTN"
      },
      "source": [
        "# compute nohitter times between nohitter game\n",
        "nohitter_times = []\n",
        "\n",
        "for i in range(len(nohitter_game)-1):\n",
        "  if nohitter_times == []:\n",
        "    time = nohitter_game[i] - 1 - 0\n",
        "  else:\n",
        "    time = nohitter_game[i] - 1 - nohitter_game[i-1]\n",
        "  \n",
        "  nohitter_times.append(time)"
      ],
      "execution_count": null,
      "outputs": []
    },
    {
      "cell_type": "code",
      "metadata": {
        "id": "cvZYis3uKRwb",
        "colab": {
          "base_uri": "https://localhost:8080/",
          "height": 302
        },
        "outputId": "9b39c699-eb38-41f6-abec-816d3cf443db"
      },
      "source": [
        "# seed random number generator\n",
        "np.random.seed(42)\n",
        "\n",
        "# compute mean hohitter time\n",
        "tau = np.mean(nohitter_times)\n",
        "\n",
        "# draw out an exponential distribution with parameter tau \n",
        "inter_nohitter_time = np.random.exponential(tau, size=100000)\n",
        "\n",
        "# plot pdf\n",
        "sns.set()\n",
        "_ = plt.hist(inter_nohitter_time, bins=50, density=True, histtype='step')\n",
        "_ = plt.xlabel('Game between no-hitter')\n",
        "_ = plt.ylabel('PDF')\n",
        "plt.show()\n",
        "plt.clf()"
      ],
      "execution_count": null,
      "outputs": [
        {
          "output_type": "display_data",
          "data": {
            "image/png": "[encoded data removed]",
            "text/plain": [
              "<Figure size 432x288 with 1 Axes>"
            ]
          },
          "metadata": {
            "tags": []
          }
        },
        {
          "output_type": "display_data",
          "data": {
            "text/plain": [
              "<Figure size 432x288 with 0 Axes>"
            ]
          },
          "metadata": {
            "tags": []
          }
        }
      ]
    },
    {
      "cell_type": "code",
      "metadata": {
        "id": "2RxLEawwuqCd"
      },
      "source": [
        "# plot with CDFs\n",
        "\n",
        "def ecdf(data):\n",
        "  n = len(data)\n",
        "  x = np.sort(data)\n",
        "  y = np.arange(1, n+1) / n\n",
        "  return x, y"
      ],
      "execution_count": null,
      "outputs": []
    },
    {
      "cell_type": "code",
      "metadata": {
        "id": "0qmGcNyJ4S-a",
        "colab": {
          "base_uri": "https://localhost:8080/",
          "height": 302
        },
        "outputId": "6903aea3-0657-4a50-f1ce-80139bf01622"
      },
      "source": [
        "sns.set()\n",
        "\n",
        "# theoritical\n",
        "x_theor, y_theor = ecdf(inter_nohitter_time)\n",
        "_ = plt.plot(x_theor, y_theor)\n",
        "\n",
        "# empirical\n",
        "x, y = ecdf(nohitter_times)\n",
        "_ = plt.plot(x, y, marker='.', linestyle='none')\n",
        "\n",
        "_ = plt.xlabel('Game between no-hitter')\n",
        "_ = plt.ylabel('CDFs')\n",
        "plt.margins(0.02)\n",
        "plt.legend(('Theoritical', 'Empirical'), loc='lower right')\n",
        "plt.show()\n",
        "plt.clf()"
      ],
      "execution_count": null,
      "outputs": [
        {
          "output_type": "display_data",
          "data": {
            "image/png": "[encoded data removed]",
            "text/plain": [
              "<Figure size 432x288 with 1 Axes>"
            ]
          },
          "metadata": {
            "tags": []
          }
        },
        {
          "output_type": "display_data",
          "data": {
            "text/plain": [
              "<Figure size 432x288 with 0 Axes>"
            ]
          },
          "metadata": {
            "tags": []
          }
        }
      ]
    },
    {
      "cell_type": "code",
      "metadata": {
        "id": "9EyQ9CnH5r8x",
        "colab": {
          "base_uri": "https://localhost:8080/",
          "height": 302
        },
        "outputId": "feca4b03-2460-4820-e3b1-5133940a6a8a"
      },
      "source": [
        "# see how the comparison between the previous optimal and the non-optimal parameters that will be tested\n",
        "np.random.seed(42)\n",
        "\n",
        "# parameter lainnya\n",
        "sample_half = np.random.exponential(tau/2, size=100000)\n",
        "sample_double = np.random.exponential(tau*2, size=100000)\n",
        "\n",
        "x_half, y_half = ecdf(sample_half)\n",
        "x_double, y_double = ecdf(sample_double)\n",
        "\n",
        "# plot CDFs\n",
        "sns.set()\n",
        "_ = plt.plot(x_half, y_half)\n",
        "_ = plt.plot(x_double, y_double)\n",
        "plt.margins(0.02)\n",
        "_ = plt.xlabel('Games beetween no hitter')\n",
        "_ = plt.ylabel('CDFs')\n",
        "plt.legend(('half of mean', 'double of mean'), loc='lower right')\n",
        "plt.show()\n",
        "plt.clf()"
      ],
      "execution_count": null,
      "outputs": [
        {
          "output_type": "display_data",
          "data": {
            "image/png": "[encoded data removed]",
            "text/plain": [
              "<Figure size 432x288 with 1 Axes>"
            ]
          },
          "metadata": {
            "tags": []
          }
        },
        {
          "output_type": "display_data",
          "data": {
            "text/plain": [
              "<Figure size 432x288 with 0 Axes>"
            ]
          },
          "metadata": {
            "tags": []
          }
        }
      ]
    },
    {
      "cell_type": "markdown",
      "metadata": {
        "id": "l5-CIMF6_HNG"
      },
      "source": [
        "---\n",
        "**Linear regression by least squares**\n",
        "\n",
        "Selain dengan menghitung korelasi antar fitur pada data dengan Pearson correlation coefficient, juga perlu mengetahui korelasi lebih lanjut dari antar fitur, seperti **linear function**. pada fungsi in terdapat dua parameter penting\n",
        "*   slope\n",
        "*   intercept\n",
        "\n",
        "how figure out which slope and intercept best describe data? **least suqres**\n",
        "\n",
        "**Least squares** adalah process untuk menemukan parameter mana yang jumlah dari kuadrat residual adalah minimal, yang nanti akan didefinisikan dalam bentuk line/garis"
      ]
    },
    {
      "cell_type": "code",
      "metadata": {
        "id": "wslx1Gkj8vIe"
      },
      "source": [
        "# explore korelasi dua fitur (percent of vote for Obama dan total vote)\n",
        "# dari dataset swing state (PA, OH, FL) tahun 2008\n",
        "\n",
        "swing_states = pd.read_csv('/content/drive/My Drive/ColabNotebooks/Datasets/2008_swing_states.csv')\n",
        "\n",
        "# subsetting Obama's vote (percent)\n",
        "obama_votes = swing_states['dem_share']\n",
        "\n",
        "#subsetting total votes\n",
        "total_votes = swing_states['total_votes']"
      ],
      "execution_count": null,
      "outputs": []
    },
    {
      "cell_type": "code",
      "metadata": {
        "id": "N6gY5jZVGFB8",
        "colab": {
          "base_uri": "https://localhost:8080/",
          "height": 302
        },
        "outputId": "fe6f4c1c-cd1a-41ef-c2c5-9bbd6a0be29a"
      },
      "source": [
        "# lihat sebaran data\n",
        "_ = plt.plot(total_votes, obama_votes, marker='.', linestyle='none')\n",
        "_ = plt.xlabel('total votes')\n",
        "_ = plt.ylabel('Percent of votes for Obama')\n",
        "plt.show()\n",
        "plt.clf()"
      ],
      "execution_count": null,
      "outputs": [
        {
          "output_type": "display_data",
          "data": {
            "image/png": "[encoded data removed]",
            "text/plain": [
              "<Figure size 432x288 with 1 Axes>"
            ]
          },
          "metadata": {
            "tags": []
          }
        },
        {
          "output_type": "display_data",
          "data": {
            "text/plain": [
              "<Figure size 432x288 with 0 Axes>"
            ]
          },
          "metadata": {
            "tags": []
          }
        }
      ]
    },
    {
      "cell_type": "markdown",
      "metadata": {
        "id": "EzPFiqtsG5JG"
      },
      "source": [
        "kalau dilihat langsung kita bisa menyimpulkan kalau dua fitur tersebut berkorelasi positif."
      ]
    },
    {
      "cell_type": "code",
      "metadata": {
        "id": "zewYXSERG0Po",
        "colab": {
          "base_uri": "https://localhost:8080/"
        },
        "outputId": "5bac8d66-f5b0-42d1-8e92-d2fe14b09e94"
      },
      "source": [
        "# mendapatkan nilai slope dan intercept dari dua fitur tadi\n",
        "\n",
        "# parameter 1 pada argument ketiga adalah degree value dari polinomial karena linear function\n",
        "slope, intercept = np.polyfit(total_votes, obama_votes, 1)\n",
        "\n",
        "print(slope)\n",
        "print(intercept)"
      ],
      "execution_count": null,
      "outputs": [
        {
          "output_type": "stream",
          "text": [
            "4.0370717009465616e-05\n",
            "40.11391196864175\n"
          ],
          "name": "stdout"
        }
      ]
    },
    {
      "cell_type": "markdown",
      "metadata": {
        "id": "dngq_N6IIhhm"
      },
      "source": [
        "nah, dari slope kita bisa lihat bahwa ada 4% atau lebih suara untuk obama untuk setiap 100.000 tambahan pemilik suara pada county(PA, OH, FL)"
      ]
    },
    {
      "cell_type": "code",
      "metadata": {
        "id": "vGoLDtfhJPpV",
        "colab": {
          "base_uri": "https://localhost:8080/",
          "height": 302
        },
        "outputId": "9a08e21f-e561-4356-90e5-7a1ed2205d0a"
      },
      "source": [
        "# plot linear legression\n",
        "# check max value of total votes : 863486 --> 1000000\n",
        "\n",
        "# make theoritical line plot\n",
        "x = np.array([0, 1000000])\n",
        "y = slope * x + intercept\n",
        "\n",
        "sns.set()\n",
        "_ = plt.plot(total_votes, obama_votes, marker='.', linestyle='none')\n",
        "# overlay with line plot\n",
        "_ = plt.plot(x, y)\n",
        "plt.margins(0.02)\n",
        "_ = plt.xlabel('total votes')\n",
        "_ = plt.ylabel('Percent of votes for Obama')\n",
        "plt.show()\n",
        "plt.clf()"
      ],
      "execution_count": null,
      "outputs": [
        {
          "output_type": "display_data",
          "data": {
            "image/png": "[encoded data removed]",
            "text/plain": [
              "<Figure size 432x288 with 1 Axes>"
            ]
          },
          "metadata": {
            "tags": []
          }
        },
        {
          "output_type": "display_data",
          "data": {
            "text/plain": [
              "<Figure size 432x288 with 0 Axes>"
            ]
          },
          "metadata": {
            "tags": []
          }
        }
      ]
    },
    {
      "cell_type": "markdown",
      "metadata": {
        "id": "5jLrW0puFgaL"
      },
      "source": [
        "The function np.polyfit() that I used to get my regression parameters finds the optimal slope and intercept. It is optimizing the sum of the squares of the residuals, also known as RSS (for residual sum of squares). https://en.wikipedia.org/wiki/Residual_sum_of_squares"
      ]
    },
    {
      "cell_type": "code",
      "metadata": {
        "id": "YWVoVk8bC82E",
        "colab": {
          "base_uri": "https://localhost:8080/",
          "height": 302
        },
        "outputId": "90ffffda-65a2-4edf-882c-f73016d95eeb"
      },
      "source": [
        "# plot the function that is being optimized, the RSS, versus the slope parameter a\n",
        "\n",
        "# specify slope to consider\n",
        "a_slope = np.linspace(0, 0.0001, num=500)\n",
        "\n",
        "# initiallize sum of square of residuals\n",
        "rss = np.empty_like(a_slope)\n",
        "\n",
        "# computer sum of square of residuals for each value of a_slope\n",
        "for i, a in enumerate(a_slope):\n",
        "  rss[i] = np.sum((obama_votes - a * total_votes - intercept)**2)\n",
        "\n",
        "# plot a_slope vs rss\n",
        "_ = plt.plot(a_slope, rss, linestyle='-')\n",
        "_ = plt.xlabel('slope (perscent of votes for Obama / total votes)')\n",
        "_ = plt.ylabel('sum of square of residuals')\n",
        "plt.margins(0.02)\n",
        "plt.show()\n",
        "plt.clf()"
      ],
      "execution_count": null,
      "outputs": [
        {
          "output_type": "display_data",
          "data": {
            "image/png": "[encoded data removed]",
            "text/plain": [
              "<Figure size 432x288 with 1 Axes>"
            ]
          },
          "metadata": {
            "tags": []
          }
        },
        {
          "output_type": "display_data",
          "data": {
            "text/plain": [
              "<Figure size 432x288 with 0 Axes>"
            ]
          },
          "metadata": {
            "tags": []
          }
        }
      ]
    },
    {
      "cell_type": "markdown",
      "metadata": {
        "id": "fmdEn2ogYfhN"
      },
      "source": [
        "bisa dilihat dari figure di atas nilai minimumnya untuk parameter slope yang optimal\n",
        "\n",
        "---"
      ]
    },
    {
      "cell_type": "markdown",
      "metadata": {
        "id": "_oVGNoSc_-PL"
      },
      "source": [
        "contoh 2 pada dataset female literacy dan fertility. korelasi illeteracy dengan fertility"
      ]
    },
    {
      "cell_type": "code",
      "metadata": {
        "id": "kcMitbmbOUWI"
      },
      "source": [
        "# import dataset\n",
        "female_lit_fer = pd.read_csv('/content/drive/My Drive/ColabNotebooks/Datasets/female_literacy_fertility.csv')\n",
        "\n",
        "# subsetting fiture literacy dan fertility\n",
        "literacy = female_lit_fer['female literacy']\n",
        "fertility = female_lit_fer['fertility']"
      ],
      "execution_count": null,
      "outputs": []
    },
    {
      "cell_type": "code",
      "metadata": {
        "id": "Y-VG2_SIQM0x",
        "colab": {
          "base_uri": "https://localhost:8080/"
        },
        "outputId": "9009f28e-b70f-490d-fee8-bb9daf88e50c"
      },
      "source": [
        "# transform data literacy menjadi illeteracy\n",
        "illiteracy = (literacy - 100) * (-1)    # dikurangi 100 karena dalam bentuk persent\n",
        "illiteracy"
      ],
      "execution_count": null,
      "outputs": [
        {
          "output_type": "execute_result",
          "data": {
            "text/plain": [
              "0       9.5\n",
              "1      49.2\n",
              "2       1.0\n",
              "3      11.2\n",
              "4       9.8\n",
              "       ... \n",
              "157    20.5\n",
              "158     1.5\n",
              "159    16.7\n",
              "160     2.0\n",
              "161     0.9\n",
              "Name: female literacy, Length: 162, dtype: float64"
            ]
          },
          "metadata": {
            "tags": []
          },
          "execution_count": 17
        }
      ]
    },
    {
      "cell_type": "code",
      "metadata": {
        "id": "P1IZvGs9PpB0",
        "colab": {
          "base_uri": "https://localhost:8080/",
          "height": 336
        },
        "outputId": "5d4566da-b654-43bb-f207-b9814a6112fa"
      },
      "source": [
        "# plot the illiteracy rate vs fertility\n",
        "\n",
        "_ = plt.plot(illiteracy, fertility, marker='.', linestyle='none')\n",
        "_ = plt.xlabel('Illiteracy')\n",
        "_ = plt.ylabel('Fertility')\n",
        "\n",
        "# perform linear regression usin np.polyfit\n",
        "a, b = np.polyfit(illiteracy, fertility, 1)\n",
        "\n",
        "print(\"slope : \", a)\n",
        "print(\"intercept : \", b)\n",
        "\n",
        "# make theoritical line to plot\n",
        "x = np.array([0, 100])   # hingga minimal nilai terbesar dari x axes : 87.4 --> 100\n",
        "y = a * x + b\n",
        "\n",
        "# plot regression line\n",
        "_ = plt.plot(x, y, linestyle='-')\n",
        "\n",
        "plt.margins(0.02)\n",
        "plt.show()\n",
        "plt.clf()"
      ],
      "execution_count": null,
      "outputs": [
        {
          "output_type": "stream",
          "text": [
            "slope :  0.04979854809063423\n",
            "intercept :  1.8880506106365567\n"
          ],
          "name": "stdout"
        },
        {
          "output_type": "display_data",
          "data": {
            "image/png": "[encoded data removed]",
            "text/plain": [
              "<Figure size 432x288 with 1 Axes>"
            ]
          },
          "metadata": {
            "tags": []
          }
        },
        {
          "output_type": "display_data",
          "data": {
            "text/plain": [
              "<Figure size 432x288 with 0 Axes>"
            ]
          },
          "metadata": {
            "tags": []
          }
        }
      ]
    },
    {
      "cell_type": "code",
      "metadata": {
        "id": "uRjiBonbTmCU",
        "colab": {
          "base_uri": "https://localhost:8080/",
          "height": 302
        },
        "outputId": "80fef663-b05d-4af3-9174-e9e0f52a6039"
      },
      "source": [
        "# optimization for parameter slope vs rss\n",
        "\n",
        "# specify slope to consider\n",
        "a_values = np.linspace(0, 0.1, num=200)\n",
        "\n",
        "# initiallize rss\n",
        "rss = np.empty_like(a_values)\n",
        "\n",
        "# compute rss for each value of slope\n",
        "for i, a in enumerate(a_values):\n",
        "  rss[i] = np.sum((fertility - a * illiteracy - b)**2)\n",
        "\n",
        "# plot slope x rss\n",
        "_ = plt.plot(a_values, rss, linestyle='-')\n",
        "_ = plt.xlabel('Slope (children per woman / percent illiterate)')\n",
        "_ = plt.ylabel('Sum of square of residuals')\n",
        "\n",
        "plt.show()\n",
        "plt.clf()"
      ],
      "execution_count": null,
      "outputs": [
        {
          "output_type": "display_data",
          "data": {
            "image/png": "[encoded data removed]",
            "text/plain": [
              "<Figure size 432x288 with 1 Axes>"
            ]
          },
          "metadata": {
            "tags": []
          }
        },
        {
          "output_type": "display_data",
          "data": {
            "text/plain": [
              "<Figure size 432x288 with 0 Axes>"
            ]
          },
          "metadata": {
            "tags": []
          }
        }
      ]
    },
    {
      "cell_type": "markdown",
      "metadata": {
        "id": "_vx4WnIQbH5k"
      },
      "source": [
        "lihat pada figure di atas kita bisa mendapatkan parameter yang optimal untuk slope\n",
        "\n",
        "---"
      ]
    },
    {
      "cell_type": "code",
      "metadata": {
        "id": "bDQQuIGSbDFe",
        "colab": {
          "base_uri": "https://localhost:8080/",
          "height": 204
        },
        "outputId": "afc6e1b2-e3fc-4e53-9238-ac578f2dc1f3"
      },
      "source": [
        "# Linear regression on appropriate Anscombe data\n",
        "\n",
        "anscombe = pd.read_csv('/content/drive/My Drive/ColabNotebooks/Datasets/anscombe.csv')\n",
        "anscombe.head()"
      ],
      "execution_count": null,
      "outputs": [
        {
          "output_type": "execute_result",
          "data": {
            "text/html": [
              "<div>\n",
              "<style scoped>\n",
              "    .dataframe tbody tr th:only-of-type {\n",
              "        vertical-align: middle;\n",
              "    }\n",
              "\n",
              "    .dataframe tbody tr th {\n",
              "        vertical-align: top;\n",
              "    }\n",
              "\n",
              "    .dataframe thead th {\n",
              "        text-align: right;\n",
              "    }\n",
              "</style>\n",
              "<table border=\"1\" class=\"dataframe\">\n",
              "  <thead>\n",
              "    <tr style=\"text-align: right;\">\n",
              "      <th></th>\n",
              "      <th>0</th>\n",
              "      <th>0.1</th>\n",
              "      <th>1</th>\n",
              "      <th>1.1</th>\n",
              "      <th>2</th>\n",
              "      <th>2.1</th>\n",
              "      <th>3</th>\n",
              "      <th>3.1</th>\n",
              "    </tr>\n",
              "  </thead>\n",
              "  <tbody>\n",
              "    <tr>\n",
              "      <th>0</th>\n",
              "      <td>x</td>\n",
              "      <td>y</td>\n",
              "      <td>x</td>\n",
              "      <td>y</td>\n",
              "      <td>x</td>\n",
              "      <td>y</td>\n",
              "      <td>x</td>\n",
              "      <td>y</td>\n",
              "    </tr>\n",
              "    <tr>\n",
              "      <th>1</th>\n",
              "      <td>10.0</td>\n",
              "      <td>8.04</td>\n",
              "      <td>10.0</td>\n",
              "      <td>9.14</td>\n",
              "      <td>10.0</td>\n",
              "      <td>7.46</td>\n",
              "      <td>8.0</td>\n",
              "      <td>6.58</td>\n",
              "    </tr>\n",
              "    <tr>\n",
              "      <th>2</th>\n",
              "      <td>8.0</td>\n",
              "      <td>6.95</td>\n",
              "      <td>8.0</td>\n",
              "      <td>8.14</td>\n",
              "      <td>8.0</td>\n",
              "      <td>6.77</td>\n",
              "      <td>8.0</td>\n",
              "      <td>5.76</td>\n",
              "    </tr>\n",
              "    <tr>\n",
              "      <th>3</th>\n",
              "      <td>13.0</td>\n",
              "      <td>7.58</td>\n",
              "      <td>13.0</td>\n",
              "      <td>8.74</td>\n",
              "      <td>13.0</td>\n",
              "      <td>12.74</td>\n",
              "      <td>8.0</td>\n",
              "      <td>7.71</td>\n",
              "    </tr>\n",
              "    <tr>\n",
              "      <th>4</th>\n",
              "      <td>9.0</td>\n",
              "      <td>8.81</td>\n",
              "      <td>9.0</td>\n",
              "      <td>8.77</td>\n",
              "      <td>9.0</td>\n",
              "      <td>7.11</td>\n",
              "      <td>8.0</td>\n",
              "      <td>8.84</td>\n",
              "    </tr>\n",
              "  </tbody>\n",
              "</table>\n",
              "</div>"
            ],
            "text/plain": [
              "      0   0.1     1   1.1     2    2.1    3   3.1\n",
              "0     x     y     x     y     x      y    x     y\n",
              "1  10.0  8.04  10.0  9.14  10.0   7.46  8.0  6.58\n",
              "2   8.0  6.95   8.0  8.14   8.0   6.77  8.0  5.76\n",
              "3  13.0  7.58  13.0  8.74  13.0  12.74  8.0  7.71\n",
              "4   9.0  8.81   9.0  8.77   9.0   7.11  8.0  8.84"
            ]
          },
          "metadata": {
            "tags": []
          },
          "execution_count": 20
        }
      ]
    },
    {
      "cell_type": "code",
      "metadata": {
        "id": "u9akt4V8fiIz",
        "colab": {
          "base_uri": "https://localhost:8080/",
          "height": 204
        },
        "outputId": "075983a4-0ca7-4f71-8a80-4c5a614d0d4e"
      },
      "source": [
        "anscombe = anscombe.drop([0])\n",
        "anscombe.head()"
      ],
      "execution_count": null,
      "outputs": [
        {
          "output_type": "execute_result",
          "data": {
            "text/html": [
              "<div>\n",
              "<style scoped>\n",
              "    .dataframe tbody tr th:only-of-type {\n",
              "        vertical-align: middle;\n",
              "    }\n",
              "\n",
              "    .dataframe tbody tr th {\n",
              "        vertical-align: top;\n",
              "    }\n",
              "\n",
              "    .dataframe thead th {\n",
              "        text-align: right;\n",
              "    }\n",
              "</style>\n",
              "<table border=\"1\" class=\"dataframe\">\n",
              "  <thead>\n",
              "    <tr style=\"text-align: right;\">\n",
              "      <th></th>\n",
              "      <th>0</th>\n",
              "      <th>0.1</th>\n",
              "      <th>1</th>\n",
              "      <th>1.1</th>\n",
              "      <th>2</th>\n",
              "      <th>2.1</th>\n",
              "      <th>3</th>\n",
              "      <th>3.1</th>\n",
              "    </tr>\n",
              "  </thead>\n",
              "  <tbody>\n",
              "    <tr>\n",
              "      <th>1</th>\n",
              "      <td>10.0</td>\n",
              "      <td>8.04</td>\n",
              "      <td>10.0</td>\n",
              "      <td>9.14</td>\n",
              "      <td>10.0</td>\n",
              "      <td>7.46</td>\n",
              "      <td>8.0</td>\n",
              "      <td>6.58</td>\n",
              "    </tr>\n",
              "    <tr>\n",
              "      <th>2</th>\n",
              "      <td>8.0</td>\n",
              "      <td>6.95</td>\n",
              "      <td>8.0</td>\n",
              "      <td>8.14</td>\n",
              "      <td>8.0</td>\n",
              "      <td>6.77</td>\n",
              "      <td>8.0</td>\n",
              "      <td>5.76</td>\n",
              "    </tr>\n",
              "    <tr>\n",
              "      <th>3</th>\n",
              "      <td>13.0</td>\n",
              "      <td>7.58</td>\n",
              "      <td>13.0</td>\n",
              "      <td>8.74</td>\n",
              "      <td>13.0</td>\n",
              "      <td>12.74</td>\n",
              "      <td>8.0</td>\n",
              "      <td>7.71</td>\n",
              "    </tr>\n",
              "    <tr>\n",
              "      <th>4</th>\n",
              "      <td>9.0</td>\n",
              "      <td>8.81</td>\n",
              "      <td>9.0</td>\n",
              "      <td>8.77</td>\n",
              "      <td>9.0</td>\n",
              "      <td>7.11</td>\n",
              "      <td>8.0</td>\n",
              "      <td>8.84</td>\n",
              "    </tr>\n",
              "    <tr>\n",
              "      <th>5</th>\n",
              "      <td>11.0</td>\n",
              "      <td>8.33</td>\n",
              "      <td>11.0</td>\n",
              "      <td>9.26</td>\n",
              "      <td>11.0</td>\n",
              "      <td>7.81</td>\n",
              "      <td>8.0</td>\n",
              "      <td>8.47</td>\n",
              "    </tr>\n",
              "  </tbody>\n",
              "</table>\n",
              "</div>"
            ],
            "text/plain": [
              "      0   0.1     1   1.1     2    2.1    3   3.1\n",
              "1  10.0  8.04  10.0  9.14  10.0   7.46  8.0  6.58\n",
              "2   8.0  6.95   8.0  8.14   8.0   6.77  8.0  5.76\n",
              "3  13.0  7.58  13.0  8.74  13.0  12.74  8.0  7.71\n",
              "4   9.0  8.81   9.0  8.77   9.0   7.11  8.0  8.84\n",
              "5  11.0  8.33  11.0  9.26  11.0   7.81  8.0  8.47"
            ]
          },
          "metadata": {
            "tags": []
          },
          "execution_count": 21
        }
      ]
    },
    {
      "cell_type": "code",
      "metadata": {
        "id": "z_Axoh_0nfUA"
      },
      "source": [
        "# initialize set of anscombe\n",
        "anscombe_x = []\n",
        "anscombe_y = []\n",
        "\n",
        "# subsetting x and y respectively\n",
        "for i, j in enumerate(anscombe):\n",
        "  if i % 2 == 0:\n",
        "    x = []\n",
        "    for value in anscombe[j]:\n",
        "      # string to float\n",
        "      x.append(float(value))\n",
        "\n",
        "    anscombe_x.append(np.array(x))  \n",
        "  else:\n",
        "    y = []\n",
        "    for value in anscombe[j]:\n",
        "      # string to float\n",
        "      y.append(float(value))\n",
        "    \n",
        "    anscombe_y.append(np.array(y))"
      ],
      "execution_count": null,
      "outputs": []
    },
    {
      "cell_type": "code",
      "metadata": {
        "id": "_QAP6uKK37Rq"
      },
      "source": [
        "# plot tiap anscombe\n",
        "def show_anscombe(x, y):\n",
        "  ''' Plot sebaran data dan regression'''\n",
        "  \n",
        "  _ = plt.plot(x, y, marker='.', linestyle='none')\n",
        "  _ = plt.xlabel('x')\n",
        "  _ = plt.ylabel('y')\n",
        "\n",
        "  # slope and intercept\n",
        "  a, b = np.polyfit(x, y, 1)\n",
        "\n",
        "  # compute theoritical line\n",
        "  x_line = np.array([0, 15])\n",
        "  y_line = a * x_line + b\n",
        "\n",
        "  # plot the line\n",
        "  _ = plt.plot(x_line, y_line)\n",
        "  \n",
        "  plt.margins(.02)\n",
        "  plt.show()\n",
        "  plt.clf()"
      ],
      "execution_count": null,
      "outputs": []
    },
    {
      "cell_type": "code",
      "metadata": {
        "id": "0QrLtPh45RCc",
        "colab": {
          "base_uri": "https://localhost:8080/",
          "height": 1000
        },
        "outputId": "b38381cd-6d75-46ab-a5cb-a1b983b00394"
      },
      "source": [
        "# plot\n",
        "for i in range(4):\n",
        "  show_anscombe(anscombe_x[i], anscombe_y[i])"
      ],
      "execution_count": null,
      "outputs": [
        {
          "output_type": "display_data",
          "data": {
            "image/png": "[encoded data removed]",
            "text/plain": [
              "<Figure size 432x288 with 1 Axes>"
            ]
          },
          "metadata": {
            "tags": []
          }
        },
        {
          "output_type": "display_data",
          "data": {
            "image/png": "[encoded data removed]",
            "text/plain": [
              "<Figure size 432x288 with 1 Axes>"
            ]
          },
          "metadata": {
            "tags": []
          }
        },
        {
          "output_type": "display_data",
          "data": {
            "image/png": "[encoded data removed]",
            "text/plain": [
              "<Figure size 432x288 with 1 Axes>"
            ]
          },
          "metadata": {
            "tags": []
          }
        },
        {
          "output_type": "display_data",
          "data": {
            "image/png": "[encoded data removed]",
            "text/plain": [
              "<Figure size 432x288 with 1 Axes>"
            ]
          },
          "metadata": {
            "tags": []
          }
        },
        {
          "output_type": "display_data",
          "data": {
            "text/plain": [
              "<Figure size 432x288 with 0 Axes>"
            ]
          },
          "metadata": {
            "tags": []
          }
        }
      ]
    },
    {
      "cell_type": "markdown",
      "metadata": {
        "id": "BOoR_4fD8fOp"
      },
      "source": [
        "kesimpuan pada tiap gambar berdasarkan urutan gambar\n",
        "1.   sudah sesuai dengan model linear regression\n",
        "2.   jelas bukan linear, jadi butuh model lain\n",
        "3.   setelah melakukan EDA, perlu untuk mengetahui penyebab outlier. karena outlier menyebabkan perubahan pada slope dan intercept\n",
        "4.   mungkin memiliki linear relationship antara x dan y tapi perlu lebih banyak data lagi pada x untuk memastikannya"
      ]
    },
    {
      "cell_type": "code",
      "metadata": {
        "id": "Cu0_E8h2-6NX",
        "colab": {
          "base_uri": "https://localhost:8080/"
        },
        "outputId": "4c2b200c-eea6-4923-c399-d9ba1306354c"
      },
      "source": [
        "# compute linear regression to all anscombe\n",
        "\n",
        "for x, y in zip(anscombe_x, anscombe_y):\n",
        "  a, b = np.polyfit(x, y, 1)\n",
        "  print('slope : ' + str(a)+ ' and intercept : ' + str(b))"
      ],
      "execution_count": null,
      "outputs": [
        {
          "output_type": "stream",
          "text": [
            "slope : 0.5000909090909094 and intercept : 3.000090909090908\n",
            "slope : 0.5000000000000003 and intercept : 3.0009090909090905\n",
            "slope : 0.49972727272727313 and intercept : 3.002454545454545\n",
            "slope : 0.4999090909090908 and intercept : 3.0017272727272735\n"
          ],
          "name": "stdout"
        }
      ]
    },
    {
      "cell_type": "markdown",
      "metadata": {
        "id": "ClGk1b_BAHMw"
      },
      "source": [
        "tiap-tiap slope dan intercept memiliki nilai yang hampir dikatakan sama\n",
        "\n",
        "---"
      ]
    },
    {
      "cell_type": "markdown",
      "metadata": {
        "id": "bxs8kcJnArle"
      },
      "source": [
        "# Bootstrap confidence intervals"
      ]
    },
    {
      "cell_type": "markdown",
      "metadata": {
        "id": "FY4zKN9M__Cp"
      },
      "source": [
        "Biasanya saat eksperimen kita jarang tertarik atau puas dengan hasil satu kali experiment / satu kali perolehan data. jadinya kita membutuhkan percobaan experiment lebih banyak lagi. tapi masalahnya ketika data yang kita gunakan sudah terpakai pada eksperimen pertama, jadinya kita perlu melakukan manipulasi untuk mendapatkan data yang kumpulan nilai yang kolektif dari data pertama, dan menghasilkan kesimpulan statistik yang lebih banyak. Teknik ini dikenal dengan Bootstrapping.\n",
        "\n",
        "**Bootstrapping** ~ The use resampled data to perform statistical inference\n",
        "\n",
        "**Bootstrap sample** ~ A redampled array of the data\n",
        "\n",
        "**Bootstrap replicate** ~ A statistic compute from a resampled array or a value of the summary statistic computed from the bootstrap sample"
      ]
    },
    {
      "cell_type": "code",
      "metadata": {
        "id": "ArkpcPPYA2rY",
        "colab": {
          "base_uri": "https://localhost:8080/"
        },
        "outputId": "6854539e-4148-4428-f2a5-12b034c1cf00"
      },
      "source": [
        "# contoh bootstrap sample dari data pengukuran kecepatan cahaya\n",
        "\n",
        "# import dataset speed of light\n",
        "michelson_speed_of_light = pd.read_csv('/content/drive/My Drive/ColabNotebooks/Datasets/michelson_speed_of_light.csv')\n",
        "speed_of_light = michelson_speed_of_light['velocity of light in air (km/s)']\n",
        "\n",
        "# resampling\n",
        "bs_sample = np.random.choice(speed_of_light, size=len(speed_of_light))\n",
        "\n",
        "# lihat 5 data pertama\n",
        "print('Data empiris,', 'Bootstrap samples')\n",
        "count = 0\n",
        "for i, j in zip(speed_of_light, bs_sample):\n",
        "  if count < 5:\n",
        "    print(i, j)\n",
        "  count += 1"
      ],
      "execution_count": null,
      "outputs": [
        {
          "output_type": "stream",
          "text": [
            "Data empiris, Bootstrap samples\n",
            "299850 299920\n",
            "299740 299880\n",
            "299900 299870\n",
            "300070 299880\n",
            "299930 299880\n"
          ],
          "name": "stdout"
        }
      ]
    },
    {
      "cell_type": "code",
      "metadata": {
        "id": "j6LDVkPCA07i",
        "colab": {
          "base_uri": "https://localhost:8080/"
        },
        "outputId": "aff86375-5742-4efc-84b3-00db54669671"
      },
      "source": [
        "# bisa pilih summary statistics yang inginkan\n",
        "print(np.mean(bs_sample))\n",
        "print(np.std(bs_sample))\n",
        "print(np.median(bs_sample))"
      ],
      "execution_count": null,
      "outputs": [
        {
          "output_type": "stream",
          "text": [
            "299853.5\n",
            "79.33946054769972\n",
            "299850.0\n"
          ],
          "name": "stdout"
        }
      ]
    },
    {
      "cell_type": "code",
      "metadata": {
        "id": "I5Za5BYJt9IX",
        "colab": {
          "base_uri": "https://localhost:8080/",
          "height": 302
        },
        "outputId": "9a83ac68-9e32-474d-beb4-99cf28f93383"
      },
      "source": [
        "# Visualizing bootstrap samples\n",
        "\n",
        "for i in range(50):\n",
        "  # generate bootstrap sample\n",
        "  bs_samples = np.random.choice(speed_of_light, size=len(speed_of_light))\n",
        "\n",
        "  # compute and plot cdf from bootstrap samples\n",
        "  bs_x, bs_y = ecdf(bs_sample)\n",
        "  _ = plt.plot(bs_x, bs_y, marker='.', linestyle='none', alpha=0.05, color='gray')\n",
        "\n",
        "# compute and plot ecdf\n",
        "x, y = ecdf(speed_of_light)\n",
        "_ = plt.plot(x, y, marker='.')\n",
        "_ = plt.xlabel('speed of light')\n",
        "_ = plt.ylabel('CDFs')\n",
        "plt.margins(0.02)\n",
        "plt.show()\n",
        "plt.clf()"
      ],
      "execution_count": null,
      "outputs": [
        {
          "output_type": "display_data",
          "data": {
            "image/png": "[encoded data removed]",
            "text/plain": [
              "<Figure size 432x288 with 1 Axes>"
            ]
          },
          "metadata": {
            "tags": []
          }
        },
        {
          "output_type": "display_data",
          "data": {
            "text/plain": [
              "<Figure size 432x288 with 0 Axes>"
            ]
          },
          "metadata": {
            "tags": []
          }
        }
      ]
    },
    {
      "cell_type": "markdown",
      "metadata": {
        "id": "48v-ASNy2rfe"
      },
      "source": [
        "---\n",
        "sheffield weather station dataset"
      ]
    },
    {
      "cell_type": "code",
      "metadata": {
        "id": "xNUhm_KdwwNx"
      },
      "source": [
        "# karena datanya error saat di parsing jadinya bikin gini aja sampai nemu solusi\n",
        "rainfall = [875.5, 648.2, 788.1, 940.3, 491.1, 743.5, 730.1, 686.5, 878.8, \n",
        "            865.6, 654.9, 831.5, 798.1, 681.8, 743.8, 689.1, 752.1, 837.2, \n",
        "            710.6, 749.2, 967.1, 701.2, 619. , 747.6, 803.4, 645.6, 804.1,\n",
        "            787.4, 646.8, 997.1, 774. , 734.5, 835. , 840.7, 659.6, 828.3,\n",
        "            909.7, 856.9, 578.3, 904.2, 883.9, 740.1, 773.9, 741.4, 866.8,\n",
        "            871.1, 712.5, 919.2, 927.9, 809.4, 633.8, 626.8, 871.3, 774.3,\n",
        "            898.8, 789.6, 936.3, 765.4, 882.1, 681.1, 661.3, 847.9, 683.9,\n",
        "            985.7, 771.1, 736.6, 713.2, 774.5, 937.7, 694.5, 598.2, 983.8,\n",
        "            700.2, 901.3, 733.5, 964.4, 609.3, 1035.2, 718. , 688.6, 736.8,\n",
        "            643.3, 1038.5, 969. , 802.7, 876.6, 944.7, 786.6, 770.4, 808.6,\n",
        "            761.3, 774.2, 559.3, 674.2, 883.6, 823.9, 960.4, 877.8, 940.6,\n",
        "            831.8, 906.2, 866.5, 674.1, 998.1, 789.3, 915. , 737.1, 763. , \n",
        "            666.7, 824.5, 913.8, 905.1, 667.8, 747.4, 784.7, 925.4, 880.2,\n",
        "            1086.9, 764.4, 1050.1, 595.2, 855.2, 726.9, 785.2, 948.8, 970.6, \n",
        "            896. , 618.4, 572.4, 1146.4, 728.2, 864.2, 793.]\n",
        "rainfall = np.array(rainfall)"
      ],
      "execution_count": null,
      "outputs": []
    },
    {
      "cell_type": "code",
      "metadata": {
        "id": "fwmrWVxo290d",
        "colab": {
          "base_uri": "https://localhost:8080/",
          "height": 302
        },
        "outputId": "01807af0-9e0e-4403-c2c4-f26d466969c1"
      },
      "source": [
        "# visualizing bootstrap sample\n",
        "\n",
        "for i in range(50):\n",
        "  # generate bootstrap samples\n",
        "  bs_samples = np.random.choice(rainfall, size=len(rainfall))\n",
        "\n",
        "  # compute and plot CDF from bootstrap samples\n",
        "  bs_x, bs_y = ecdf(bs_samples)\n",
        "  _ = plt.plot(bs_x, bs_y, marker='.', linestyle='none', color='gray', alpha=0.1)\n",
        "\n",
        "# compute and plot ECDF\n",
        "x, y = ecdf(rainfall)\n",
        "_ = plt.plot(x, y, marker='.')\n",
        "_ = plt.xlabel('yeraly rainfall (mm)')\n",
        "_ = plt.ylabel('CDFs')\n",
        "plt.margins(.02)\n",
        "plt.show()\n",
        "plt.clf()"
      ],
      "execution_count": null,
      "outputs": [
        {
          "output_type": "display_data",
          "data": {
            "image/png": "[encoded data removed]",
            "text/plain": [
              "<Figure size 432x288 with 1 Axes>"
            ]
          },
          "metadata": {
            "tags": []
          }
        },
        {
          "output_type": "display_data",
          "data": {
            "text/plain": [
              "<Figure size 432x288 with 0 Axes>"
            ]
          },
          "metadata": {
            "tags": []
          }
        }
      ]
    },
    {
      "cell_type": "markdown",
      "metadata": {
        "id": "68UwlaCu_MqE"
      },
      "source": [
        "---\n",
        "karena kalau lihat pada cell sebelumnya itukan melakukan eksperimen ulang berulang dengan melakukan bootstrap replicate, maka untuk summary of statistics lainnya kenapa tidak dibuat function yang generate bootstrap replicate. selain itu juga bisa menentukan **bootstrap confidance interval** dari distribusi probabilitas dari bootstrap replicate"
      ]
    },
    {
      "cell_type": "code",
      "metadata": {
        "id": "lpee1HJU_LcM"
      },
      "source": [
        "# bootstrap replicate function\n",
        "\n",
        "def bootstrap_repilcate_1d(data, func):\n",
        "  ''' Generate bootstrap replicate of 1D data '''\n",
        "  bs_sample = np.random.choice(data, size=len(data))\n",
        "\n",
        "  return func(bs_sample)"
      ],
      "execution_count": null,
      "outputs": []
    },
    {
      "cell_type": "code",
      "metadata": {
        "id": "oyEbaEYGBNv9",
        "colab": {
          "base_uri": "https://localhost:8080/"
        },
        "outputId": "06087367-cc10-4836-8531-71188f2c2c68"
      },
      "source": [
        "# try compute the mean of bs speed of light\n",
        "print(bootstrap_repilcate_1d(speed_of_light, np.mean))\n",
        "print(bootstrap_repilcate_1d(speed_of_light, np.mean))\n",
        "print(bootstrap_repilcate_1d(speed_of_light, np.mean))"
      ],
      "execution_count": null,
      "outputs": [
        {
          "output_type": "stream",
          "text": [
            "299838.9\n",
            "299849.7\n",
            "299866.6\n"
          ],
          "name": "stdout"
        }
      ]
    },
    {
      "cell_type": "markdown",
      "metadata": {
        "id": "UgUNQTVgBqRK"
      },
      "source": [
        "I have vary value of the mean, cool!"
      ]
    },
    {
      "cell_type": "code",
      "metadata": {
        "id": "XP3rLwISLDmR"
      },
      "source": [
        "# many bootstrap replicate\n",
        "\n",
        "def draw_bs_replicates(data, func, size=1):\n",
        "  bs_replicates = np.empty(size)\n",
        "  for i in range(size):\n",
        "    bs_replicates[i] = bootstrap_repilcate_1d(data, func)\n",
        "  \n",
        "  return bs_replicates"
      ],
      "execution_count": null,
      "outputs": []
    },
    {
      "cell_type": "code",
      "metadata": {
        "id": "zJqvT8-UBpbB"
      },
      "source": [
        "# many bootstrap replicate dari speed of light\n",
        "\n",
        "bs_replicates = draw_bs_replicates(speed_of_light, np.mean, size=10000)"
      ],
      "execution_count": null,
      "outputs": []
    },
    {
      "cell_type": "code",
      "metadata": {
        "id": "WBGhlG6aCl_D",
        "colab": {
          "base_uri": "https://localhost:8080/",
          "height": 302
        },
        "outputId": "cb0f135e-cddc-420e-e240-0239bb4bfd6f"
      },
      "source": [
        "# plotting a histogram of botstrap duplicates\n",
        "\n",
        "_ = plt.hist(bs_replicates, bins=30, density=True)\n",
        "_ = plt.xlabel('Mean speed of light (km/s)')\n",
        "_ = plt.ylabel('PDF')\n",
        "plt.show()\n",
        "plt.clf()"
      ],
      "execution_count": null,
      "outputs": [
        {
          "output_type": "display_data",
          "data": {
            "image/png": "[encoded data removed]",
            "text/plain": [
              "<Figure size 432x288 with 1 Axes>"
            ]
          },
          "metadata": {
            "tags": []
          }
        },
        {
          "output_type": "display_data",
          "data": {
            "text/plain": [
              "<Figure size 432x288 with 0 Axes>"
            ]
          },
          "metadata": {
            "tags": []
          }
        }
      ]
    },
    {
      "cell_type": "markdown",
      "metadata": {
        "id": "u-0mpBmLDaQT"
      },
      "source": [
        "Nah dari grafik diatas, area dibawah PDF itukan memberikan probability. di part sebelumnya bisa diliat lagi, kalau lupa wkwkwk. nah karena telah menghitung perkiraan PDF dari mean speed of light yang diharapkan jika melakukan pengukuran lagi.\n",
        "\n",
        "Trus jika kita melakukan experimen lagi dan lagi, nah cara ini bagus untuk menimpulkan hasil tanpa mengurutkan data ke dalam graphical method seperti histogram. Dan untuk melakukannya, misalnya kita akan menghitung 95% confidence interval dari mean.\n",
        "\n",
        "**Confidence interval of statistics** ~ if we repeat measurement over and over again, p% of the obseved value would lie within the p% convidence interval.\n",
        "\n",
        "misalnya pada case diatas, jika kita mengulangi 100 pengukuran kecepatan cahaya berulang kali, 95% rata-rata sampel akan berada dalam interval kepercayaan 95%.\n",
        "\n",
        "artinya, kita melakukan bootstrap replicate (mengulangi experiment berulangkali). jadi bisa menggunakan persentil, dengan menghitung persentil ke 2.5 dan 97.5 untuk mendapatkan 95% confidence interval, nah ini bisa dilihat di histogram"
      ]
    },
    {
      "cell_type": "markdown",
      "metadata": {
        "id": "YOSAGgLNITEE"
      },
      "source": [
        "Dengan melakukan replika bootstrap, kami hanya \"mengulangi\" eksperimen tersebut berulang kali. Jadi, kami hanya menggunakan persentil np titik untuk menghitung persentil 2 poin ke 5 dan 97 poin ke 5 untuk mendapatkan interval kepercayaan 95%. Ini memang sepadan dengan apa yang kita lihat di histogram"
      ]
    },
    {
      "cell_type": "code",
      "metadata": {
        "id": "BF_p4_n-Gyjj",
        "colab": {
          "base_uri": "https://localhost:8080/"
        },
        "outputId": "3899271c-635d-4cd3-8f73-0d519aa5f766"
      },
      "source": [
        "# 95% confidence interval\n",
        "\n",
        "conf_int = np.percentile(bs_replicates, [2.5, 97.5])\n",
        "conf_int"
      ],
      "execution_count": null,
      "outputs": [
        {
          "output_type": "execute_result",
          "data": {
            "text/plain": [
              "array([299836.9, 299867.6])"
            ]
          },
          "metadata": {
            "tags": []
          },
          "execution_count": 36
        }
      ]
    },
    {
      "cell_type": "markdown",
      "metadata": {
        "id": "8bsqxx8UKqeE"
      },
      "source": [
        "lihat confidence interval di x axes dari hasil persentil\n",
        "\n",
        "---"
      ]
    },
    {
      "cell_type": "code",
      "metadata": {
        "id": "GdH08VTOKyK1",
        "colab": {
          "base_uri": "https://localhost:8080/",
          "height": 319
        },
        "outputId": "004beae6-116e-42f4-f27e-c6b1606c6640"
      },
      "source": [
        "# compute a bootstrap estimate of the probability density function of the mean annual rainfall at the Sheffield Weather Station\n",
        "\n",
        "bs_replicates_rainfall = draw_bs_replicates(rainfall, np.mean, size=10000)\n",
        "\n",
        "# 95% confidence interval\n",
        "conf_int = np.percentile(bs_replicates_rainfall, [2.5, 97.5])\n",
        "print('95% confidence interval =', conf_int, 'mm')\n",
        "\n",
        "_ = plt.hist(bs_replicates_rainfall, bins=50, density=True)\n",
        "_ = plt.xlabel('mean anual rainfall (mm)')\n",
        "_ = plt.ylabel('PDF')\n",
        "plt.show()\n",
        "plt.clf()"
      ],
      "execution_count": null,
      "outputs": [
        {
          "output_type": "stream",
          "text": [
            "95% confidence interval = [779.58518797 820.06261278] mm\n"
          ],
          "name": "stdout"
        },
        {
          "output_type": "display_data",
          "data": {
            "image/png": "[encoded data removed]",
            "text/plain": [
              "<Figure size 432x288 with 1 Axes>"
            ]
          },
          "metadata": {
            "tags": []
          }
        },
        {
          "output_type": "display_data",
          "data": {
            "text/plain": [
              "<Figure size 432x288 with 0 Axes>"
            ]
          },
          "metadata": {
            "tags": []
          }
        }
      ]
    },
    {
      "cell_type": "markdown",
      "metadata": {
        "id": "HTRTDiW-O13z"
      },
      "source": [
        "Nah sebenarnya ini secara visualpun terlihat terdistribusi normal. Tapi emang faktanya, dapat ditunjukkan secara teoritis bahwa dalam kondisi tidak terlalu restriktif, nilai mean akan selalu terdistribusi secara normal (Ini tidak berlaku secara umum, hanya untuk mean dan beberapa statistik lainnya aja)."
      ]
    },
    {
      "cell_type": "markdown",
      "metadata": {
        "id": "YIBCMj48PlgX"
      },
      "source": [
        "Dan yang menarik lainnya, Standard Deviasi dari distribusi diatas itu sama dengan **SEM (standard error of the mean)** dari data empiris (rainfall). Rujukan: https://en.wikipedia.org/wiki/Standard_error"
      ]
    },
    {
      "cell_type": "code",
      "metadata": {
        "id": "rfTeJxTFQ7EY",
        "colab": {
          "base_uri": "https://localhost:8080/"
        },
        "outputId": "6217cb91-9caa-4f06-f6a0-32bb717def2d"
      },
      "source": [
        "# SEM vs Std of sampling distribution of mean\n",
        "\n",
        "sem = np.std(rainfall) / np.sqrt(len(rainfall))\n",
        "\n",
        "bs_std = np.std(bs_replicates_rainfall)\n",
        "\n",
        "print(sem, bs_std)"
      ],
      "execution_count": null,
      "outputs": [
        {
          "output_type": "stream",
          "text": [
            "10.510549150506188 10.407872280183724\n"
          ],
          "name": "stdout"
        }
      ]
    },
    {
      "cell_type": "code",
      "metadata": {
        "id": "eDXfQoxKS3lu",
        "colab": {
          "base_uri": "https://localhost:8080/",
          "height": 319
        },
        "outputId": "a959025d-53b9-4244-94b9-176b16e765ba"
      },
      "source": [
        "# Bootstrap replicates of other statistics : variance\n",
        "\n",
        "# Generate 10,000 bootstrap replicates of the variance\n",
        "bs_rep_rainfall_var = draw_bs_replicates(rainfall, np.mean, size=10000)\n",
        "\n",
        "# Put the variance in units of square centimeters\n",
        "x = bs_rep_rainfall_var / 100\n",
        "\n",
        "# plot PDF\n",
        "_ = plt.hist(x, bins=50, density=True)\n",
        "_ = plt.xlabel('variance of annual rainfall (sq. cm)')\n",
        "_ = plt.ylabel('PDF')\n",
        "plt.show()\n",
        "plt.clf()\n",
        "\n",
        "# Compute the 95% confidence interval: conf_int\n",
        "conf_int = np.percentile(x, [2.5, 97.5])\n",
        "print('95% confidence interval =', conf_int, 'cm')"
      ],
      "execution_count": null,
      "outputs": [
        {
          "output_type": "display_data",
          "data": {
            "image/png": "[encoded data removed]",
            "text/plain": [
              "<Figure size 432x288 with 1 Axes>"
            ]
          },
          "metadata": {
            "tags": []
          }
        },
        {
          "output_type": "stream",
          "text": [
            "95% confidence interval = [7.79603496 8.21099492] cm\n"
          ],
          "name": "stdout"
        },
        {
          "output_type": "display_data",
          "data": {
            "text/plain": [
              "<Figure size 432x288 with 0 Axes>"
            ]
          },
          "metadata": {
            "tags": []
          }
        }
      ]
    },
    {
      "cell_type": "code",
      "metadata": {
        "id": "T3cPqdZ7VvbD",
        "colab": {
          "base_uri": "https://localhost:8080/",
          "height": 323
        },
        "outputId": "50265ff3-78b9-4362-a26b-fc0b47074399"
      },
      "source": [
        "# oke coba cari optimal parameter dari Confidence interval on the rate of no-hitters\n",
        "# nohitter times udah ada diatas tinggal panggil\n",
        "\n",
        "# Draw bootstrap replicates of the mean no-hitter time (equal to tau)\n",
        "bs_replicates = draw_bs_replicates(nohitter_times, np.mean, size=10000)\n",
        "\n",
        "# hitung the 95% confidence interval\n",
        "conf_int = np.percentile(bs_replicates, [2.5, 97.5])\n",
        "print('95% confidence interval =', conf_int, 'games')\n",
        "\n",
        "# Plot the histogram of the replicates\n",
        "_ = plt.hist(bs_replicates, bins=50, density=True)\n",
        "_ = plt.xlabel(r'$\\tau$ (games)')\n",
        "_ = plt.ylabel('PDF')\n",
        "plt.show()\n",
        "plt.clf()"
      ],
      "execution_count": null,
      "outputs": [
        {
          "output_type": "stream",
          "text": [
            "95% confidence interval = [626.14351536 816.20042662] games\n"
          ],
          "name": "stdout"
        },
        {
          "output_type": "display_data",
          "data": {
            "image/png": "[encoded data removed]",
            "text/plain": [
              "<Figure size 432x288 with 1 Axes>"
            ]
          },
          "metadata": {
            "tags": []
          }
        },
        {
          "output_type": "display_data",
          "data": {
            "text/plain": [
              "<Figure size 432x288 with 0 Axes>"
            ]
          },
          "metadata": {
            "tags": []
          }
        }
      ]
    },
    {
      "cell_type": "markdown",
      "metadata": {
        "id": "73J9V6tqaUR2"
      },
      "source": [
        "---\n",
        "**Pair Bootstrap for Linear Regression** ~ Resample data in pairs"
      ]
    },
    {
      "cell_type": "markdown",
      "metadata": {
        "id": "UGGM7cZ4ayU9"
      },
      "source": [
        "study case:\n",
        "misalnya dari pemilihan suara yang didapat obama dan total suara keseluruhan tiap tiap county dilakukan pemilihan lagi, atau tambahan. jadi bayangkan perubahan intercept dan slope bakal seperti apa. jadi bagaimana kita estimasi perubahan tersebut, dan bagaimana dengan confidence interval optimal parameter untuk kedua parameter tersebut.\n",
        "\n",
        "dan untuk resampling data lagi karena tidak lagi 1 dimensi, maka perlu melakukan manipulasi resampling indeks yang nantinya di susun ke pada dua fitur total votes dan votes share for obama"
      ]
    },
    {
      "cell_type": "code",
      "metadata": {
        "id": "rc659qmNgL1n"
      },
      "source": [
        "def draw_bs_pair_linreg(x, y, size=1):\n",
        "  \"\"\"Perform pairs bootstrap for linear regression.\"\"\"\n",
        "\n",
        "  # set up array indices to sample from\n",
        "  inds = np.arange(len(x))\n",
        "\n",
        "  # initialize replicates\n",
        "  bs_slope_reps = np.empty(size)\n",
        "  bs_intercept_reps = np.empty(size)\n",
        "\n",
        "  # generate replicates\n",
        "  for i in range(size):\n",
        "    bs_inds = np.random.choice(inds, size=len(inds))\n",
        "    bs_x = x[bs_inds]\n",
        "    bs_y = y[bs_inds]\n",
        "    bs_slope_reps[i], bs_intercept_reps[i] = np.polyfit(bs_x, bs_y, 1)\n",
        "\n",
        "  return bs_slope_reps, bs_intercept_reps"
      ],
      "execution_count": null,
      "outputs": []
    },
    {
      "cell_type": "code",
      "metadata": {
        "id": "l3BdI38DjKhR",
        "colab": {
          "base_uri": "https://localhost:8080/",
          "height": 319
        },
        "outputId": "44394f77-85e6-44b7-899b-991fbcbd7c95"
      },
      "source": [
        "# Generate replicates of slope and intercept using pairs bootstrap\n",
        "bs_slope_reps, bs_intercept_reps = draw_bs_pair_linreg(total_votes,\n",
        "                                                       obama_votes,\n",
        "                                                       size=5000)\n",
        "\n",
        "# Compute and print 95% CI for slope\n",
        "print(np.percentile(bs_slope_reps, [2.5, 97.5]))\n",
        "\n",
        "# plot the histogram\n",
        "_ = plt.hist(bs_slope_reps, bins=50, density=True)\n",
        "_ = plt.xlabel('slope')\n",
        "_ = plt.ylabel('PDF')\n",
        "plt.show()\n",
        "plt.clf()"
      ],
      "execution_count": null,
      "outputs": [
        {
          "output_type": "stream",
          "text": [
            "[3.25295237e-05 4.98396768e-05]\n"
          ],
          "name": "stdout"
        },
        {
          "output_type": "display_data",
          "data": {
            "image/png": "[encoded data removed]",
            "text/plain": [
              "<Figure size 432x288 with 1 Axes>"
            ]
          },
          "metadata": {
            "tags": []
          }
        },
        {
          "output_type": "display_data",
          "data": {
            "text/plain": [
              "<Figure size 432x288 with 0 Axes>"
            ]
          },
          "metadata": {
            "tags": []
          }
        }
      ]
    },
    {
      "cell_type": "markdown",
      "metadata": {
        "id": "rwsZGxI_lVHi"
      },
      "source": [
        "Plotting bootstrap regressions"
      ]
    },
    {
      "cell_type": "code",
      "metadata": {
        "id": "_Fzz_ZkolSRn",
        "colab": {
          "base_uri": "https://localhost:8080/",
          "height": 302
        },
        "outputId": "35dbaa38-dca4-465b-88e3-61011d69a522"
      },
      "source": [
        "# Generate array of x-values for bootstrap lines, endpoint > max(data_x) ==> 1,000,000\n",
        "x = np.array([0, 1000000])\n",
        "\n",
        "# plot the bootstrap lines\n",
        "for i in range(100):\n",
        "  y = bs_slope_reps[i] * x + bs_intercept_reps[i]\n",
        "  _ = plt.plot(x, y, alpha=0.1, color='red', linewidth=0.5)\n",
        "\n",
        "# plot the actual data\n",
        "_ = plt.plot(total_votes, obama_votes, marker='.', linestyle='none')\n",
        "_ = plt.xlabel('total votes')\n",
        "_ = plt.ylabel('Percent of votes for Obama')\n",
        "plt.margins(.02)\n",
        "plt.show()\n",
        "plt.clf()"
      ],
      "execution_count": null,
      "outputs": [
        {
          "output_type": "display_data",
          "data": {
            "image/png": "[encoded data removed]",
            "text/plain": [
              "<Figure size 432x288 with 1 Axes>"
            ]
          },
          "metadata": {
            "tags": []
          }
        },
        {
          "output_type": "display_data",
          "data": {
            "text/plain": [
              "<Figure size 432x288 with 0 Axes>"
            ]
          },
          "metadata": {
            "tags": []
          }
        }
      ]
    },
    {
      "cell_type": "markdown",
      "metadata": {
        "id": "rxqBKmXCXMH_"
      },
      "source": [
        "# Introduction to hypothesis testing"
      ]
    },
    {
      "cell_type": "markdown",
      "metadata": {
        "id": "rmviRTLPXW4i"
      },
      "source": [
        "**Hypothesis test** ~ Aseesment of how reasonable the observed data are assuming a hypothesis is true\n"
      ]
    },
    {
      "cell_type": "markdown",
      "metadata": {
        "id": "m_MMJdnoX_BF"
      },
      "source": [
        "e.g when we builed linear regression, we assumed a linear model for how the data generated and then estimated the parameter that are difined by that model.\n",
        "\n",
        "how do we asess how reasonable our observed data are actually descrived the model? this the realm of hypothesis testing."
      ]
    },
    {
      "cell_type": "markdown",
      "metadata": {
        "id": "ZBh51kkmZGmi"
      },
      "source": [
        "misalnya Ohio and Pennsylvania negara bagian yang mirip. negara bagian yang berdekatan, dan memiliki liberal urban counties dan juga rural conservative counties. nah misalnya saya berhipotesis kalau county-level voting dari dua negara bagian ini memiliki distribusi probabilitas yang identik. lalu saya menilai seberapa masuk akal data yang diamati dengan mengasumsikan hipotesis benar.\n",
        "\n",
        "nah hipotesis yang saya uji ini dinamakan **The null hypothesis**."
      ]
    },
    {
      "cell_type": "code",
      "metadata": {
        "id": "ExKBMbJ1XWMG"
      },
      "source": [
        "# vote for obama in PA (%)\n",
        "obama_votes_pa = obama_votes[swing_states['state']=='PA']\n",
        "\n",
        "#vote for obama in OH (%)\n",
        "obama_votes_oh = obama_votes[swing_states['state']=='OH']"
      ],
      "execution_count": null,
      "outputs": []
    },
    {
      "cell_type": "code",
      "metadata": {
        "id": "CilJU4wgcE61",
        "colab": {
          "base_uri": "https://localhost:8080/",
          "height": 302
        },
        "outputId": "065dbe43-e531-44dd-b32a-8a8d82b6bd41"
      },
      "source": [
        "# lihat dengan plot ECDFs\n",
        "\n",
        "x_pa, y_pa = ecdf(obama_votes_pa)\n",
        "x_oh, y_oh = ecdf(obama_votes_oh)\n",
        "\n",
        "_ = plt.plot(x_pa, y_pa, marker='.', linestyle='none')\n",
        "_ = plt.plot(x_oh, y_oh, marker='.', linestyle='none')\n",
        "_ = plt.xlabel('percent of vote for Obama')\n",
        "_ = plt.xlabel('ECDFs')\n",
        "_ = plt.legend(('PA', 'OH'), loc='lower right')\n",
        "plt.show()\n",
        "plt.clf()"
      ],
      "execution_count": null,
      "outputs": [
        {
          "output_type": "display_data",
          "data": {
            "image/png": "[encoded data removed]",
            "text/plain": [
              "<Figure size 432x288 with 1 Axes>"
            ]
          },
          "metadata": {
            "tags": []
          }
        },
        {
          "output_type": "display_data",
          "data": {
            "text/plain": [
              "<Figure size 432x288 with 0 Axes>"
            ]
          },
          "metadata": {
            "tags": []
          }
        }
      ]
    },
    {
      "cell_type": "markdown",
      "metadata": {
        "id": "e6cck0sfe1Sh"
      },
      "source": [
        "kalau dilihat di PA sedikit lebih banyak dukung Obama dari pada di OH"
      ]
    },
    {
      "cell_type": "code",
      "metadata": {
        "id": "Eh1cXAN_fD4E",
        "colab": {
          "base_uri": "https://localhost:8080/"
        },
        "outputId": "5486d55f-b8a0-4149-e6aa-8b2c08e1ac2d"
      },
      "source": [
        "# coba lihat real comparasion of summary statistic both of them\n",
        "\n",
        "# pa\n",
        "mean_pa = np.mean(obama_votes_pa)\n",
        "median_pa = np.median(obama_votes_pa)\n",
        "std_pa = np.std(obama_votes_pa)\n",
        "\n",
        "# oh\n",
        "mean_oh = np.mean(obama_votes_oh)\n",
        "median_oh = np.median(obama_votes_oh)\n",
        "std_oh = np.std(obama_votes_oh)\n",
        "\n",
        "# pa - oh diference\n",
        "mean_diff = mean_pa - mean_oh\n",
        "median_diff = median_pa - median_oh\n",
        "std_diff = std_pa - std_oh\n",
        "\n",
        "# print\n",
        "print('pa: ', mean_pa, median_pa, std_pa)\n",
        "print('oh :', mean_oh, median_oh, std_oh)\n",
        "print('diference (pa-oh) : ', mean_diff, median_diff, std_diff)"
      ],
      "execution_count": null,
      "outputs": [
        {
          "output_type": "stream",
          "text": [
            "pa:  45.476417910447765 44.03 9.729595825615187\n",
            "oh : 44.31818181818181 43.675 9.83931267756758\n",
            "diference (pa-oh) :  1.1582360922659518 0.355000000000004 -0.10971685195239367\n"
          ],
          "name": "stdout"
        }
      ]
    },
    {
      "cell_type": "markdown",
      "metadata": {
        "id": "8-4WxmIZhDuL"
      },
      "source": [
        "nah means, medians dari dua states ini sangat dekat, dan standard deviations hampir identik. tapi mengamati data ini aja tidak cukup!\n",
        "\n",
        "ini dapat mensimulasikan seperti apa datanya jika tren pemungutan suara county-level di kedua states disistribusikan secara identik"
      ]
    },
    {
      "cell_type": "code",
      "metadata": {
        "id": "8touUAPAhaf6"
      },
      "source": [
        "# Permutation ~ random reordering of entries in an array (jika asumsi kita 2 quantities terdistribusi identik)\n",
        "\n",
        "# gabungkan dua states\n",
        "#obama_votes_both = np.concatenate((obama_votes_pa, obama_votes_oh))\n",
        "\n",
        "# random ordering w/ permutation\n",
        "#obama_votes_both_perm = np.random.permutation(obama_votes_both)\n",
        "\n",
        "# assign the first 67 to PA, karena len(pa)==67 dan selebihnya untuk OH(88)\n",
        "#perm_sample_pa = obama_votes_both_perm[:len(obama_votes_pa)]\n",
        "#perm_sample_oh = obama_votes_both_perm[len(obama_votes_pa):]"
      ],
      "execution_count": null,
      "outputs": []
    },
    {
      "cell_type": "markdown",
      "metadata": {
        "id": "Y04tFXF7lzkC"
      },
      "source": [
        "bikin dalam bentuk fungsi aja"
      ]
    },
    {
      "cell_type": "code",
      "metadata": {
        "id": "Putvba6OlxMd"
      },
      "source": [
        "def permutation_sample(data1, data2):\n",
        "  ''' Generate a permutation sample from two data sets '''\n",
        "\n",
        "  # gabungkan datasets\n",
        "  data = np.concatenate((data1, data2))\n",
        "\n",
        "  # permute the concatenated array\n",
        "  permutated_data = np.random.permutation(data)\n",
        "\n",
        "  # split the permutated array into two\n",
        "  perm_sample_1 = permutated_data[:len(data1)]\n",
        "  perm_sample_2 = permutated_data[len(data1):]\n",
        "\n",
        "  return perm_sample_1, perm_sample_2"
      ],
      "execution_count": null,
      "outputs": []
    },
    {
      "cell_type": "code",
      "metadata": {
        "id": "srSVH-pkmurp",
        "colab": {
          "base_uri": "https://localhost:8080/",
          "height": 302
        },
        "outputId": "bc3ea068-5abe-4b34-f617-abb81827af25"
      },
      "source": [
        "# permutate ulang 2 states dan plot it\n",
        "\n",
        "for i in range(50):\n",
        "  perm_sample_1, perm_sample_2 = permutation_sample(obama_votes_pa, obama_votes_oh)\n",
        "  x_sample_pa, y_sample_pa = ecdf(perm_sample_1)\n",
        "  x_sample_oh, y_sample_oh = ecdf(perm_sample_2)\n",
        "\n",
        "  _ = plt.plot(x_sample_pa, y_sample_pa, marker='.',\n",
        "               linestyle='none', color='red',  alpha=0.02)\n",
        "  _ = plt.plot(x_sample_oh, y_sample_oh, marker='.',\n",
        "               linestyle='none', color='blue', alpha=0.02)\n",
        "      \n",
        "# plot the origin data\n",
        "x_pa, y_pa = ecdf(obama_votes_pa)\n",
        "x_oh, y_oh = ecdf(obama_votes_oh)\n",
        "\n",
        "_ = plt.plot(x_pa, y_pa, marker='.', linestyle='none', color='red')\n",
        "_ = plt.plot(x_oh, y_oh, marker='.', linestyle='none', color='blue')\n",
        "_ = plt.xlabel('percent of vote for Obama')\n",
        "_ = plt.ylabel('ECDFs')\n",
        "\n",
        "plt.show()\n",
        "plt.clf()\n"
      ],
      "execution_count": null,
      "outputs": [
        {
          "output_type": "display_data",
          "data": {
            "image/png": "[encoded data removed]",
            "text/plain": [
              "<Figure size 432x288 with 1 Axes>"
            ]
          },
          "metadata": {
            "tags": []
          }
        },
        {
          "output_type": "display_data",
          "data": {
            "text/plain": [
              "<Figure size 432x288 with 0 Axes>"
            ]
          },
          "metadata": {
            "tags": []
          }
        }
      ]
    },
    {
      "cell_type": "markdown",
      "metadata": {
        "id": "iFbkKtdaugwH"
      },
      "source": [
        "lihat pada plot grafik ecdf di atas bahwaasannya sample permutasi ECDF tumpang tindih dengan data yang diamati, berarti menunjukkan bahwa hipotesis sepadan dengan data, dan dua states tersebut terdistribusi secara identik. \n",
        "\n",
        "dan kalau semisal sample permutasi dengan data yang diamati tidak overlap maka hipotesis tidak sepadan dengan data dan tidak terdistribusi secara identik."
      ]
    },
    {
      "cell_type": "markdown",
      "metadata": {
        "id": "YtE8X1c_WKew"
      },
      "source": [
        "---\n",
        "oke, lalu bagaimana dengan data yang  dinilai, dan bagaimana cara mengukur penilaian tersebut?\n",
        "\n",
        "jawabannya bergantung pada **test statistic**\n",
        "\n",
        "**Test statistic** ~ A single number that can be computed from observed data and from data you simulate under the null hypothesis. And it serves as a basis of comparison between the two.\n",
        "\n",
        "if they are identical, they should have the same mean (so the difference in mean should be zero)."
      ]
    },
    {
      "cell_type": "code",
      "metadata": {
        "id": "R-LTp7yPtjQO"
      },
      "source": [
        "# membuat permutation replicates\n",
        "# permutation replicates ~ a single value of a statistic computed from a permutation sample\n",
        "\n",
        "def draw_perm_reps(data_1, data_2, func, size=1):\n",
        "  ''' Generate multiple permutation replicates '''\n",
        "\n",
        "  # initialize array of replicates\n",
        "  perm_replicates = np.empty(size)\n",
        "\n",
        "  for i in range(size):\n",
        "    # Generate permutation sample\n",
        "    perm_sample_1, perm_sample_2 = permutation_sample(data_1, data_2)\n",
        "\n",
        "    # compute the test statistic\n",
        "    perm_replicates[i] = func(perm_sample_1, perm_sample_2)\n",
        "  \n",
        "  return perm_replicates"
      ],
      "execution_count": null,
      "outputs": []
    },
    {
      "cell_type": "code",
      "metadata": {
        "id": "xJumHrj8ly1r",
        "colab": {
          "base_uri": "https://localhost:8080/",
          "height": 285
        },
        "outputId": "f3874732-b6c8-4f2f-b930-24015045a6dd"
      },
      "source": [
        "# perlu juga untuk melihat EDA sebelum melakukan hypothesis testing\n",
        "_ = sns.swarmplot(x='state', y='dem_share', data=swing_states)\n",
        "plt.show()"
      ],
      "execution_count": null,
      "outputs": [
        {
          "output_type": "display_data",
          "data": {
            "image/png": "[encoded data removed]",
            "text/plain": [
              "<Figure size 432x288 with 1 Axes>"
            ]
          },
          "metadata": {
            "tags": []
          }
        }
      ]
    },
    {
      "cell_type": "markdown",
      "metadata": {
        "id": "cztNuoqeoFex"
      },
      "source": [
        "nah kalau dilihat dari bee swarm plot diatas, terlihat PA dan OH terdistribusi sedikit serupa, tapi tak sama. karena terdapat 1 county dari PA memiliki persentase suara untuk Obma yang sangat tinggi, dan terdapat 2 county dengan persentase suara rendah, sedangkan OH terdapat 1. jadi bisa dilanjutkan dengan melakukank uji hipotesis"
      ]
    },
    {
      "cell_type": "markdown",
      "metadata": {
        "id": "YumtCceYt4j2"
      },
      "source": [
        "---\n",
        "permutation test dan p_value\n",
        "\n",
        "**p-value** ~ \n",
        "\n",
        "*   The probability of obtaining a value of your test statistic that is at least as etreme as what was obeserved, under the assumption the null hypothesis is true or a measure of the probability of observing a test statistic equally or more extreme than the one you observed, given that the null hypothesis is true.\n",
        "\n",
        "*   it is not the probability that the null hypothesis is true"
      ]
    },
    {
      "cell_type": "code",
      "metadata": {
        "id": "hp2mMqC8namH"
      },
      "source": [
        "# the difference of means func\n",
        "\n",
        "def diff_of_means(data_1, data_2):\n",
        "  ''' Difference in means of two arrays '''\n",
        "\n",
        "  diff = np.mean(data_1) - np.mean(data_2)\n",
        "\n",
        "  return diff"
      ],
      "execution_count": null,
      "outputs": []
    },
    {
      "cell_type": "code",
      "metadata": {
        "id": "R0jrrwkHt72w",
        "colab": {
          "base_uri": "https://localhost:8080/"
        },
        "outputId": "f37cbd47-854b-4709-c779-a16791fe2042"
      },
      "source": [
        "# compute difference of mean from origin data\n",
        "\n",
        "empirical_diff_means = diff_of_means(obama_votes_pa, obama_votes_oh)\n",
        "empirical_diff_means"
      ],
      "execution_count": null,
      "outputs": [
        {
          "output_type": "execute_result",
          "data": {
            "text/plain": [
              "1.1582360922659518"
            ]
          },
          "metadata": {
            "tags": []
          },
          "execution_count": 53
        }
      ]
    },
    {
      "cell_type": "code",
      "metadata": {
        "id": "IT10hK5WunAI"
      },
      "source": [
        "# Draw 10,000 permutation replicates\n",
        "perm_replicates = draw_perm_reps(obama_votes_pa, obama_votes_oh,\n",
        "                                 diff_of_means, size=10000)"
      ],
      "execution_count": null,
      "outputs": []
    },
    {
      "cell_type": "code",
      "metadata": {
        "id": "VV6hn88GvX0D",
        "colab": {
          "base_uri": "https://localhost:8080/"
        },
        "outputId": "459c8b27-a273-40f7-c750-597adab60830"
      },
      "source": [
        "# compute p-value\n",
        "p = np.sum(perm_replicates >= empirical_diff_means) / len(perm_replicates)\n",
        "p"
      ],
      "execution_count": null,
      "outputs": [
        {
          "output_type": "execute_result",
          "data": {
            "text/plain": [
              "0.2324"
            ]
          },
          "metadata": {
            "tags": []
          },
          "execution_count": 55
        }
      ]
    },
    {
      "cell_type": "markdown",
      "metadata": {
        "id": "P2r5ebBVvzCG"
      },
      "source": [
        "it happened 23% of the time under the null hypothesis\n",
        "\n",
        "when p-value is small, it is often said that the data are statistically significantly different than what we would observe under the null hypothesis. For this reason, the hypothesis testing we're doing is sometimes called null hypothesis significance testing, or NHST"
      ]
    },
    {
      "cell_type": "code",
      "metadata": {
        "id": "P5A-CpUqxbR1",
        "colab": {
          "base_uri": "https://localhost:8080/",
          "height": 285
        },
        "outputId": "60a301a1-5bac-45ad-b419-fc8b71440477"
      },
      "source": [
        "_ = plt.hist(perm_replicates, bins=30, density=True)\n",
        "_ = plt.plot([empirical_diff_means, empirical_diff_means],\n",
        "             [0, 0.30])\n",
        "_ = plt.xlabel('PA - OH mean percent vote difference')\n",
        "_ = plt.ylabel('PDF')\n",
        "plt.margins(.02)\n",
        "plt.show()"
      ],
      "execution_count": null,
      "outputs": [
        {
          "output_type": "display_data",
          "data": {
            "image/png": "[encoded data removed]",
            "text/plain": [
              "<Figure size 432x288 with 1 Axes>"
            ]
          },
          "metadata": {
            "tags": []
          }
        }
      ]
    },
    {
      "cell_type": "markdown",
      "metadata": {
        "id": "UDGPVQi80hUE"
      },
      "source": [
        "daerah p-value sebelah kanan garis orange\n",
        "\n",
        "---"
      ]
    },
    {
      "cell_type": "markdown",
      "metadata": {
        "id": "Hr1_mWDD2teG"
      },
      "source": [
        "**Pipeline for hypothesis testing**\n",
        "\n",
        "\n",
        "*   Clearly state the null hypothesis\n",
        "*   Dene your test statistic\n",
        "*   Generate many sets of simulated data assuming the null\n",
        "hypothesis is true\n",
        "*   Compute the test statistic for each simulated data set\n",
        "*   The p-value is the fraction of your simulated data sets for\n",
        "which the test statistic is at least as extreme as for the real\n",
        "data\n",
        "\n",
        "---"
      ]
    },
    {
      "cell_type": "markdown",
      "metadata": {
        "id": "JTNyxhyz9IRN"
      },
      "source": [
        "**One sample test** ~ Compare one set of data to a single number\n"
      ]
    },
    {
      "cell_type": "markdown",
      "metadata": {
        "id": "bHYbMJQpaiJa"
      },
      "source": [
        "e.g  \n",
        "misalnya kita memiliki data Michelson speed of light dengan mean tertentu, lalu pengukuran speed of light juga pernah dilakukan oleh Newcomb. tapi sayangnya kita tidak menumukan sebaran datanya, alih-alih kita hanya mengatahui mean-nya sebesar 299,860 km/s. kita pengen tahu gitu perbedaan fundamental antara pengukuran yang dilakukan Michelson dan Newcomb. Tapi ya itu kita tidak punya data set point dari Newcomb's measurement. Jadi pertanyaannya bisakah kita dari data set Michelson mendapatkan kumpulan data jika mean of speed of light yang sebenarnya dalam eksperiment si Michelson sama dengan Newcomb?\n",
        "\n",
        "oke, rumusin dulu pernyataan hipotesisnya (Null hypothesis), kalau the mean speed of light sebenarnya pada eksperiment michelson adalah nilai yang dilaporkan Newcomb tadi."
      ]
    },
    {
      "cell_type": "code",
      "metadata": {
        "id": "UXmSWy7_fhMn",
        "colab": {
          "base_uri": "https://localhost:8080/",
          "height": 285
        },
        "outputId": "e26cad33-3221-4dc6-c501-678669937f8c"
      },
      "source": [
        "# simulated in the true mean speed of light in michelson's experiment is Newcomb's value\n",
        "# by shifting the Michelson data\n",
        "\n",
        "newcomb_value = 299860  # km/s\n",
        "speed_of_light_shifted = speed_of_light - np.mean(speed_of_light) + newcomb_value\n",
        "\n",
        "# plot it into CDF\n",
        "\n",
        "x_mich, y_mich = ecdf(speed_of_light)\n",
        "x_shift, y_shift = ecdf(speed_of_light_shifted)\n",
        "\n",
        "_ = plt.plot(x_mich, y_mich, marker='.', linestyle='none')\n",
        "_ = plt.plot(x_shift, y_shift, marker='.', linestyle='none')\n",
        "_ = plt.xlabel('speed of light (km/s)')\n",
        "_ = plt.ylabel('CDF')\n",
        "_ = plt.legend(('Michelson\\'s data', 'Michelson\\'s data shifted same mean as Newcomb'),\n",
        "               loc='best')\n",
        "plt.show()"
      ],
      "execution_count": null,
      "outputs": [
        {
          "output_type": "display_data",
          "data": {
            "image/png": "[encoded data removed]",
            "text/plain": [
              "<Figure size 432x288 with 1 Axes>"
            ]
          },
          "metadata": {
            "tags": []
          }
        }
      ]
    },
    {
      "cell_type": "markdown",
      "metadata": {
        "id": "wqrFVn0MjH0o"
      },
      "source": [
        "karna ini ngebandingin kumpulan data dengan single value, jadi permutation test ga applicable\n",
        "\n",
        "jadinya bootstraping aja pada shifted data untuk simulasi data dibawah the null hypothesis"
      ]
    },
    {
      "cell_type": "code",
      "metadata": {
        "id": "m_EwaVx80whG",
        "colab": {
          "base_uri": "https://localhost:8080/"
        },
        "outputId": "09e1a972-c207-42a9-ffc0-960a4fa12bb3"
      },
      "source": [
        "# calculating the test statistic same func as diff_of_mean fuction\n",
        "\n",
        "def diff_from_newcomb(data, single_value=newcomb_value):\n",
        "  return np.mean(data) - single_value\n",
        "\n",
        "diff_obs = diff_from_newcomb(speed_of_light, newcomb_value)\n",
        "diff_obs"
      ],
      "execution_count": null,
      "outputs": [
        {
          "output_type": "execute_result",
          "data": {
            "text/plain": [
              "-7.599999999976717"
            ]
          },
          "metadata": {
            "tags": []
          },
          "execution_count": 58
        }
      ]
    },
    {
      "cell_type": "code",
      "metadata": {
        "id": "-w-IRRK2MqKz"
      },
      "source": [
        "# draw 10,000 bootstrap replicate\n",
        "\n",
        "bs_replicates = draw_bs_replicates(speed_of_light_shifted, diff_from_newcomb, size=10000)"
      ],
      "execution_count": null,
      "outputs": []
    },
    {
      "cell_type": "code",
      "metadata": {
        "id": "BF826be7PIuc",
        "colab": {
          "base_uri": "https://localhost:8080/"
        },
        "outputId": "34f7729e-3fd2-4102-cf32-2504cf2892a9"
      },
      "source": [
        "# computing p-value\n",
        "\n",
        "p = np.sum(bs_replicates <= diff_obs) / len(bs_replicates)\n",
        "p"
      ],
      "execution_count": null,
      "outputs": [
        {
          "output_type": "execute_result",
          "data": {
            "text/plain": [
              "0.1682"
            ]
          },
          "metadata": {
            "tags": []
          },
          "execution_count": 60
        }
      ]
    },
    {
      "cell_type": "markdown",
      "metadata": {
        "id": "QNgFDz1APzyD"
      },
      "source": [
        "di atas kenapa less than karena the mean dari Michelson's experiment was less than Newcomb's value"
      ]
    },
    {
      "cell_type": "markdown",
      "metadata": {
        "id": "srdmEczMTHyP"
      },
      "source": [
        "dan ingat, diif_obs pada saat menghitung p value itu kalau pada case yang berbeda, tergantung test statistic yang dilakukan. apakah diff mean kah, mean kah dan lainnya, tergantung hipotesis"
      ]
    },
    {
      "cell_type": "code",
      "metadata": {
        "id": "34xwWjLuPmHv",
        "colab": {
          "base_uri": "https://localhost:8080/",
          "height": 285
        },
        "outputId": "469205bd-7400-41c9-da48-fa83015bf110"
      },
      "source": [
        "# plot \n",
        "\n",
        "_ = plt.plot([diff_obs, diff_obs], [0, 0.05], color='red')\n",
        "_ = plt.hist(bs_replicates, bins=30, density=True)\n",
        "_ = plt.xlabel('diff mean (Michelson - Newcomb) speed of light')\n",
        "_ = plt.ylabel('PDF')\n",
        "plt.margins(.02)\n",
        "plt.show()"
      ],
      "execution_count": null,
      "outputs": [
        {
          "output_type": "display_data",
          "data": {
            "image/png": "[encoded data removed]",
            "text/plain": [
              "<Figure size 432x288 with 1 Axes>"
            ]
          },
          "metadata": {
            "tags": []
          }
        }
      ]
    },
    {
      "cell_type": "markdown",
      "metadata": {
        "id": "cwje-tmxUJU3"
      },
      "source": [
        "**two sample bootstrap hypothesis test** ~ compare two set of data"
      ]
    },
    {
      "cell_type": "markdown",
      "metadata": {
        "id": "WWiO7lQuWaiG"
      },
      "source": [
        "e.g\n",
        "\n",
        "akan melakukan hypothesis test bahwa Pennsylvania dan Ohio memiliki mean percent of vote yang sama, tapi sebenarnya walaupun memiliki distribusi identik, dan sebenarnya di kasus ini menggunakan permutasi replicate, tapi ya coba aja wkwkwk"
      ]
    },
    {
      "cell_type": "code",
      "metadata": {
        "id": "XfuUidQ3U7P-"
      },
      "source": [
        "# compute mean of all votes from two states\n",
        "states_concat = np.concatenate((obama_votes_pa, obama_votes_oh))\n",
        "mean_votes = np.mean(states_concat)\n",
        "\n",
        "# empirical diff means\n",
        "diff_mean_votes = np.mean(obama_votes_pa) - np.mean(obama_votes_oh)"
      ],
      "execution_count": null,
      "outputs": []
    },
    {
      "cell_type": "code",
      "metadata": {
        "id": "Po3VYRAfWQCh"
      },
      "source": [
        "# generate shifted array\n",
        "obama_votes_pa_shifted = obama_votes_pa - np.mean(obama_votes_pa) + mean_votes\n",
        "obama_votes_oh_shifted = obama_votes_oh - np.mean(obama_votes_oh) + mean_votes"
      ],
      "execution_count": null,
      "outputs": []
    },
    {
      "cell_type": "code",
      "metadata": {
        "id": "DP_GwrjAYVYD"
      },
      "source": [
        "# compute 10,000 bootstrap replicates\n",
        "bs_replicates_pa = draw_bs_replicates(obama_votes_pa_shifted, np.mean, size=10000)\n",
        "bs_replicates_oh = draw_bs_replicates(obama_votes_oh_shifted, np.mean, size=10000)"
      ],
      "execution_count": null,
      "outputs": []
    },
    {
      "cell_type": "code",
      "metadata": {
        "id": "7LOQZo9sY_Zu",
        "colab": {
          "base_uri": "https://localhost:8080/"
        },
        "outputId": "438c6ab1-96f5-4a94-f816-b863d7c2ba2e"
      },
      "source": [
        "# get replicates of difference of means\n",
        "bs_replicates = bs_replicates_pa - bs_replicates_oh\n",
        "\n",
        "# compute p-value\n",
        "p = np.sum(bs_replicates >= diff_mean_votes) / len(bs_replicates)\n",
        "p"
      ],
      "execution_count": null,
      "outputs": [
        {
          "output_type": "execute_result",
          "data": {
            "text/plain": [
              "0.2384"
            ]
          },
          "metadata": {
            "tags": []
          },
          "execution_count": 65
        }
      ]
    },
    {
      "cell_type": "markdown",
      "metadata": {
        "id": "v-HBjltLarcT"
      },
      "source": [
        "hahaha menarik p_value yang didapat sama-sama 23% walaupun data tiap state udah di translate :v\n",
        "\n",
        "---"
      ]
    },
    {
      "cell_type": "markdown",
      "metadata": {
        "id": "nEBNC38obdIz"
      },
      "source": [
        "oke coba sekarang dari data set yang beda (frog_tongue.csv)"
      ]
    },
    {
      "cell_type": "code",
      "metadata": {
        "id": "-DHDXqT5bVZ7",
        "colab": {
          "base_uri": "https://localhost:8080/",
          "height": 343
        },
        "outputId": "35371b98-37ea-4966-b510-1dab5458c379"
      },
      "source": [
        "frog_tongue = pd.read_csv('/content/drive/My Drive/ColabNotebooks/Datasets/frog_tongue.csv',\n",
        "                          skiprows=[x for x in range(14)])\n",
        "frog_tongue.head()"
      ],
      "execution_count": null,
      "outputs": [
        {
          "output_type": "execute_result",
          "data": {
            "text/html": [
              "<div>\n",
              "<style scoped>\n",
              "    .dataframe tbody tr th:only-of-type {\n",
              "        vertical-align: middle;\n",
              "    }\n",
              "\n",
              "    .dataframe tbody tr th {\n",
              "        vertical-align: top;\n",
              "    }\n",
              "\n",
              "    .dataframe thead th {\n",
              "        text-align: right;\n",
              "    }\n",
              "</style>\n",
              "<table border=\"1\" class=\"dataframe\">\n",
              "  <thead>\n",
              "    <tr style=\"text-align: right;\">\n",
              "      <th></th>\n",
              "      <th>date</th>\n",
              "      <th>ID</th>\n",
              "      <th>trial number</th>\n",
              "      <th>impact force (mN)</th>\n",
              "      <th>impact time (ms)</th>\n",
              "      <th>impact force / body weight</th>\n",
              "      <th>adhesive force (mN)</th>\n",
              "      <th>time frog pulls on target (ms)</th>\n",
              "      <th>adhesive force / body weight</th>\n",
              "      <th>adhesive impulse (N-s)</th>\n",
              "      <th>total contact area (mm2)</th>\n",
              "      <th>contact area without mucus (mm2)</th>\n",
              "      <th>contact area with mucus / contact area without mucus</th>\n",
              "      <th>contact pressure (Pa)</th>\n",
              "      <th>adhesive strength (Pa)</th>\n",
              "    </tr>\n",
              "  </thead>\n",
              "  <tbody>\n",
              "    <tr>\n",
              "      <th>0</th>\n",
              "      <td>2013_02_26</td>\n",
              "      <td>I</td>\n",
              "      <td>3</td>\n",
              "      <td>1205</td>\n",
              "      <td>46</td>\n",
              "      <td>1.95</td>\n",
              "      <td>-785</td>\n",
              "      <td>884</td>\n",
              "      <td>1.27</td>\n",
              "      <td>-0.290</td>\n",
              "      <td>387</td>\n",
              "      <td>70</td>\n",
              "      <td>0.82</td>\n",
              "      <td>3117</td>\n",
              "      <td>-2030</td>\n",
              "    </tr>\n",
              "    <tr>\n",
              "      <th>1</th>\n",
              "      <td>2013_02_26</td>\n",
              "      <td>I</td>\n",
              "      <td>4</td>\n",
              "      <td>2527</td>\n",
              "      <td>44</td>\n",
              "      <td>4.08</td>\n",
              "      <td>-983</td>\n",
              "      <td>248</td>\n",
              "      <td>1.59</td>\n",
              "      <td>-0.181</td>\n",
              "      <td>101</td>\n",
              "      <td>94</td>\n",
              "      <td>0.07</td>\n",
              "      <td>24923</td>\n",
              "      <td>-9695</td>\n",
              "    </tr>\n",
              "    <tr>\n",
              "      <th>2</th>\n",
              "      <td>2013_03_01</td>\n",
              "      <td>I</td>\n",
              "      <td>1</td>\n",
              "      <td>1745</td>\n",
              "      <td>34</td>\n",
              "      <td>2.82</td>\n",
              "      <td>-850</td>\n",
              "      <td>211</td>\n",
              "      <td>1.37</td>\n",
              "      <td>-0.157</td>\n",
              "      <td>83</td>\n",
              "      <td>79</td>\n",
              "      <td>0.05</td>\n",
              "      <td>21020</td>\n",
              "      <td>-10239</td>\n",
              "    </tr>\n",
              "    <tr>\n",
              "      <th>3</th>\n",
              "      <td>2013_03_01</td>\n",
              "      <td>I</td>\n",
              "      <td>2</td>\n",
              "      <td>1556</td>\n",
              "      <td>41</td>\n",
              "      <td>2.51</td>\n",
              "      <td>-455</td>\n",
              "      <td>1025</td>\n",
              "      <td>0.74</td>\n",
              "      <td>-0.170</td>\n",
              "      <td>330</td>\n",
              "      <td>158</td>\n",
              "      <td>0.52</td>\n",
              "      <td>4718</td>\n",
              "      <td>-1381</td>\n",
              "    </tr>\n",
              "    <tr>\n",
              "      <th>4</th>\n",
              "      <td>2013_03_01</td>\n",
              "      <td>I</td>\n",
              "      <td>3</td>\n",
              "      <td>493</td>\n",
              "      <td>36</td>\n",
              "      <td>0.80</td>\n",
              "      <td>-974</td>\n",
              "      <td>499</td>\n",
              "      <td>1.57</td>\n",
              "      <td>-0.423</td>\n",
              "      <td>245</td>\n",
              "      <td>216</td>\n",
              "      <td>0.12</td>\n",
              "      <td>2012</td>\n",
              "      <td>-3975</td>\n",
              "    </tr>\n",
              "  </tbody>\n",
              "</table>\n",
              "</div>"
            ],
            "text/plain": [
              "         date ID  ...  contact pressure (Pa)  adhesive strength (Pa)\n",
              "0  2013_02_26  I  ...                   3117                   -2030\n",
              "1  2013_02_26  I  ...                  24923                   -9695\n",
              "2  2013_03_01  I  ...                  21020                  -10239\n",
              "3  2013_03_01  I  ...                   4718                   -1381\n",
              "4  2013_03_01  I  ...                   2012                   -3975\n",
              "\n",
              "[5 rows x 15 columns]"
            ]
          },
          "metadata": {
            "tags": []
          },
          "execution_count": 66
        }
      ]
    },
    {
      "cell_type": "code",
      "metadata": {
        "id": "hTPdIyYHe9UH"
      },
      "source": [
        "# subsetting untuk 2 tipe frog\n",
        "force_a = frog_tongue['impact force (mN)'][frog_tongue['ID']=='II']\n",
        "force_b = frog_tongue['impact force (mN)'][frog_tongue['ID']=='IV']"
      ],
      "execution_count": null,
      "outputs": []
    },
    {
      "cell_type": "code",
      "metadata": {
        "id": "m0ziO7FUhONd"
      },
      "source": [
        "# convert millinewton to newton\n",
        "force_a = force_a * 0.001\n",
        "force_b = force_b * 0.001"
      ],
      "execution_count": null,
      "outputs": []
    },
    {
      "cell_type": "code",
      "metadata": {
        "id": "oMRREHCWhmre",
        "colab": {
          "base_uri": "https://localhost:8080/"
        },
        "outputId": "8de338ad-e323-479f-b591-364325e4883a"
      },
      "source": [
        "# Compute mean of all forces\n",
        "forces_concat = np.concatenate((force_a, force_b))\n",
        "mean_force = np.mean(forces_concat)\n",
        "\n",
        "# Compute empirical diff mean\n",
        "diff_mean_forces = np.mean(force_a) - np.mean(force_b)\n",
        "\n",
        "# Generate shifted arrays\n",
        "force_a_shifted = force_a - np.mean(force_a) + mean_force\n",
        "force_b_shifted = force_b - np.mean(force_b) + mean_force\n",
        "\n",
        "# Compute 10,000 bootstrap replicates from shifted arrays\n",
        "bs_replicates_a = draw_bs_replicates(force_a_shifted, np.mean, size=10000)\n",
        "bs_replicates_b = draw_bs_replicates(force_b_shifted, np.mean, size=10000)\n",
        "\n",
        "# Get replicates of difference of means\n",
        "bs_replicates = bs_replicates_a - bs_replicates_b\n",
        "\n",
        "# Compute p-value\n",
        "p = np.sum(bs_replicates >= diff_mean_forces) / len(bs_replicates)\n",
        "p"
      ],
      "execution_count": null,
      "outputs": [
        {
          "output_type": "execute_result",
          "data": {
            "text/plain": [
              "0.0052"
            ]
          },
          "metadata": {
            "tags": []
          },
          "execution_count": 69
        }
      ]
    },
    {
      "cell_type": "markdown",
      "metadata": {
        "id": "FY8Ctz7kmK9B"
      },
      "source": [
        "kemungkinan akan mendapatkan p-value yang sama kalau dulakukan tes permutasi. tapi hal yang penting adalah pertanyaan yang ingin ditanyakan. jadi pada frog impact force in apa yang ditanyakan? apakah tertarik pada gaya tumbukan rata-rata atau pada distribusi kekuatan tumbukan?\n",
        "\n",
        "---"
      ]
    },
    {
      "cell_type": "markdown",
      "metadata": {
        "id": "Neme8qPsR8eE"
      },
      "source": [
        "# Hypothesis test examples"
      ]
    },
    {
      "cell_type": "markdown",
      "metadata": {
        "id": "RXd5aYMvSE2M"
      },
      "source": [
        "**A/B testing** ~ used by organizations to see if strategy change gives a better result.\n",
        "\n",
        "The null hypothesis is an A/B test is **the test statistics is imperious to the change**.\n",
        "\n",
        "a low p-value implies that the change in strategy lead to a change in performance."
      ]
    },
    {
      "cell_type": "markdown",
      "metadata": {
        "id": "L_1P8qtcUCKq"
      },
      "source": [
        "e.g on The vote for the Civil Rights Act in 1964\n",
        "\n",
        "The Civil Rights Act of 1964 was one of the most important pieces of legislation ever passed in the USA. Excluding \"present\" and \"abstain\" votes, 153 House Democrats and 136 Republicans voted yea. However, 91 Democrats and 35 Republicans voted nay. Did party affiliation make a difference in the vote?"
      ]
    },
    {
      "cell_type": "markdown",
      "metadata": {
        "id": "TgbJ1y1FUMK_"
      },
      "source": [
        "To answer this question, evaluate the hypothesis that the party of a House member has no bearing on his or her vote. Use the fraction of Democrats voting in favor as your test statistic and evaluate the probability of observing a fraction of Democrats voting in favor at least as small as the observed fraction of 153/244. \n",
        "\n",
        "To do this, permute the party labels of the House voters and then arbitrarily divide them into \"Democrats\" and \"Republicans\" and compute the fraction of Democrats voting yea"
      ]
    },
    {
      "cell_type": "code",
      "metadata": {
        "id": "Q37ypzBIT3cl"
      },
      "source": [
        "# construct array of data\n",
        "dems = np.array([True] * 153 + [False] * 91)\n",
        "reps = np.array([True] * 136 + [False] * 35)"
      ],
      "execution_count": null,
      "outputs": []
    },
    {
      "cell_type": "code",
      "metadata": {
        "id": "Cxu9wTEvVUx8"
      },
      "source": [
        "# fraction of democrate voting in favor\n",
        "def frac_yea_dems(dems, reps):\n",
        "  \"\"\" compute fraction of Democrate yea votes \"\"\"\n",
        "  frac = np.sum(dems) / len(dems)\n",
        "  return frac"
      ],
      "execution_count": null,
      "outputs": []
    },
    {
      "cell_type": "code",
      "metadata": {
        "id": "R9hO2d8HWAgC"
      },
      "source": [
        "# acquire permutation samples\n",
        "perm_replicates = draw_perm_reps(dems, reps, frac_yea_dems, size=10000)"
      ],
      "execution_count": null,
      "outputs": []
    },
    {
      "cell_type": "code",
      "metadata": {
        "id": "lvjlCLN9ZyF1",
        "colab": {
          "base_uri": "https://localhost:8080/"
        },
        "outputId": "46998018-2a70-48fc-a036-f80bb7f9663b"
      },
      "source": [
        "# compute p-value\n",
        "p = np.sum(perm_replicates <= 153/244) / len(perm_replicates)\n",
        "p"
      ],
      "execution_count": null,
      "outputs": [
        {
          "output_type": "execute_result",
          "data": {
            "text/plain": [
              "0.0001"
            ]
          },
          "metadata": {
            "tags": []
          },
          "execution_count": 73
        }
      ]
    },
    {
      "cell_type": "markdown",
      "metadata": {
        "id": "vzbPSQU7aIJx"
      },
      "source": [
        "This small p-value suggests that party identity had a lot to do with the voting.\n",
        "\n",
        "---"
      ]
    },
    {
      "cell_type": "markdown",
      "metadata": {
        "id": "DY0fXBEiUsVK"
      },
      "source": [
        "anonther example\n",
        "\n",
        "back to the nohitter dataset, Major League Baseball implemented important rule changes that ended the so-called dead ball era. Importantly, the pitcher was no longer allowed to spit on or scuff the ball, an activity that greatly favors pitchers.\n",
        "\n",
        "in this case, we will perform an A/B test to determine if these rule changes resulted in a slower rate of no hitter (i.e., longer average time betweeen no-hitter) using difference in mena iter-no-hitter time as our test statistic."
      ]
    },
    {
      "cell_type": "code",
      "metadata": {
        "id": "cM8fNDXEYKo5"
      },
      "source": [
        "# import dataset\n",
        "nohitter_times_live_dead = pd.read_csv('/content/drive/My Drive/ColabNotebooks/Datasets/nohitter_live_dead.csv')\n",
        "\n",
        "# subsetting dataset before and after\n",
        "nht_live = nohitter_times_live_dead['nohitter times live']\n",
        "nht_dead = nohitter_times_live_dead['nohitter times dead'][:90]"
      ],
      "execution_count": null,
      "outputs": []
    },
    {
      "cell_type": "code",
      "metadata": {
        "id": "oG5zzS8qgjXm"
      },
      "source": [
        "# compute the observed difference in mean inter-no-hitter\n",
        "nht_diff_obs = diff_of_means(nht_dead, nht_live)"
      ],
      "execution_count": null,
      "outputs": []
    },
    {
      "cell_type": "code",
      "metadata": {
        "id": "ttssSoHCh42j"
      },
      "source": [
        "# acquire 10,000 permutatioin replicates of difference in mean no-hitter time\n",
        "perm_replicates = draw_perm_reps(nht_dead, nht_live, diff_of_means, size=10000)"
      ],
      "execution_count": null,
      "outputs": []
    },
    {
      "cell_type": "code",
      "metadata": {
        "id": "FZ3YJWhch6SO",
        "colab": {
          "base_uri": "https://localhost:8080/"
        },
        "outputId": "b2fa28d7-deb4-419e-e9ba-26a15dc59938"
      },
      "source": [
        "# compute p-value\n",
        "p = np.sum(perm_replicates <= nht_diff_obs) / len(perm_replicates)\n",
        "p"
      ],
      "execution_count": null,
      "outputs": [
        {
          "output_type": "execute_result",
          "data": {
            "text/plain": [
              "0.0004"
            ]
          },
          "metadata": {
            "tags": []
          },
          "execution_count": 77
        }
      ]
    },
    {
      "cell_type": "markdown",
      "metadata": {
        "id": "M0Y6cmSOJMJN"
      },
      "source": [
        "p-value is 0.0001, which means that only one out of 10,000 replicates had a result as extreme as the actual difference between the dead ball and live ball eras. This suggests strong statistical significance. Watch out, though, you could very well have gotten zero replicates that were as extreme as the observed value. This just means that the p-value is quite small, almost certainly smaller than 0.001\n",
        "\n",
        "That was a nice hypothesis test to check out whether the rule changes in 1920 changed the rate of no-hitters. But do EDA first, perhaps plotting the ECDFs of inter no-hitter times in the dead ball and live ball eras.\n",
        "\n",
        "---"
      ]
    },
    {
      "cell_type": "code",
      "metadata": {
        "id": "riTFExYoi3yF",
        "colab": {
          "base_uri": "https://localhost:8080/",
          "height": 285
        },
        "outputId": "cbf5dcfe-474e-479f-de62-3e43aebfe163"
      },
      "source": [
        "# ecdfs\n",
        "x_live, y_live = ecdf(nht_live)\n",
        "x_dead, y_dead = ecdf(nht_dead)\n",
        "\n",
        "_ = plt.plot(x_live, y_live, marker='.', linestyle='none')\n",
        "_ = plt.plot(x_dead, y_dead, marker='.', linestyle='none')\n",
        "_ = plt.xlabel('diff of mean [dead-live ball]')\n",
        "_ = plt.ylabel('CDFs')\n",
        "plt.margins(.02)\n",
        "_ = plt.legend((\"head ball\", \"live ball\"))\n",
        "plt.show()"
      ],
      "execution_count": null,
      "outputs": [
        {
          "output_type": "display_data",
          "data": {
            "image/png": "[encoded data removed]",
            "text/plain": [
              "<Figure size 432x288 with 1 Axes>"
            ]
          },
          "metadata": {
            "tags": []
          }
        }
      ]
    },
    {
      "cell_type": "markdown",
      "metadata": {
        "id": "R5S_XcmQYnEg"
      },
      "source": [
        "---\n",
        "Test of correlation\n",
        "\n"
      ]
    },
    {
      "cell_type": "markdown",
      "metadata": {
        "id": "VI1ooDQLVnAf"
      },
      "source": [
        "case :\n",
        "\n",
        "kita akan menghitung pearson correlation coefficient antara suara untuk obama dan jumlah total suara keseluruhan. Pearson correlation coefficient itu menghitung berapa banyak variabilitas karena mereka berkorelasi. it ranges from -1 for totally negatively correlated to 1 fo positively corelated"
      ]
    },
    {
      "cell_type": "code",
      "metadata": {
        "colab": {
          "base_uri": "https://localhost:8080/"
        },
        "id": "jvKx7W9pZmuC",
        "outputId": "0bb268cb-b955-4c02-f589-6a6f4bf994a1"
      },
      "source": [
        "np.corrcoef(total_votes, obama_votes)"
      ],
      "execution_count": null,
      "outputs": [
        {
          "output_type": "execute_result",
          "data": {
            "text/plain": [
              "array([[1.        , 0.53619736],\n",
              "       [0.53619736, 1.        ]])"
            ]
          },
          "metadata": {
            "tags": []
          },
          "execution_count": 79
        }
      ]
    },
    {
      "cell_type": "markdown",
      "metadata": {
        "id": "dtmy5BjcaMoY"
      },
      "source": [
        "coefficient correlation nya 0.54, mengindikasikan bahwa data tidak berkorelasi sempurna, tapi are coerlated nonetheless, i.e tetap berkorelasi.\n",
        "\n",
        "tapi masalahnya bagaimana kita bisa pasti apakah korelasi ini nyata, atau jika it bisa terjadi secara kebetulan?\n",
        "\n",
        "kita bisa melakukan hypothesis test.\n",
        "oke, kita mengandaikan a null hypothesis bahwa tidak ada korelasi antara dua variable tadi. lalu kita simulasikan the election dengan asumsi the hypothesis is true. Dan menggunakan pearson correlation coefficient sebagain the test statistic.\n",
        "\n",
        "---\n",
        "\n",
        "sama halnya dengan case the observed correlation between female illiteracy and fertility may just be by chance. the fertility of a given country may actually be totally independent of its illiteracy (that's our hypothesis).\n",
        "\n",
        "to do so, permute the illiteracy values fixed. this simulates the hypothesis that they are totally independent of each other. For each permutation, compute the Pearson correlation coefficient and assess how many of our permutation replicates have a Pearson correlation coefficient greather than the ovserved one\n",
        "\n",
        "nah cara in lebih eficient dari pada permute both the illiteracy and fertility values to generate a new set of (illiteracy, fertility data). Because it uses all data and eliminates any correlation because which illiteracy value pairs to which fertility value is shuffled."
      ]
    },
    {
      "cell_type": "code",
      "metadata": {
        "id": "BpPVWJElaKHw"
      },
      "source": [
        "# compute the Pearson correlation coefficient between 2 arrays\n",
        "def pearson_r(x, y):\n",
        "  corr_mat = np.corrcoef(x, y)\n",
        "  return corr_mat[0, 1]   # or [1, 0]"
      ],
      "execution_count": null,
      "outputs": []
    },
    {
      "cell_type": "code",
      "metadata": {
        "id": "aBrI240rut44"
      },
      "source": [
        "# compute observed correlation \n",
        "r_obs = pearson_r(illiteracy, fertility)"
      ],
      "execution_count": null,
      "outputs": []
    },
    {
      "cell_type": "code",
      "metadata": {
        "id": "eaiUaGySiRFP"
      },
      "source": [
        "# inititalize permutation replicate\n",
        "perm_replicates = np.empty(1000000)\n",
        "\n",
        "# draw replicates\n",
        "for i in range(1000000):\n",
        "  # permute illiteracy measurements\n",
        "  illiteracy_permuted = np.random.permutation(illiteracy)\n",
        "\n",
        "  # compute pearson correlation\n",
        "  perm_replicates[i] = pearson_r(illiteracy_permuted, fertility)"
      ],
      "execution_count": null,
      "outputs": []
    },
    {
      "cell_type": "code",
      "metadata": {
        "colab": {
          "base_uri": "https://localhost:8080/"
        },
        "id": "3QULr-3MwHso",
        "outputId": "a6634f2c-3445-43fe-c880-90965e2f0d00"
      },
      "source": [
        "# compute p-value\n",
        "p = np.sum(perm_replicates >= r_obs) / len(perm_replicates)\n",
        "p"
      ],
      "execution_count": null,
      "outputs": [
        {
          "output_type": "execute_result",
          "data": {
            "text/plain": [
              "0.0"
            ]
          },
          "metadata": {
            "tags": []
          },
          "execution_count": 83
        }
      ]
    },
    {
      "cell_type": "markdown",
      "metadata": {
        "id": "iLOKL486xa-3"
      },
      "source": [
        "kita dapet p-value 0. Ini berarti p-value sangat rendah, karena tidak pernah mendapatkan satu pun replicate in 10.000 yang di draw dan memiliki pearson correlatin yang lebih besar dari pada yang diamati. We could try increasing the number of replicates we take to continue to move the upper bound on our p-value lower and lower.\n",
        "\n",
        "---"
      ]
    },
    {
      "cell_type": "markdown",
      "metadata": {
        "id": "LuhnnNGbxR1s"
      },
      "source": [
        "Do neonicotinoid insecticides have unintended consequences?\n",
        "\n",
        "we will investigate the effects of neonicotinoid insecticides on bee reproduction. These insecticides are very widely used in the United States to combat aphids and other pests that damage plants.\n",
        "\n",
        "First, we will do EDA, as usual. Plot ECDFs of the alive sperm count for untreated bees (stored in the Numpy array control) and bees treated with pesticide (stored in the Numpy array treated)"
      ]
    },
    {
      "cell_type": "code",
      "metadata": {
        "colab": {
          "base_uri": "https://localhost:8080/",
          "height": 275
        },
        "id": "FGBM-ABOobiF",
        "outputId": "c8d5d5df-144c-4760-b92f-4b6fdde2cb84"
      },
      "source": [
        "# import dataset\n",
        "bee_sperm = pd.read_csv('/content/drive/My Drive/ColabNotebooks/Datasets/bee_sperm.csv',\n",
        "                        skiprows=[x for x in range(3)])\n",
        "bee_sperm.head()"
      ],
      "execution_count": null,
      "outputs": [
        {
          "output_type": "execute_result",
          "data": {
            "text/html": [
              "<div>\n",
              "<style scoped>\n",
              "    .dataframe tbody tr th:only-of-type {\n",
              "        vertical-align: middle;\n",
              "    }\n",
              "\n",
              "    .dataframe tbody tr th {\n",
              "        vertical-align: top;\n",
              "    }\n",
              "\n",
              "    .dataframe thead th {\n",
              "        text-align: right;\n",
              "    }\n",
              "</style>\n",
              "<table border=\"1\" class=\"dataframe\">\n",
              "  <thead>\n",
              "    <tr style=\"text-align: right;\">\n",
              "      <th></th>\n",
              "      <th>Specimen</th>\n",
              "      <th>Treatment</th>\n",
              "      <th>Environment</th>\n",
              "      <th>TreatmentNCSS</th>\n",
              "      <th>Sample ID</th>\n",
              "      <th>Colony</th>\n",
              "      <th>Cage</th>\n",
              "      <th>Sample</th>\n",
              "      <th>Sperm Volume per 500 ul</th>\n",
              "      <th>Quantity</th>\n",
              "      <th>ViabilityRaw (%)</th>\n",
              "      <th>Quality</th>\n",
              "      <th>Age (d)</th>\n",
              "      <th>Infertil</th>\n",
              "      <th>AliveSperm</th>\n",
              "      <th>Quantity Millions</th>\n",
              "      <th>Alive Sperm Millions</th>\n",
              "      <th>Dead Sperm Millions</th>\n",
              "    </tr>\n",
              "  </thead>\n",
              "  <tbody>\n",
              "    <tr>\n",
              "      <th>0</th>\n",
              "      <td>227</td>\n",
              "      <td>Control</td>\n",
              "      <td>Cage</td>\n",
              "      <td>1</td>\n",
              "      <td>C2-1-1</td>\n",
              "      <td>2</td>\n",
              "      <td>1</td>\n",
              "      <td>1</td>\n",
              "      <td>2150000</td>\n",
              "      <td>2150000</td>\n",
              "      <td>96.7263814616756</td>\n",
              "      <td>96.726381</td>\n",
              "      <td>14</td>\n",
              "      <td>0</td>\n",
              "      <td>2079617</td>\n",
              "      <td>2.1500</td>\n",
              "      <td>2.079617</td>\n",
              "      <td>0.070383</td>\n",
              "    </tr>\n",
              "    <tr>\n",
              "      <th>1</th>\n",
              "      <td>228</td>\n",
              "      <td>Control</td>\n",
              "      <td>Cage</td>\n",
              "      <td>1</td>\n",
              "      <td>C2-1-2</td>\n",
              "      <td>2</td>\n",
              "      <td>1</td>\n",
              "      <td>2</td>\n",
              "      <td>2287500</td>\n",
              "      <td>2287500</td>\n",
              "      <td>96.3498079760595</td>\n",
              "      <td>96.349808</td>\n",
              "      <td>14</td>\n",
              "      <td>0</td>\n",
              "      <td>2204001</td>\n",
              "      <td>2.2875</td>\n",
              "      <td>2.204001</td>\n",
              "      <td>0.083499</td>\n",
              "    </tr>\n",
              "    <tr>\n",
              "      <th>2</th>\n",
              "      <td>229</td>\n",
              "      <td>Control</td>\n",
              "      <td>Cage</td>\n",
              "      <td>1</td>\n",
              "      <td>C2-1-3</td>\n",
              "      <td>2</td>\n",
              "      <td>1</td>\n",
              "      <td>3</td>\n",
              "      <td>87500</td>\n",
              "      <td>87500</td>\n",
              "      <td>98.75</td>\n",
              "      <td>98.750000</td>\n",
              "      <td>14</td>\n",
              "      <td>0</td>\n",
              "      <td>86406</td>\n",
              "      <td>0.0875</td>\n",
              "      <td>0.086406</td>\n",
              "      <td>0.001094</td>\n",
              "    </tr>\n",
              "    <tr>\n",
              "      <th>3</th>\n",
              "      <td>230</td>\n",
              "      <td>Control</td>\n",
              "      <td>Cage</td>\n",
              "      <td>1</td>\n",
              "      <td>C2-1-4</td>\n",
              "      <td>2</td>\n",
              "      <td>1</td>\n",
              "      <td>4</td>\n",
              "      <td>1875000</td>\n",
              "      <td>1875000</td>\n",
              "      <td>93.2874208336941</td>\n",
              "      <td>93.287421</td>\n",
              "      <td>14</td>\n",
              "      <td>0</td>\n",
              "      <td>1749139</td>\n",
              "      <td>1.8750</td>\n",
              "      <td>1.749139</td>\n",
              "      <td>0.125861</td>\n",
              "    </tr>\n",
              "    <tr>\n",
              "      <th>4</th>\n",
              "      <td>231</td>\n",
              "      <td>Control</td>\n",
              "      <td>Cage</td>\n",
              "      <td>1</td>\n",
              "      <td>C2-1-5</td>\n",
              "      <td>2</td>\n",
              "      <td>1</td>\n",
              "      <td>5</td>\n",
              "      <td>1587500</td>\n",
              "      <td>1587500</td>\n",
              "      <td>97.7925061050061</td>\n",
              "      <td>97.792506</td>\n",
              "      <td>14</td>\n",
              "      <td>0</td>\n",
              "      <td>1552456</td>\n",
              "      <td>1.5875</td>\n",
              "      <td>1.552456</td>\n",
              "      <td>0.035044</td>\n",
              "    </tr>\n",
              "  </tbody>\n",
              "</table>\n",
              "</div>"
            ],
            "text/plain": [
              "   Specimen Treatment  ... Alive Sperm Millions  Dead Sperm Millions\n",
              "0       227   Control  ...             2.079617             0.070383\n",
              "1       228   Control  ...             2.204001             0.083499\n",
              "2       229   Control  ...             0.086406             0.001094\n",
              "3       230   Control  ...             1.749139             0.125861\n",
              "4       231   Control  ...             1.552456             0.035044\n",
              "\n",
              "[5 rows x 18 columns]"
            ]
          },
          "metadata": {
            "tags": []
          },
          "execution_count": 84
        }
      ]
    },
    {
      "cell_type": "code",
      "metadata": {
        "id": "cgnLxMNlvCle"
      },
      "source": [
        "# subsetting sperma hidup yang untreated dan treated\n",
        "control = bee_sperm['Alive Sperm Millions'][bee_sperm['Treatment']=='Control']\n",
        "treated = bee_sperm['Alive Sperm Millions'][bee_sperm['Treatment']=='Pesticide']"
      ],
      "execution_count": null,
      "outputs": []
    },
    {
      "cell_type": "code",
      "metadata": {
        "colab": {
          "base_uri": "https://localhost:8080/",
          "height": 302
        },
        "id": "KQ_-CgoYwXV0",
        "outputId": "3a129fd7-6abf-4216-f684-85a8a49ef1ac"
      },
      "source": [
        "# plot ecdf\n",
        "x_control, y_control = ecdf(control)\n",
        "x_treated, y_treated = ecdf(treated)\n",
        "_ = plt.plot(x_control, y_control, marker='.', linestyle='none')\n",
        "_ = plt.plot(x_treated, y_treated, marker='.', linestyle='none')\n",
        "_ = plt.xlabel('milions of alive sperm per mL')\n",
        "_ = plt.xlabel('ECDF')\n",
        "_ = plt.legend(('control', 'treated'), loc='lower right')\n",
        "plt.margins(.02)\n",
        "plt.show()\n",
        "plt.clf()"
      ],
      "execution_count": null,
      "outputs": [
        {
          "output_type": "display_data",
          "data": {
            "image/png": "[encoded data removed]",
            "text/plain": [
              "<Figure size 432x288 with 1 Axes>"
            ]
          },
          "metadata": {
            "tags": []
          }
        },
        {
          "output_type": "display_data",
          "data": {
            "text/plain": [
              "<Figure size 432x288 with 0 Axes>"
            ]
          },
          "metadata": {
            "tags": []
          }
        }
      ]
    },
    {
      "cell_type": "markdown",
      "metadata": {
        "id": "tTiVwy6rzgny"
      },
      "source": [
        "ECDF menunjukan dengan jelas perbedaan antara treated dan untreated. Terlihat lebah yang dirawat memiliki lebih sedikit sperma hidup."
      ]
    },
    {
      "cell_type": "markdown",
      "metadata": {
        "id": "DnEjryx9z5PS"
      },
      "source": [
        "bootstrap hypothesis on bee sperm counts\n",
        "\n",
        "trus, uji hipotesis: rata-rata, male bees treated dengan insektisida neonicotinoid memiliki jumlah yang sama dibandingkan dengan untreated male bees. trus, ini akan menggunakan the difference of means as test statistic "
      ]
    },
    {
      "cell_type": "code",
      "metadata": {
        "id": "mPsqURGa1Ku4"
      },
      "source": [
        "# compute the difference in mean sperm count\n",
        "diff_means = diff_of_means(control, treated)"
      ],
      "execution_count": null,
      "outputs": []
    },
    {
      "cell_type": "code",
      "metadata": {
        "id": "3A0ERRhkwP9P"
      },
      "source": [
        "# compute mean of pooled data\n",
        "mean_count = np.mean(np.concatenate((control, treated)))\n",
        "\n",
        "# generate shifted data sets\n",
        "control_shifted = control - np.mean(control) + mean_count\n",
        "treated_shifted = treated - np.mean(treated) + mean_count"
      ],
      "execution_count": null,
      "outputs": []
    },
    {
      "cell_type": "code",
      "metadata": {
        "id": "myHtpy1d4bqy"
      },
      "source": [
        "# generate bootstrap replicates\n",
        "bs_reps_control = draw_bs_replicates(control_shifted,\n",
        "                                     np.mean,\n",
        "                                     size=10000)\n",
        "bs_reps_treated = draw_bs_replicates(treated_shifted,\n",
        "                                     np.mean,\n",
        "                                     size=10000)"
      ],
      "execution_count": null,
      "outputs": []
    },
    {
      "cell_type": "code",
      "metadata": {
        "id": "BRs1MS5g5BaS"
      },
      "source": [
        "# get replicates of difference of means\n",
        "bs_replicates = bs_reps_control - bs_reps_treated"
      ],
      "execution_count": null,
      "outputs": []
    },
    {
      "cell_type": "code",
      "metadata": {
        "colab": {
          "base_uri": "https://localhost:8080/"
        },
        "id": "4nTLHxU95bW1",
        "outputId": "c08678dc-cfaa-4501-dbc3-8ab9d1bea355"
      },
      "source": [
        "# compute p-value\n",
        "p = np.sum(bs_replicates >= diff_means) / len(bs_replicates)\n",
        "p"
      ],
      "execution_count": null,
      "outputs": [
        {
          "output_type": "execute_result",
          "data": {
            "text/plain": [
              "0.0"
            ]
          },
          "metadata": {
            "tags": []
          },
          "execution_count": 91
        }
      ]
    },
    {
      "cell_type": "markdown",
      "metadata": {
        "id": "IwNgaIvW6sov"
      },
      "source": [
        "p-value kecil, bahkan kemungkinan kurang dari 0.0001\n",
        "\n",
        "---"
      ]
    },
    {
      "cell_type": "markdown",
      "metadata": {
        "id": "r0IM3kzp6byL"
      },
      "source": [
        "# Putting it all together: a case study"
      ]
    },
    {
      "cell_type": "markdown",
      "metadata": {
        "id": "1Dx_ZbvLMg1I"
      },
      "source": [
        "our well-equipped toolbox\n",
        "\n",
        "\n",
        "*   Graphical and quantitative EDA\n",
        "*   Parameter estimation\n",
        "*   Confidance interval calculation\n",
        "*   Hypothesis testing\n",
        "\n"
      ]
    },
    {
      "cell_type": "markdown",
      "metadata": {
        "id": "KclfQg24NHy0"
      },
      "source": [
        "---\n",
        "\n",
        "we will do Grant's measurements fo beak length and beak depth. we will consider different aspects of the beak geometry, including how it varies over time, from species to species, and from parent of offspring.\n",
        "\n",
        "---\n",
        "for our first anaysis, you will investigate how the beak depth of Geospiaza scandens has changed over time. we will start with :\n",
        "\n",
        "\n",
        "*   EDA of beak depths in 1975 and 2012\n",
        "*   perrom a parameter estimation, with confidence intervals, of mean beak depth for those respective years\n",
        "*   do a hypothesis test investigating if the mean beak depth has changed from 1975 to 2012 (i.e did the beaks get deeper?)\n",
        "\n"
      ]
    },
    {
      "cell_type": "markdown",
      "metadata": {
        "id": "Sw1lwxkfUYIB"
      },
      "source": [
        "---\n",
        "beak depths of Darwin's finches has changed over time\n",
        "*   species Geospiza scandens\n",
        "*   also noticed that there was some interbreeding with another major species on Daphne Major, Geospiza fortis. These effects can lead to changes in the species over time"
      ]
    },
    {
      "cell_type": "code",
      "metadata": {
        "id": "MA5bS62b51pM"
      },
      "source": [
        "# import datasets\n",
        "df_1975 = pd.read_csv('/content/drive/My Drive/ColabNotebooks/Datasets/finch_beaks_1975.csv')\n",
        "df_2012 = pd.read_csv('/content/drive/My Drive/ColabNotebooks/Datasets/finch_beaks_2012.csv')"
      ],
      "execution_count": null,
      "outputs": []
    },
    {
      "cell_type": "code",
      "metadata": {
        "id": "9S7MFY3gKsj7"
      },
      "source": [
        "# the beak depth scandens over time\n",
        "bd_1975 = df_1975['Beak depth, mm'][df_1975['species']=='scandens']\n",
        "bd_2012 = df_2012['bdepth'][df_2012['species']=='scandens']\n",
        "\n",
        "# concate both of time\n",
        "bd_scandens = {'year' : [1975 if i < len(bd_1975) else 2012 for i in range(len(bd_1975)+len(bd_2012))],\n",
        "               'beak_depth' : np.concatenate((bd_1975, bd_2012))}\n",
        "\n",
        "# convert to data frame\n",
        "bd_scandens = pd.DataFrame(bd_scandens)"
      ],
      "execution_count": null,
      "outputs": []
    },
    {
      "cell_type": "markdown",
      "metadata": {
        "id": "fqnQFEzWVXB2"
      },
      "source": [
        "**EDA** of beak depths of the finch species Geospiza scandens"
      ]
    },
    {
      "cell_type": "code",
      "metadata": {
        "colab": {
          "base_uri": "https://localhost:8080/",
          "height": 285
        },
        "id": "sQyKAd-aT8bz",
        "outputId": "4ed0b62b-c7e8-4958-bab9-8d09fc2e025c"
      },
      "source": [
        "# bee swarm plot\n",
        "\n",
        "_ = sns.swarmplot(x='year', y='beak_depth', data=bd_scandens)\n",
        "_ = plt.xlabel('year')\n",
        "_ = plt.ylabel('beak depth (mm)')\n",
        "plt.show()"
      ],
      "execution_count": null,
      "outputs": [
        {
          "output_type": "display_data",
          "data": {
            "image/png": "[encoded data removed]",
            "text/plain": [
              "<Figure size 432x288 with 1 Axes>"
            ]
          },
          "metadata": {
            "tags": []
          }
        }
      ]
    },
    {
      "cell_type": "markdown",
      "metadata": {
        "id": "0ZvytjqZj-vz"
      },
      "source": [
        "it appears as though the mean dari tahun 2012 itu sedikit lebih tinggi, dan variance nya lebih besar."
      ]
    },
    {
      "cell_type": "code",
      "metadata": {
        "colab": {
          "base_uri": "https://localhost:8080/",
          "height": 285
        },
        "id": "4VxqD2gBmQIv",
        "outputId": "3169de72-8520-48a9-85da-45bd58805db8"
      },
      "source": [
        "# the ECDF\n",
        "\n",
        "x_1975, y_1975 = ecdf(bd_1975)\n",
        "x_2012, y_2012 = ecdf(bd_2012)\n",
        "\n",
        "_ = plt.plot(x_1975, y_1975, marker='.', linestyle='none')\n",
        "_ = plt.plot(x_2012, y_2012, marker='.', linestyle='none')\n",
        "plt.margins(0.02)\n",
        "_ = plt.xlabel('beak depth (mm)')\n",
        "_ = plt.ylabel('ECDF')\n",
        "_ = plt.legend(('1975', '2012'), loc='lower right')\n",
        "plt.show()"
      ],
      "execution_count": null,
      "outputs": [
        {
          "output_type": "display_data",
          "data": {
            "image/png": "[encoded data removed]",
            "text/plain": [
              "<Figure size 432x288 with 1 Axes>"
            ]
          },
          "metadata": {
            "tags": []
          }
        }
      ]
    },
    {
      "cell_type": "markdown",
      "metadata": {
        "id": "uwew42Runrc7"
      },
      "source": [
        "nah ini lebih jelas dilihat dengan ecdf, kalau mean-nya lebih besar pada 2012, dan variance-nya juga.\n",
        "\n",
        "---"
      ]
    },
    {
      "cell_type": "markdown",
      "metadata": {
        "id": "mOG8q_dtoH5f"
      },
      "source": [
        "**Parameter estimates of beak depth**\n",
        "\n",
        "estimasikan perbedaan dari mean beak depth dari scandens samples dari 1975 dan 2012, dan report a 95% confidance interval"
      ]
    },
    {
      "cell_type": "code",
      "metadata": {
        "id": "a0jk5lGun-GY"
      },
      "source": [
        "# compute the difference of mean observed\n",
        "mean_diff = diff_of_means(bd_2012, bd_1975)"
      ],
      "execution_count": null,
      "outputs": []
    },
    {
      "cell_type": "code",
      "metadata": {
        "id": "ohD7k-GPo-xW"
      },
      "source": [
        "# get bootstrap replicates dari means\n",
        "bs_replicates_1975 = draw_bs_replicates(bd_1975, np.mean, size=10000)\n",
        "bs_replicates_2012 = draw_bs_replicates(bd_2012, np.mean, size=10000)\n",
        "                                      "
      ],
      "execution_count": null,
      "outputs": []
    },
    {
      "cell_type": "code",
      "metadata": {
        "id": "Q-gKjBa3pd2k"
      },
      "source": [
        "# compute samples of difference of means\n",
        "bs_diff_replicates = bs_replicates_2012 - bs_replicates_1975"
      ],
      "execution_count": null,
      "outputs": []
    },
    {
      "cell_type": "code",
      "metadata": {
        "id": "2RZYIkRqp2wN"
      },
      "source": [
        "# compute 95% confidence interval\n",
        "conf_int = np.percentile(bs_diff_replicates, [2.5, 97.5])"
      ],
      "execution_count": null,
      "outputs": []
    },
    {
      "cell_type": "code",
      "metadata": {
        "colab": {
          "base_uri": "https://localhost:8080/"
        },
        "id": "RNIbqNl4qIpC",
        "outputId": "1b98cfe6-9895-44ff-bc30-b46c13059679"
      },
      "source": [
        "print(f'difference of means : {mean_diff} mm')\n",
        "print(f'95% confidence interval : {conf_int} mm')"
      ],
      "execution_count": null,
      "outputs": [
        {
          "output_type": "stream",
          "text": [
            "difference of means : 0.2262204724409429 mm\n",
            "95% confidence interval : [0.06224405 0.39327941] mm\n"
          ],
          "name": "stdout"
        }
      ]
    },
    {
      "cell_type": "markdown",
      "metadata": {
        "id": "PSAwfS9BqzWH"
      },
      "source": [
        "**Hypothesis test**, are beaks depper in 2012?"
      ]
    },
    {
      "cell_type": "markdown",
      "metadata": {
        "id": "irmGx0fk0Ko6"
      },
      "source": [
        "nah plot ecdf dan confidence interval tadi sebenarnya itu udah memperjelas kalau beak dari scandens have gotten deeper. tapi mungkinkah efek ini hanya kebetulan saja? dengan kata lain, berapa porobabilitas bahwa kita akan mendapatkan perbedaan in mean beak depth yang diamati jika mean-nya sama?"
      ]
    },
    {
      "cell_type": "markdown",
      "metadata": {
        "id": "XdMJBYbH1zcL"
      },
      "source": [
        "the hypotesting yang akan diuji ini bukalah bahwa the beak depths berasal dari distribusi yang sama. Tapi the hypothesis is thet the means are equal. Makanya ini tidak menggunakan permutation test, tapi menggunakan bootstrap sample dari data yang sudah shifted."
      ]
    },
    {
      "cell_type": "code",
      "metadata": {
        "id": "8hIS0dRz1V04"
      },
      "source": [
        "# samakan dulu meannya\n",
        "\n",
        "# computed mean combined dataset\n",
        "combined_mean = np.mean(np.concatenate((bd_1975, bd_2012)))\n",
        "\n",
        "# shift the samples\n",
        "bd_1975_shifted = bd_1975 - np.mean(bd_1975) + combined_mean\n",
        "bd_2012_shifted = bd_2012 - np.mean(bd_2012) + combined_mean"
      ],
      "execution_count": null,
      "outputs": []
    },
    {
      "cell_type": "code",
      "metadata": {
        "id": "JfoHWKmE4Hn4"
      },
      "source": [
        "# get bootstrap replicates of shifted data\n",
        "bs_replicates_1975 = draw_bs_replicates(bd_1975_shifted, np.mean, size=10000)\n",
        "bs_replicates_2012 = draw_bs_replicates(bd_2012_shifted, np.mean, size=10000)"
      ],
      "execution_count": null,
      "outputs": []
    },
    {
      "cell_type": "code",
      "metadata": {
        "id": "aCS1zqY7qqPl"
      },
      "source": [
        "# compute replicate of difference of means\n",
        "bs_diff_replicates = bs_replicates_2012 - bs_replicates_1975"
      ],
      "execution_count": null,
      "outputs": []
    },
    {
      "cell_type": "code",
      "metadata": {
        "colab": {
          "base_uri": "https://localhost:8080/"
        },
        "id": "eFvtu8wx5KOd",
        "outputId": "a7e163c2-69b5-470e-8bf1-428e2bc4d450"
      },
      "source": [
        "# compute p-value\n",
        "p = np.sum(bs_diff_replicates >= mean_diff) / len(bs_diff_replicates)\n",
        "p"
      ],
      "execution_count": null,
      "outputs": [
        {
          "output_type": "execute_result",
          "data": {
            "text/plain": [
              "0.0042"
            ]
          },
          "metadata": {
            "tags": []
          },
          "execution_count": 104
        }
      ]
    },
    {
      "cell_type": "markdown",
      "metadata": {
        "id": "n8f4bTHT6Ajg"
      },
      "source": [
        "nah karena p-value nya 0.0038 ini kecil, ini menunjukkan bahwa there is a statistical significant difference. Tapi yang lebih penting itu mengetahui betapa berbedanya mereka. Kan sebelumnya didapat 0.2 mm antar mean. ini yang harus dikaitkan dengan signifikansi statistik. berubah 0.2 dalam 37 tahun(2012-1975) sangat substansial by evolutionary standars. jika terus berubah pada kecepatan yang sama, the beak depth akan berlipat ganda dalam 400 tahun\n",
        "\n",
        "---"
      ]
    },
    {
      "cell_type": "markdown",
      "metadata": {
        "id": "M2paBZmhroxZ"
      },
      "source": [
        "**EDA of beak length and depth**"
      ]
    },
    {
      "cell_type": "code",
      "metadata": {
        "id": "wCK5NE2ZtcKB"
      },
      "source": [
        "# susetting beak length from 1975 and 2012\n",
        "bl_1975 = df_1975['Beak length, mm'][df_1975['species']=='scandens']\n",
        "bl_2012 = df_2012['blength'][df_2012['species']=='scandens']"
      ],
      "execution_count": null,
      "outputs": []
    },
    {
      "cell_type": "code",
      "metadata": {
        "colab": {
          "base_uri": "https://localhost:8080/",
          "height": 285
        },
        "id": "LNlAkfNlt9FO",
        "outputId": "5a50b7d6-ee9c-4517-f2a5-a85eccc034d3"
      },
      "source": [
        "# make scatter plots of 1975 and 2012 data\n",
        "\n",
        "_ = plt.plot(bl_1975, bd_1975, marker='.', linestyle='none',\n",
        "             color='blue', alpha=0.5)\n",
        "_ = plt.plot(bl_2012, bd_2012, marker='.', linestyle='none',\n",
        "             color='red', alpha=0.5)\n",
        "\n",
        "_ = plt.xlabel('beak length (mm')\n",
        "_ = plt.ylabel('beak depth (mm')\n",
        "_ = plt.legend(('1975', '2012'), loc='upper left')\n",
        "\n",
        "plt.show()"
      ],
      "execution_count": null,
      "outputs": [
        {
          "output_type": "display_data",
          "data": {
            "image/png": "[encoded data removed]",
            "text/plain": [
              "<Figure size 432x288 with 1 Axes>"
            ]
          },
          "metadata": {
            "tags": []
          }
        }
      ]
    },
    {
      "cell_type": "markdown",
      "metadata": {
        "id": "uRHQEmSvvudx"
      },
      "source": [
        "kalau dilihat that beaks became shorter and depper\n",
        "\n",
        "---"
      ]
    },
    {
      "cell_type": "markdown",
      "metadata": {
        "id": "CU0El4c7w6c_"
      },
      "source": [
        "Perform a **linear regression** for both them and pairs bootstrap estimates for the regression parameters. Perform 95% confidence interval on the slope and intercept of the regression line"
      ]
    },
    {
      "cell_type": "code",
      "metadata": {
        "id": "BHNCKKc9vj57"
      },
      "source": [
        "# compute the linear regression\n",
        "slope_1975, intercept_1975 = np.polyfit(bl_1975, bd_1975, 1)\n",
        "slope_2012, intercept_2012 = np.polyfit(bl_2012, bd_2012, 1)"
      ],
      "execution_count": null,
      "outputs": []
    },
    {
      "cell_type": "code",
      "metadata": {
        "id": "vtQoEBfTy32n"
      },
      "source": [
        "# perform pairs bootstrap fo the linear regression\n",
        "bs_slope_reps_1975, bs_intercept_reps_1975 = draw_bs_pair_linreg(np.array(bl_1975),\n",
        "                                                                 np.array(bd_1975),\n",
        "                                                                 size=1000)\n",
        "bs_slope_reps_2012, bs_intercept_reps_2012 = draw_bs_pair_linreg(np.array(bl_2012),\n",
        "                                                                 np.array(bd_2012),\n",
        "                                                                 size=1000)"
      ],
      "execution_count": null,
      "outputs": []
    },
    {
      "cell_type": "code",
      "metadata": {
        "id": "okECB1mQ0Tss"
      },
      "source": [
        "# compute the confidence intervals of slopes and intercept\n",
        "\n",
        "slope_conf_int_1975 = np.percentile(bs_slope_reps_1975, [2.5, 97.5])\n",
        "slope_conf_int_2012 = np.percentile(bs_slope_reps_2012, [2.5, 97.5])\n",
        "\n",
        "intercept_conf_int_1975 = np.percentile(bs_intercept_reps_1975, [2.5, 97.5])\n",
        "intercept_conf_int_2012 = np.percentile(bs_intercept_reps_2012, [2.5, 97.5])"
      ],
      "execution_count": null,
      "outputs": []
    },
    {
      "cell_type": "code",
      "metadata": {
        "colab": {
          "base_uri": "https://localhost:8080/"
        },
        "id": "UJBAaicZy5RW",
        "outputId": "04ffb456-69de-4ce5-8de0-efe9c554c065"
      },
      "source": [
        "print('1975: slope =', slope_1975,\n",
        "      'conf int =', slope_conf_int_1975)\n",
        "print('1975: intercept =', intercept_1975,\n",
        "      'conf int =', intercept_conf_int_1975)\n",
        "print('2012: slope =', slope_2012,\n",
        "      'conf int =', slope_conf_int_2012)\n",
        "print('2012: intercept =', intercept_2012,\n",
        "      'conf int =', intercept_conf_int_2012)"
      ],
      "execution_count": null,
      "outputs": [
        {
          "output_type": "stream",
          "text": [
            "1975: slope = 0.4652051691605937 conf int = [0.32747781 0.59843284]\n",
            "1975: intercept = 2.3908752365842263 conf int = [0.5457105 4.3344776]\n",
            "2012: slope = 0.462630358835313 conf int = [0.34333843 0.59670815]\n",
            "2012: intercept = 2.9772474982360198 conf int = [1.20126462 4.58166332]\n"
          ],
          "name": "stdout"
        }
      ]
    },
    {
      "cell_type": "markdown",
      "metadata": {
        "id": "zQ4A_Wk34zhN"
      },
      "source": [
        "bisa dilihat, sepertinya memiliki slope(kemiringan) yang sama tapi intercept(perpotongan) yang berbeda\n"
      ]
    },
    {
      "cell_type": "code",
      "metadata": {
        "colab": {
          "base_uri": "https://localhost:8080/",
          "height": 285
        },
        "id": "_iOnh3Po5J8U",
        "outputId": "e5279e22-a068-49af-c0d3-e89027958a06"
      },
      "source": [
        "# display the linear regression result dengan 100 sample over time\n",
        "\n",
        "# make scatter plot\n",
        "_ = plt.plot(bl_1975, bd_1975, marker='.', linestyle='none', color='blue', alpha=0.5)\n",
        "_ = plt.plot(bl_2012, bd_2012, marker='.', linestyle='none', color='red', alpha=0.5)\n",
        "\n",
        "_ = plt.xlabel('beak length (mm)')\n",
        "_ = plt.ylabel('beak depth (mm)')\n",
        "_ = plt.legend(('1975', '2012'), loc='upper left')\n",
        "\n",
        "# generate x value for bootstrap lines (strat from min value to max value)\n",
        "x = np.array([10, 17])\n",
        "\n",
        "# plot the bootstrap lines\n",
        "for i in range(100):\n",
        "  y_1975 = bs_slope_reps_1975[i] * x + bs_intercept_reps_1975[i]\n",
        "  _ = plt.plot(x, y_1975, linewidth=0.5, alpha=0.2, color='blue')\n",
        "\n",
        "  y_2012 = bs_slope_reps_2012[i] * x + bs_intercept_reps_2012[i]\n",
        "  _ = plt.plot(x, y_2012, linewidth=0.5, alpha=0.2, color='red')\n",
        "\n",
        "plt.show()"
      ],
      "execution_count": null,
      "outputs": [
        {
          "output_type": "display_data",
          "data": {
            "image/png": "[encoded data removed]",
            "text/plain": [
              "<Figure size 432x288 with 1 Axes>"
            ]
          },
          "metadata": {
            "tags": []
          }
        }
      ]
    },
    {
      "cell_type": "markdown",
      "metadata": {
        "id": "KJsQ8sCH8Cwp"
      },
      "source": [
        "nah dari linear regrssion memberikan informasi the beak geometry, the slope yang sama pada tahun 1975 dan 2012 menunjukkan bahwa untuk setiap milimeter yang diperoleh pada beak length, the beak depth bertambah sekitar setengah milimeter dalam dua tahun tersebut.\n",
        "\n",
        "---"
      ]
    },
    {
      "cell_type": "markdown",
      "metadata": {
        "id": "6MzXKMi79UAV"
      },
      "source": [
        "nah kalau tertarik pada the shape of the beak, bisa dibandingkan rasio beak length dengan beak depth."
      ]
    },
    {
      "cell_type": "code",
      "metadata": {
        "id": "VAmGPgC_8BuD"
      },
      "source": [
        "# compute length to depth ratios\n",
        "ratio_1975 = bl_1975 / bd_1975\n",
        "ratio_2012 = bl_2012 / bd_2012\n",
        "\n",
        "# compute means\n",
        "mean_ratio_1975 = np.mean(ratio_1975)\n",
        "mean_ratio_2012 = np.mean(ratio_2012)"
      ],
      "execution_count": null,
      "outputs": []
    },
    {
      "cell_type": "code",
      "metadata": {
        "id": "apIOgKIB-uoR"
      },
      "source": [
        "# generate bootstarp replicates of the means\n",
        "bs_ratio_replicates_1975 = draw_bs_replicates(ratio_1975, np.mean, size=10000) \n",
        "bs_ratio_replicates_2012 = draw_bs_replicates(ratio_2012, np.mean, size=10000) "
      ],
      "execution_count": null,
      "outputs": []
    },
    {
      "cell_type": "code",
      "metadata": {
        "id": "M1OtK665_S49"
      },
      "source": [
        "# compute the 99% confidence intervals\n",
        "conf_int_1975 = np.percentile(bs_ratio_replicates_1975, [0.5, 99.5])\n",
        "conf_int_2012 = np.percentile(bs_ratio_replicates_2012, [0.5, 99.5])"
      ],
      "execution_count": null,
      "outputs": []
    },
    {
      "cell_type": "code",
      "metadata": {
        "colab": {
          "base_uri": "https://localhost:8080/"
        },
        "id": "nA9aT8c__qKn",
        "outputId": "a3dec6ea-a8a8-49cf-99cf-13f277e0d125"
      },
      "source": [
        "print('1975: mean ratio =', mean_ratio_1975,\n",
        "      'conf int =', conf_int_1975)\n",
        "print('2012: mean ratio =', mean_ratio_2012,\n",
        "      'conf int =', conf_int_2012)"
      ],
      "execution_count": null,
      "outputs": [
        {
          "output_type": "stream",
          "text": [
            "1975: mean ratio = 1.5788823771858533 conf int = [1.55724331 1.60110403]\n",
            "2012: mean ratio = 1.4658342276847778 conf int = [1.44534578 1.48723473]\n"
          ],
          "name": "stdout"
        }
      ]
    },
    {
      "cell_type": "markdown",
      "metadata": {
        "id": "vQNw5pw5ABcT"
      },
      "source": [
        "The mean beak length-to-depth ratio decreased by about 0.1, or 7%, from 1975 to 2012. The 99% confidence intervals are not even close to overlapping, so this is a real change. The beak shape changed.\n",
        "\n",
        "---"
      ]
    }
  ]
}